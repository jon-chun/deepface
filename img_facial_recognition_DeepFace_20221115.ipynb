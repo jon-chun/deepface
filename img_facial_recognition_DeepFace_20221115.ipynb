{
  "cells": [
    {
      "cell_type": "markdown",
      "metadata": {
        "id": "atRLS09jLI3t"
      },
      "source": [
        "# Setup and Config"
      ]
    },
    {
      "cell_type": "code",
      "execution_count": null,
      "metadata": {
        "colab": {
          "base_uri": "https://localhost:8080/"
        },
        "id": "wURDc6AAFrYD",
        "outputId": "cb398684-8df1-4f14-b0c4-1ab82e251d97"
      },
      "outputs": [
        {
          "name": "stdout",
          "output_type": "stream",
          "text": [
            "Looking in indexes: https://pypi.org/simple, https://us-python.pkg.dev/colab-wheels/public/simple/\n",
            "Collecting deepface\n",
            "  Downloading deepface-0.0.75-py3-none-any.whl (65 kB)\n",
            "\u001b[K     |████████████████████████████████| 65 kB 2.3 MB/s \n",
            "\u001b[?25hRequirement already satisfied: Flask>=1.1.2 in /usr/local/lib/python3.7/dist-packages (from deepface) (1.1.4)\n",
            "Collecting fire>=0.4.0\n",
            "  Downloading fire-0.4.0.tar.gz (87 kB)\n",
            "\u001b[K     |████████████████████████████████| 87 kB 5.1 MB/s \n",
            "\u001b[?25hRequirement already satisfied: opencv-python>=4.5.5.64 in /usr/local/lib/python3.7/dist-packages (from deepface) (4.6.0.66)\n",
            "Requirement already satisfied: gdown>=3.10.1 in /usr/local/lib/python3.7/dist-packages (from deepface) (4.4.0)\n",
            "Collecting retina-face>=0.0.1\n",
            "  Downloading retina_face-0.0.12-py3-none-any.whl (15 kB)\n",
            "Requirement already satisfied: tensorflow>=1.9.0 in /usr/local/lib/python3.7/dist-packages (from deepface) (2.9.2)\n",
            "Collecting mtcnn>=0.1.0\n",
            "  Downloading mtcnn-0.1.1-py3-none-any.whl (2.3 MB)\n",
            "\u001b[K     |████████████████████████████████| 2.3 MB 50.0 MB/s \n",
            "\u001b[?25hRequirement already satisfied: keras>=2.2.0 in /usr/local/lib/python3.7/dist-packages (from deepface) (2.9.0)\n",
            "Requirement already satisfied: Pillow>=5.2.0 in /usr/local/lib/python3.7/dist-packages (from deepface) (7.1.2)\n",
            "Requirement already satisfied: numpy>=1.14.0 in /usr/local/lib/python3.7/dist-packages (from deepface) (1.21.6)\n",
            "Requirement already satisfied: tqdm>=4.30.0 in /usr/local/lib/python3.7/dist-packages (from deepface) (4.64.1)\n",
            "Requirement already satisfied: pandas>=0.23.4 in /usr/local/lib/python3.7/dist-packages (from deepface) (1.3.5)\n",
            "Requirement already satisfied: six in /usr/local/lib/python3.7/dist-packages (from fire>=0.4.0->deepface) (1.15.0)\n",
            "Requirement already satisfied: termcolor in /usr/local/lib/python3.7/dist-packages (from fire>=0.4.0->deepface) (2.1.0)\n",
            "Requirement already satisfied: Werkzeug<2.0,>=0.15 in /usr/local/lib/python3.7/dist-packages (from Flask>=1.1.2->deepface) (1.0.1)\n",
            "Requirement already satisfied: itsdangerous<2.0,>=0.24 in /usr/local/lib/python3.7/dist-packages (from Flask>=1.1.2->deepface) (1.1.0)\n",
            "Requirement already satisfied: click<8.0,>=5.1 in /usr/local/lib/python3.7/dist-packages (from Flask>=1.1.2->deepface) (7.1.2)\n",
            "Requirement already satisfied: Jinja2<3.0,>=2.10.1 in /usr/local/lib/python3.7/dist-packages (from Flask>=1.1.2->deepface) (2.11.3)\n",
            "Requirement already satisfied: beautifulsoup4 in /usr/local/lib/python3.7/dist-packages (from gdown>=3.10.1->deepface) (4.6.3)\n",
            "Requirement already satisfied: requests[socks] in /usr/local/lib/python3.7/dist-packages (from gdown>=3.10.1->deepface) (2.23.0)\n",
            "Requirement already satisfied: filelock in /usr/local/lib/python3.7/dist-packages (from gdown>=3.10.1->deepface) (3.8.0)\n",
            "Requirement already satisfied: MarkupSafe>=0.23 in /usr/local/lib/python3.7/dist-packages (from Jinja2<3.0,>=2.10.1->Flask>=1.1.2->deepface) (2.0.1)\n",
            "Requirement already satisfied: python-dateutil>=2.7.3 in /usr/local/lib/python3.7/dist-packages (from pandas>=0.23.4->deepface) (2.8.2)\n",
            "Requirement already satisfied: pytz>=2017.3 in /usr/local/lib/python3.7/dist-packages (from pandas>=0.23.4->deepface) (2022.6)\n",
            "Requirement already satisfied: flatbuffers<2,>=1.12 in /usr/local/lib/python3.7/dist-packages (from tensorflow>=1.9.0->deepface) (1.12)\n",
            "Requirement already satisfied: grpcio<2.0,>=1.24.3 in /usr/local/lib/python3.7/dist-packages (from tensorflow>=1.9.0->deepface) (1.50.0)\n",
            "Requirement already satisfied: packaging in /usr/local/lib/python3.7/dist-packages (from tensorflow>=1.9.0->deepface) (21.3)\n",
            "Requirement already satisfied: absl-py>=1.0.0 in /usr/local/lib/python3.7/dist-packages (from tensorflow>=1.9.0->deepface) (1.3.0)\n",
            "Requirement already satisfied: h5py>=2.9.0 in /usr/local/lib/python3.7/dist-packages (from tensorflow>=1.9.0->deepface) (3.1.0)\n",
            "Requirement already satisfied: google-pasta>=0.1.1 in /usr/local/lib/python3.7/dist-packages (from tensorflow>=1.9.0->deepface) (0.2.0)\n",
            "Requirement already satisfied: wrapt>=1.11.0 in /usr/local/lib/python3.7/dist-packages (from tensorflow>=1.9.0->deepface) (1.14.1)\n",
            "Requirement already satisfied: astunparse>=1.6.0 in /usr/local/lib/python3.7/dist-packages (from tensorflow>=1.9.0->deepface) (1.6.3)\n",
            "Requirement already satisfied: gast<=0.4.0,>=0.2.1 in /usr/local/lib/python3.7/dist-packages (from tensorflow>=1.9.0->deepface) (0.4.0)\n",
            "Requirement already satisfied: opt-einsum>=2.3.2 in /usr/local/lib/python3.7/dist-packages (from tensorflow>=1.9.0->deepface) (3.3.0)\n",
            "Requirement already satisfied: protobuf<3.20,>=3.9.2 in /usr/local/lib/python3.7/dist-packages (from tensorflow>=1.9.0->deepface) (3.19.6)\n",
            "Requirement already satisfied: setuptools in /usr/local/lib/python3.7/dist-packages (from tensorflow>=1.9.0->deepface) (57.4.0)\n",
            "Requirement already satisfied: typing-extensions>=3.6.6 in /usr/local/lib/python3.7/dist-packages (from tensorflow>=1.9.0->deepface) (4.1.1)\n",
            "Requirement already satisfied: tensorflow-estimator<2.10.0,>=2.9.0rc0 in /usr/local/lib/python3.7/dist-packages (from tensorflow>=1.9.0->deepface) (2.9.0)\n",
            "Requirement already satisfied: libclang>=13.0.0 in /usr/local/lib/python3.7/dist-packages (from tensorflow>=1.9.0->deepface) (14.0.6)\n",
            "Requirement already satisfied: tensorflow-io-gcs-filesystem>=0.23.1 in /usr/local/lib/python3.7/dist-packages (from tensorflow>=1.9.0->deepface) (0.27.0)\n",
            "Requirement already satisfied: keras-preprocessing>=1.1.1 in /usr/local/lib/python3.7/dist-packages (from tensorflow>=1.9.0->deepface) (1.1.2)\n",
            "Requirement already satisfied: tensorboard<2.10,>=2.9 in /usr/local/lib/python3.7/dist-packages (from tensorflow>=1.9.0->deepface) (2.9.1)\n",
            "Requirement already satisfied: wheel<1.0,>=0.23.0 in /usr/local/lib/python3.7/dist-packages (from astunparse>=1.6.0->tensorflow>=1.9.0->deepface) (0.38.3)\n",
            "Requirement already satisfied: cached-property in /usr/local/lib/python3.7/dist-packages (from h5py>=2.9.0->tensorflow>=1.9.0->deepface) (1.5.2)\n",
            "Requirement already satisfied: tensorboard-plugin-wit>=1.6.0 in /usr/local/lib/python3.7/dist-packages (from tensorboard<2.10,>=2.9->tensorflow>=1.9.0->deepface) (1.8.1)\n",
            "Requirement already satisfied: tensorboard-data-server<0.7.0,>=0.6.0 in /usr/local/lib/python3.7/dist-packages (from tensorboard<2.10,>=2.9->tensorflow>=1.9.0->deepface) (0.6.1)\n",
            "Requirement already satisfied: google-auth<3,>=1.6.3 in /usr/local/lib/python3.7/dist-packages (from tensorboard<2.10,>=2.9->tensorflow>=1.9.0->deepface) (2.14.1)\n",
            "Requirement already satisfied: google-auth-oauthlib<0.5,>=0.4.1 in /usr/local/lib/python3.7/dist-packages (from tensorboard<2.10,>=2.9->tensorflow>=1.9.0->deepface) (0.4.6)\n",
            "Requirement already satisfied: markdown>=2.6.8 in /usr/local/lib/python3.7/dist-packages (from tensorboard<2.10,>=2.9->tensorflow>=1.9.0->deepface) (3.4.1)\n",
            "Requirement already satisfied: rsa<5,>=3.1.4 in /usr/local/lib/python3.7/dist-packages (from google-auth<3,>=1.6.3->tensorboard<2.10,>=2.9->tensorflow>=1.9.0->deepface) (4.9)\n",
            "Requirement already satisfied: pyasn1-modules>=0.2.1 in /usr/local/lib/python3.7/dist-packages (from google-auth<3,>=1.6.3->tensorboard<2.10,>=2.9->tensorflow>=1.9.0->deepface) (0.2.8)\n",
            "Requirement already satisfied: cachetools<6.0,>=2.0.0 in /usr/local/lib/python3.7/dist-packages (from google-auth<3,>=1.6.3->tensorboard<2.10,>=2.9->tensorflow>=1.9.0->deepface) (5.2.0)\n",
            "Requirement already satisfied: requests-oauthlib>=0.7.0 in /usr/local/lib/python3.7/dist-packages (from google-auth-oauthlib<0.5,>=0.4.1->tensorboard<2.10,>=2.9->tensorflow>=1.9.0->deepface) (1.3.1)\n",
            "Requirement already satisfied: importlib-metadata>=4.4 in /usr/local/lib/python3.7/dist-packages (from markdown>=2.6.8->tensorboard<2.10,>=2.9->tensorflow>=1.9.0->deepface) (4.13.0)\n",
            "Requirement already satisfied: zipp>=0.5 in /usr/local/lib/python3.7/dist-packages (from importlib-metadata>=4.4->markdown>=2.6.8->tensorboard<2.10,>=2.9->tensorflow>=1.9.0->deepface) (3.10.0)\n",
            "Requirement already satisfied: pyasn1<0.5.0,>=0.4.6 in /usr/local/lib/python3.7/dist-packages (from pyasn1-modules>=0.2.1->google-auth<3,>=1.6.3->tensorboard<2.10,>=2.9->tensorflow>=1.9.0->deepface) (0.4.8)\n",
            "Requirement already satisfied: chardet<4,>=3.0.2 in /usr/local/lib/python3.7/dist-packages (from requests[socks]->gdown>=3.10.1->deepface) (3.0.4)\n",
            "Requirement already satisfied: idna<3,>=2.5 in /usr/local/lib/python3.7/dist-packages (from requests[socks]->gdown>=3.10.1->deepface) (2.10)\n",
            "Requirement already satisfied: certifi>=2017.4.17 in /usr/local/lib/python3.7/dist-packages (from requests[socks]->gdown>=3.10.1->deepface) (2022.9.24)\n",
            "Requirement already satisfied: urllib3!=1.25.0,!=1.25.1,<1.26,>=1.21.1 in /usr/local/lib/python3.7/dist-packages (from requests[socks]->gdown>=3.10.1->deepface) (1.24.3)\n",
            "Requirement already satisfied: oauthlib>=3.0.0 in /usr/local/lib/python3.7/dist-packages (from requests-oauthlib>=0.7.0->google-auth-oauthlib<0.5,>=0.4.1->tensorboard<2.10,>=2.9->tensorflow>=1.9.0->deepface) (3.2.2)\n",
            "Requirement already satisfied: pyparsing!=3.0.5,>=2.0.2 in /usr/local/lib/python3.7/dist-packages (from packaging->tensorflow>=1.9.0->deepface) (3.0.9)\n",
            "Requirement already satisfied: PySocks!=1.5.7,>=1.5.6 in /usr/local/lib/python3.7/dist-packages (from requests[socks]->gdown>=3.10.1->deepface) (1.7.1)\n",
            "Building wheels for collected packages: fire\n",
            "  Building wheel for fire (setup.py) ... \u001b[?25l\u001b[?25hdone\n",
            "  Created wheel for fire: filename=fire-0.4.0-py2.py3-none-any.whl size=115940 sha256=06572090d86c19001625f9e3e6fb58ba0a437b23e783ad7159cb56ffe00cb2c6\n",
            "  Stored in directory: /root/.cache/pip/wheels/8a/67/fb/2e8a12fa16661b9d5af1f654bd199366799740a85c64981226\n",
            "Successfully built fire\n",
            "Installing collected packages: retina-face, mtcnn, fire, deepface\n",
            "Successfully installed deepface-0.0.75 fire-0.4.0 mtcnn-0.1.1 retina-face-0.0.12\n"
          ]
        }
      ],
      "source": [
        "!pip install deepface"
      ]
    },
    {
      "cell_type": "code",
      "execution_count": null,
      "metadata": {
        "id": "pwcE072CxrjU"
      },
      "outputs": [],
      "source": [
        "import numpy as np\n",
        "import pandas as pd\n",
        "import matplotlib.pyplot as plt\n",
        "import seaborn as sns\n",
        "\n",
        "import os\n",
        "from pprint import pprint"
      ]
    },
    {
      "cell_type": "code",
      "execution_count": null,
      "metadata": {
        "colab": {
          "base_uri": "https://localhost:8080/"
        },
        "id": "VKAqB8tbGA_X",
        "outputId": "a7c8ae89-d862-4ff1-a541-067470f3db11"
      },
      "outputs": [
        {
          "name": "stdout",
          "output_type": "stream",
          "text": [
            "Directory  /root /.deepface created\n",
            "Directory  /root /.deepface/weights created\n"
          ]
        }
      ],
      "source": [
        "from deepface import DeepFace"
      ]
    },
    {
      "cell_type": "code",
      "execution_count": null,
      "metadata": {
        "id": "x9OjLzgpXqqr"
      },
      "outputs": [],
      "source": [
        "from IPython.core.interactiveshell import InteractiveShell\n",
        "InteractiveShell.ast_node_interactivity = \"all\"\n"
      ]
    },
    {
      "cell_type": "markdown",
      "metadata": {
        "id": "mYSejGqVTtjn"
      },
      "source": [
        "# Get Data"
      ]
    },
    {
      "cell_type": "code",
      "execution_count": null,
      "metadata": {
        "id": "JfsCkdnZH4GI"
      },
      "outputs": [],
      "source": [
        "# from google.colab import drive\n",
        "# drive.mount('/gdrive')"
      ]
    },
    {
      "cell_type": "code",
      "execution_count": null,
      "metadata": {
        "id": "RjtElbPIIGkD"
      },
      "outputs": [],
      "source": [
        "# %cd /gdrive/MyDrive/"
      ]
    },
    {
      "cell_type": "code",
      "execution_count": null,
      "metadata": {
        "colab": {
          "base_uri": "https://localhost:8080/"
        },
        "id": "kEQV5pcklnua",
        "outputId": "54c2196b-455a-4ebf-cdf1-2d3781c6646e"
      },
      "outputs": [
        {
          "name": "stdout",
          "output_type": "stream",
          "text": [
            "Cloning into 'playboy_covers'...\n",
            "remote: Enumerating objects: 5, done.\u001b[K\n",
            "remote: Counting objects: 100% (5/5), done.\u001b[K\n",
            "remote: Compressing objects: 100% (4/4), done.\u001b[K\n",
            "remote: Total 5 (delta 0), reused 0 (delta 0), pack-reused 0\u001b[K\n",
            "Unpacking objects: 100% (5/5), done.\n"
          ]
        }
      ],
      "source": [
        "!git clone https://github.com/jillnoorily/playboy_covers.git"
      ]
    },
    {
      "cell_type": "code",
      "execution_count": null,
      "metadata": {
        "colab": {
          "base_uri": "https://localhost:8080/"
        },
        "id": "oZtucbHxlnmE",
        "outputId": "e40fe8a8-61ee-4fab-a5f6-fd7e99cb206c"
      },
      "outputs": [
        {
          "name": "stdout",
          "output_type": "stream",
          "text": [
            "/content/playboy_covers\n"
          ]
        }
      ],
      "source": [
        "%cd playboy_covers"
      ]
    },
    {
      "cell_type": "code",
      "execution_count": null,
      "metadata": {
        "colab": {
          "base_uri": "https://localhost:8080/"
        },
        "id": "5KH-fgcdlnbs",
        "outputId": "7553bd1d-142a-458d-efb7-a6df7bdd562e"
      },
      "outputs": [
        {
          "name": "stdout",
          "output_type": "stream",
          "text": [
            "total 24\n",
            "drwxr-xr-x 3 root root 4096 Nov 11 01:27 .\n",
            "drwxr-xr-x 1 root root 4096 Nov 11 01:27 ..\n",
            "drwxr-xr-x 8 root root 4096 Nov 11 01:27 .git\n",
            "-rw-r--r-- 1 root root 1799 Nov 11 01:27 .gitignore\n",
            "-rw-r--r-- 1 root root 1068 Nov 11 01:27 LICENSE\n",
            "-rw-r--r-- 1 root root   43 Nov 11 01:27 README.md\n"
          ]
        }
      ],
      "source": [
        "!ls -al"
      ]
    },
    {
      "cell_type": "code",
      "execution_count": null,
      "metadata": {
        "id": "OE64T7WpvIou"
      },
      "outputs": [],
      "source": [
        "!mkdir data"
      ]
    },
    {
      "cell_type": "code",
      "execution_count": null,
      "metadata": {
        "colab": {
          "base_uri": "https://localhost:8080/"
        },
        "id": "0696nv6qvONX",
        "outputId": "63a6d912-76cd-4e7f-8cff-016986b4e2a8"
      },
      "outputs": [
        {
          "name": "stdout",
          "output_type": "stream",
          "text": [
            "/content/playboy_covers/data\n"
          ]
        }
      ],
      "source": [
        "%cd data"
      ]
    },
    {
      "cell_type": "code",
      "execution_count": null,
      "metadata": {
        "colab": {
          "base_uri": "https://localhost:8080/"
        },
        "id": "A7wR2uXnvPo-",
        "outputId": "cdebb3f7-dd6a-4763-a5f9-fdc82d213703"
      },
      "outputs": [
        {
          "name": "stdout",
          "output_type": "stream",
          "text": [
            "Cloning into 'playboycovers_1950s'...\n",
            "remote: Enumerating objects: 90, done.\u001b[K\n",
            "remote: Counting objects:  20% (1/5)\u001b[K\rremote: Counting objects:  40% (2/5)\u001b[K\rremote: Counting objects:  60% (3/5)\u001b[K\rremote: Counting objects:  80% (4/5)\u001b[K\rremote: Counting objects: 100% (5/5)\u001b[K\rremote: Counting objects: 100% (5/5), done.\u001b[K\n",
            "remote: Compressing objects: 100% (4/4), done.\u001b[K\n",
            "remote: Total 90 (delta 0), reused 5 (delta 0), pack-reused 85\u001b[K\n",
            "Unpacking objects: 100% (90/90), done.\n"
          ]
        }
      ],
      "source": [
        "!git clone https://github.com/jillnoorily/playboycovers_1950s.git"
      ]
    },
    {
      "cell_type": "code",
      "execution_count": null,
      "metadata": {
        "colab": {
          "base_uri": "https://localhost:8080/"
        },
        "id": "3ZVuxIQJvPmF",
        "outputId": "c518dd69-911c-49f7-ec9d-3154a00ee97a"
      },
      "outputs": [
        {
          "name": "stdout",
          "output_type": "stream",
          "text": [
            "Cloning into 'playboycovers_1960s'...\n",
            "remote: Enumerating objects: 146, done.\u001b[K\n",
            "remote: Counting objects:  20% (1/5)\u001b[K\rremote: Counting objects:  40% (2/5)\u001b[K\rremote: Counting objects:  60% (3/5)\u001b[K\rremote: Counting objects:  80% (4/5)\u001b[K\rremote: Counting objects: 100% (5/5)\u001b[K\rremote: Counting objects: 100% (5/5), done.\u001b[K\n",
            "remote: Compressing objects: 100% (4/4), done.\u001b[K\n",
            "remote: Total 146 (delta 0), reused 5 (delta 0), pack-reused 141\u001b[K\n",
            "Receiving objects: 100% (146/146), 359.15 MiB | 47.25 MiB/s, done.\n",
            "Resolving deltas: 100% (8/8), done.\n"
          ]
        }
      ],
      "source": [
        "!git clone https://github.com/jillnoorily/playboycovers_1960s.git"
      ]
    },
    {
      "cell_type": "code",
      "execution_count": null,
      "metadata": {
        "colab": {
          "base_uri": "https://localhost:8080/"
        },
        "id": "U7pTfeKHvPjR",
        "outputId": "d754097d-ef13-4464-a236-892e8e9b82cc"
      },
      "outputs": [
        {
          "name": "stdout",
          "output_type": "stream",
          "text": [
            "Cloning into 'playboycovers_1970s'...\n",
            "remote: Enumerating objects: 139, done.\u001b[K\n",
            "remote: Counting objects:  20% (1/5)\u001b[K\rremote: Counting objects:  40% (2/5)\u001b[K\rremote: Counting objects:  60% (3/5)\u001b[K\rremote: Counting objects:  80% (4/5)\u001b[K\rremote: Counting objects: 100% (5/5)\u001b[K\rremote: Counting objects: 100% (5/5), done.\u001b[K\n",
            "remote: Compressing objects: 100% (4/4), done.\u001b[K\n",
            "remote: Total 139 (delta 0), reused 5 (delta 0), pack-reused 134\u001b[K\n",
            "Receiving objects: 100% (139/139), 345.68 MiB | 47.59 MiB/s, done.\n",
            "Resolving deltas: 100% (1/1), done.\n"
          ]
        }
      ],
      "source": [
        "!git clone https://github.com/jillnoorily/playboycovers_1970s.git"
      ]
    },
    {
      "cell_type": "code",
      "execution_count": null,
      "metadata": {
        "colab": {
          "base_uri": "https://localhost:8080/"
        },
        "id": "lPvlalF1vPgy",
        "outputId": "5d0df98b-915f-4f57-f80a-7464c6f4edab"
      },
      "outputs": [
        {
          "name": "stdout",
          "output_type": "stream",
          "text": [
            "Cloning into 'playboycovers_1980s'...\n",
            "remote: Enumerating objects: 139, done.\u001b[K\n",
            "remote: Counting objects: 100% (5/5), done.\u001b[K\n",
            "remote: Compressing objects: 100% (4/4), done.\u001b[K\n",
            "remote: Total 139 (delta 0), reused 5 (delta 0), pack-reused 134\u001b[K\n",
            "Receiving objects: 100% (139/139), 336.61 MiB | 47.01 MiB/s, done.\n",
            "Resolving deltas: 100% (1/1), done.\n"
          ]
        }
      ],
      "source": [
        "!git clone https://github.com/jillnoorily/playboycovers_1980s.git"
      ]
    },
    {
      "cell_type": "code",
      "execution_count": null,
      "metadata": {
        "colab": {
          "base_uri": "https://localhost:8080/"
        },
        "id": "fP8OvzLYvPdq",
        "outputId": "5b022da0-3b7e-44ef-ef5b-babbc485a734"
      },
      "outputs": [
        {
          "name": "stdout",
          "output_type": "stream",
          "text": [
            "Cloning into 'playboycovers_1990s'...\n",
            "remote: Enumerating objects: 141, done.\u001b[K\n",
            "remote: Counting objects:  20% (1/5)\u001b[K\rremote: Counting objects:  40% (2/5)\u001b[K\rremote: Counting objects:  60% (3/5)\u001b[K\rremote: Counting objects:  80% (4/5)\u001b[K\rremote: Counting objects: 100% (5/5)\u001b[K\rremote: Counting objects: 100% (5/5), done.\u001b[K\n",
            "remote: Compressing objects: 100% (4/4), done.\u001b[K\n",
            "remote: Total 141 (delta 0), reused 5 (delta 0), pack-reused 136\u001b[K\n",
            "Receiving objects: 100% (141/141), 313.44 MiB | 46.52 MiB/s, done.\n",
            "Resolving deltas: 100% (2/2), done.\n"
          ]
        }
      ],
      "source": [
        "!git clone https://github.com/jillnoorily/playboycovers_1990s.git"
      ]
    },
    {
      "cell_type": "code",
      "execution_count": null,
      "metadata": {
        "colab": {
          "base_uri": "https://localhost:8080/"
        },
        "id": "ccKJ49TDIGgs",
        "outputId": "db617cee-bf8e-4df3-be83-48d734e7f570"
      },
      "outputs": [
        {
          "name": "stdout",
          "output_type": "stream",
          "text": [
            "Cloning into 'playboycovers_2000s'...\n",
            "remote: Enumerating objects: 138, done.\u001b[K\n",
            "remote: Counting objects:  20% (1/5)\u001b[K\rremote: Counting objects:  40% (2/5)\u001b[K\rremote: Counting objects:  60% (3/5)\u001b[K\rremote: Counting objects:  80% (4/5)\u001b[K\rremote: Counting objects: 100% (5/5)\u001b[K\rremote: Counting objects: 100% (5/5), done.\u001b[K\n",
            "remote: Compressing objects: 100% (4/4), done.\u001b[K\n",
            "remote: Total 138 (delta 0), reused 5 (delta 0), pack-reused 133\u001b[K\n",
            "Receiving objects: 100% (138/138), 319.89 MiB | 46.79 MiB/s, done.\n",
            "Resolving deltas: 100% (1/1), done.\n"
          ]
        }
      ],
      "source": [
        "!git clone https://github.com/jillnoorily/playboycovers_2000s.git"
      ]
    },
    {
      "cell_type": "code",
      "execution_count": null,
      "metadata": {
        "colab": {
          "base_uri": "https://localhost:8080/"
        },
        "id": "b5QphqfsuVfc",
        "outputId": "891527a6-75fd-4fc1-9974-86e66d2572e1"
      },
      "outputs": [
        {
          "name": "stdout",
          "output_type": "stream",
          "text": [
            "Cloning into 'playboycovers_2010s'...\n",
            "remote: Enumerating objects: 107, done.\u001b[K\n",
            "remote: Counting objects:  20% (1/5)\u001b[K\rremote: Counting objects:  40% (2/5)\u001b[K\rremote: Counting objects:  60% (3/5)\u001b[K\rremote: Counting objects:  80% (4/5)\u001b[K\rremote: Counting objects: 100% (5/5)\u001b[K\rremote: Counting objects: 100% (5/5), done.\u001b[K\n",
            "remote: Compressing objects: 100% (4/4), done.\u001b[K\n",
            "remote: Total 107 (delta 0), reused 5 (delta 0), pack-reused 102\u001b[K\n",
            "Receiving objects: 100% (107/107), 224.79 MiB | 46.46 MiB/s, done.\n"
          ]
        }
      ],
      "source": [
        "!git clone https://github.com/jillnoorily/playboycovers_2010s.git"
      ]
    },
    {
      "cell_type": "code",
      "execution_count": null,
      "metadata": {
        "colab": {
          "base_uri": "https://localhost:8080/"
        },
        "id": "mGlwb_r5ujw5",
        "outputId": "dff3b021-7aa7-4157-960c-3559335cd4b0"
      },
      "outputs": [
        {
          "name": "stdout",
          "output_type": "stream",
          "text": [
            "Cloning into 'playboycovers_2020s'...\n",
            "remote: Enumerating objects: 11, done.\u001b[K\n",
            "remote: Counting objects: 100% (11/11), done.\u001b[K\n",
            "remote: Compressing objects: 100% (10/10), done.\u001b[K\n",
            "remote: Total 11 (delta 1), reused 6 (delta 0), pack-reused 0\u001b[K\n",
            "Unpacking objects: 100% (11/11), done.\n"
          ]
        }
      ],
      "source": [
        "!git clone https://github.com/jillnoorily/playboycovers_2020s.git"
      ]
    },
    {
      "cell_type": "markdown",
      "metadata": {
        "id": "aRn1WlNbLQgP"
      },
      "source": [
        "# Process Each Cover Image"
      ]
    },
    {
      "cell_type": "code",
      "execution_count": null,
      "metadata": {
        "colab": {
          "base_uri": "https://localhost:8080/"
        },
        "id": "z1OvaemPvzpq",
        "outputId": "9abb389e-fab3-4999-f3c9-0e04083be0e3"
      },
      "outputs": [
        {
          "name": "stdout",
          "output_type": "stream",
          "text": [
            "/content/playboy_covers\n"
          ]
        }
      ],
      "source": [
        "%cd ..\n"
      ]
    },
    {
      "cell_type": "code",
      "execution_count": null,
      "metadata": {
        "colab": {
          "base_uri": "https://localhost:8080/"
        },
        "id": "qLI_Ri2ET9I4",
        "outputId": "4f20018e-c4f7-4581-912a-596d0a7c54f1"
      },
      "outputs": [
        {
          "name": "stdout",
          "output_type": "stream",
          "text": [
            "Reading package lists... Done\n",
            "Building dependency tree       \n",
            "Reading state information... Done\n",
            "The following package was automatically installed and is no longer required:\n",
            "  libnvidia-common-460\n",
            "Use 'sudo apt autoremove' to remove it.\n",
            "The following NEW packages will be installed:\n",
            "  tree\n",
            "0 upgraded, 1 newly installed, 0 to remove and 5 not upgraded.\n",
            "Need to get 40.7 kB of archives.\n",
            "After this operation, 105 kB of additional disk space will be used.\n",
            "Get:1 http://archive.ubuntu.com/ubuntu bionic/universe amd64 tree amd64 1.7.0-5 [40.7 kB]\n",
            "Fetched 40.7 kB in 0s (331 kB/s)\n",
            "debconf: unable to initialize frontend: Dialog\n",
            "debconf: (No usable dialog-like program is installed, so the dialog based frontend cannot be used. at /usr/share/perl5/Debconf/FrontEnd/Dialog.pm line 76, <> line 1.)\n",
            "debconf: falling back to frontend: Readline\n",
            "debconf: unable to initialize frontend: Readline\n",
            "debconf: (This frontend requires a controlling tty.)\n",
            "debconf: falling back to frontend: Teletype\n",
            "dpkg-preconfigure: unable to re-open stdin: \n",
            "Selecting previously unselected package tree.\n",
            "(Reading database ... 123942 files and directories currently installed.)\n",
            "Preparing to unpack .../tree_1.7.0-5_amd64.deb ...\n",
            "Unpacking tree (1.7.0-5) ...\n",
            "Setting up tree (1.7.0-5) ...\n",
            "Processing triggers for man-db (2.8.3-2ubuntu0.1) ...\n"
          ]
        }
      ],
      "source": [
        "!sudo apt-get install tree"
      ]
    },
    {
      "cell_type": "code",
      "execution_count": null,
      "metadata": {
        "colab": {
          "base_uri": "https://localhost:8080/"
        },
        "id": "K0rOBeRkULC2",
        "outputId": "816cef51-3880-4e95-91de-a413a7abb074"
      },
      "outputs": [
        {
          "name": "stdout",
          "output_type": "stream",
          "text": [
            ".\n",
            "├── data\n",
            "│   ├── playboycovers_1950s\n",
            "│   │   ├── 1953\n",
            "│   │   │   └── Screen Shot 2022-10-18 at 2.02.14 PM.png\n",
            "│   │   ├── 1954\n",
            "│   │   │   ├── 1954Apr.png\n",
            "│   │   │   ├── 1954Aug.png\n",
            "│   │   │   ├── 1954Dec.png\n",
            "│   │   │   ├── 1954Feb.png\n",
            "│   │   │   ├── 1954Jan.png\n",
            "│   │   │   ├── 1954Jul.png\n",
            "│   │   │   ├── 1954Jun.png\n",
            "│   │   │   ├── 1954Mar.png\n",
            "│   │   │   ├── 1954May.png\n",
            "│   │   │   ├── 1954Nov.png\n",
            "│   │   │   ├── 1954Oct.png\n",
            "│   │   │   └── 1954Sep.png\n",
            "│   │   ├── 1955\n",
            "│   │   │   ├── 1955Apr.png\n",
            "│   │   │   ├── 1955Aug.png\n",
            "│   │   │   ├── 1955Dec.png\n",
            "│   │   │   ├── 1955Feb.png\n",
            "│   │   │   ├── 1955Jan.png\n",
            "│   │   │   ├── 1955Jul.png\n",
            "│   │   │   ├── 1955Jun.png\n",
            "│   │   │   ├── 1955May.png\n",
            "│   │   │   ├── 1955Nov.png\n",
            "│   │   │   ├── 1955Oct.png\n",
            "│   │   │   └── 1955Sep.png\n",
            "│   │   ├── 1956\n",
            "│   │   │   ├── 1956Apr.png\n",
            "│   │   │   ├── 1956Aug.png\n",
            "│   │   │   ├── 1956Dec.png\n",
            "│   │   │   ├── 1956Feb.png\n",
            "│   │   │   ├── 1956Jan.png\n",
            "│   │   │   ├── 1956Jul.png\n",
            "│   │   │   ├── 1956Jun.png\n",
            "│   │   │   ├── 1956Mar.png\n",
            "│   │   │   ├── 1956May.png\n",
            "│   │   │   ├── 1956Nov.png\n",
            "│   │   │   ├── 1956Oct.png\n",
            "│   │   │   └── 1956Sep.png\n",
            "│   │   ├── 1957\n",
            "│   │   │   ├── 1957Apr.png\n",
            "│   │   │   ├── 1957Aug.png\n",
            "│   │   │   ├── 1957Dec.png\n",
            "│   │   │   ├── 1957Feb.png\n",
            "│   │   │   ├── 1957Jan.png\n",
            "│   │   │   ├── 1957Jul.png\n",
            "│   │   │   ├── 1957Jun.png\n",
            "│   │   │   ├── 1957Mar.png\n",
            "│   │   │   ├── 1957May.png\n",
            "│   │   │   ├── 1957Nov.png\n",
            "│   │   │   ├── 1957Oct.png\n",
            "│   │   │   └── 1957Sep.png\n",
            "│   │   ├── 1958\n",
            "│   │   │   ├── 1958Apr.png\n",
            "│   │   │   ├── 1958Aug.png\n",
            "│   │   │   ├── 1958Dec.png\n",
            "│   │   │   ├── 1958Feb.png\n",
            "│   │   │   ├── 1958Jan.png\n",
            "│   │   │   ├── 1958Jul.png\n",
            "│   │   │   ├── 1958Jun.png\n",
            "│   │   │   ├── 1958Mar.png\n",
            "│   │   │   ├── 1958May.png\n",
            "│   │   │   ├── 1958Nov.png\n",
            "│   │   │   ├── 1958Oct.png\n",
            "│   │   │   └── 1958Sep.png\n",
            "│   │   ├── 1959\n",
            "│   │   │   ├── 1959Apr.png\n",
            "│   │   │   ├── 1959Aug.png\n",
            "│   │   │   ├── 1959Dec.png\n",
            "│   │   │   ├── 1959Feb.png\n",
            "│   │   │   ├── 1959Jan.png\n",
            "│   │   │   ├── 1959Jul.png\n",
            "│   │   │   ├── 1959Jun.png\n",
            "│   │   │   ├── 1959Mar.png\n",
            "│   │   │   ├── 1959May.png\n",
            "│   │   │   ├── 1959Nov.png\n",
            "│   │   │   ├── 1959Oct.png\n",
            "│   │   │   └── 1959Sep.png\n",
            "│   │   ├── LICENSE\n",
            "│   │   └── README.md\n",
            "│   ├── playboycovers_1960s\n",
            "│   │   ├── 1960\n",
            "│   │   │   ├── 1960Apr.png\n",
            "│   │   │   ├── 1960Aug.png\n",
            "│   │   │   ├── 1960Dec.png\n",
            "│   │   │   ├── 1960Feb.png\n",
            "│   │   │   ├── 1960Jan.png\n",
            "│   │   │   ├── 1960Jul.png\n",
            "│   │   │   ├── 1960Jun.png\n",
            "│   │   │   ├── 1960Mar.png\n",
            "│   │   │   ├── 1960May.png\n",
            "│   │   │   ├── 1960Nov.png\n",
            "│   │   │   ├── 1960Oct.png\n",
            "│   │   │   └── 1960Sep.png\n",
            "│   │   ├── 1961\n",
            "│   │   │   ├── 1961Apr.png\n",
            "│   │   │   ├── 1961Aug.png\n",
            "│   │   │   ├── 1961Dec.png\n",
            "│   │   │   ├── 1961Feb.png\n",
            "│   │   │   ├── 1961Jan.png\n",
            "│   │   │   ├── 1961Jul.png\n",
            "│   │   │   ├── 1961Jun.png\n",
            "│   │   │   ├── 1961Mar.png\n",
            "│   │   │   ├── 1961May.png\n",
            "│   │   │   ├── 1961Nov.png\n",
            "│   │   │   ├── 1961Oct.png\n",
            "│   │   │   └── 1961Sep.png\n",
            "│   │   ├── 1962\n",
            "│   │   │   ├── 1962Apr.png\n",
            "│   │   │   ├── 1962Aug.png\n",
            "│   │   │   ├── 1962Dec.png\n",
            "│   │   │   ├── 1962Feb.png\n",
            "│   │   │   ├── 1962Jan.png\n",
            "│   │   │   ├── 1962Jul.png\n",
            "│   │   │   ├── 1962Jun.png\n",
            "│   │   │   ├── 1962Mar.png\n",
            "│   │   │   ├── 1962May.png\n",
            "│   │   │   ├── 1962Nov.png\n",
            "│   │   │   ├── 1962Oct.png\n",
            "│   │   │   └── 1962Sep.png\n",
            "│   │   ├── 1963\n",
            "│   │   │   ├── 1963Apr.png\n",
            "│   │   │   ├── 1963Aug.png\n",
            "│   │   │   ├── 1963Dec.png\n",
            "│   │   │   ├── 1963Feb.png\n",
            "│   │   │   ├── 1963Jan copy.png\n",
            "│   │   │   ├── 1963Jan.png\n",
            "│   │   │   ├── 1963Jul.png\n",
            "│   │   │   ├── 1963Jun.png\n",
            "│   │   │   ├── 1963Mar.png\n",
            "│   │   │   ├── 1963May.png\n",
            "│   │   │   ├── 1963Nov.png\n",
            "│   │   │   ├── 1963Oct.png\n",
            "│   │   │   └── 1963Sep.png\n",
            "│   │   ├── 1964\n",
            "│   │   │   ├── 1964Apr.png\n",
            "│   │   │   ├── 1964Aug.png\n",
            "│   │   │   ├── 1964Dec.png\n",
            "│   │   │   ├── 1964Feb.png\n",
            "│   │   │   ├── 1964Jan.png\n",
            "│   │   │   ├── 1964Jul.png\n",
            "│   │   │   ├── 1964Jun.png\n",
            "│   │   │   ├── 1964Mar.png\n",
            "│   │   │   ├── 1964May.png\n",
            "│   │   │   ├── 1964Nov.png\n",
            "│   │   │   ├── 1964Oct.png\n",
            "│   │   │   └── 1964Sep.png\n",
            "│   │   ├── 1965\n",
            "│   │   │   ├── 1965Apr.png\n",
            "│   │   │   ├── 1965Aug.png\n",
            "│   │   │   ├── 1965Dec.png\n",
            "│   │   │   ├── 1965Feb.png\n",
            "│   │   │   ├── 1965Jan.png\n",
            "│   │   │   ├── 1965Jul.png\n",
            "│   │   │   ├── 1965Jun.png\n",
            "│   │   │   ├── 1965March.png\n",
            "│   │   │   ├── 1965May.png\n",
            "│   │   │   ├── 1965Nov.png\n",
            "│   │   │   ├── 1965Oct.png\n",
            "│   │   │   └── 1965Sep.png\n",
            "│   │   ├── 1966\n",
            "│   │   │   ├── 1966Apr.png\n",
            "│   │   │   ├── 1966Aug.png\n",
            "│   │   │   ├── 1966Dec.png\n",
            "│   │   │   ├── 1966Feb.png\n",
            "│   │   │   ├── 1966Jan.png\n",
            "│   │   │   ├── 1966Jul.png\n",
            "│   │   │   ├── 1966Jun.png\n",
            "│   │   │   ├── 1966Mar.png\n",
            "│   │   │   ├── 1966May.png\n",
            "│   │   │   ├── 1966Nov.png\n",
            "│   │   │   ├── 1966Oct.png\n",
            "│   │   │   └── 1966Sep.png\n",
            "│   │   ├── 1967\n",
            "│   │   │   ├── 1967Apr.png\n",
            "│   │   │   ├── 1967Aug.png\n",
            "│   │   │   ├── 1967Dec copy.png\n",
            "│   │   │   ├── 1967Dec.png\n",
            "│   │   │   ├── 1967Feb.png\n",
            "│   │   │   ├── 1967Jan.png\n",
            "│   │   │   ├── 1967Jul.png\n",
            "│   │   │   ├── 1967Jun.png\n",
            "│   │   │   ├── 1967Mar.png\n",
            "│   │   │   ├── 1967May.png\n",
            "│   │   │   ├── 1967Nov.png\n",
            "│   │   │   ├── 1967Oct.png\n",
            "│   │   │   └── 1967Sep.png\n",
            "│   │   ├── 1968\n",
            "│   │   │   ├── 1968Apr.png\n",
            "│   │   │   ├── 1968Aug.png\n",
            "│   │   │   ├── 1968Dec.png\n",
            "│   │   │   ├── 1968Feb.png\n",
            "│   │   │   ├── 1968Jan.png\n",
            "│   │   │   ├── 1968Jul.png\n",
            "│   │   │   ├── 1968Jun.png\n",
            "│   │   │   ├── 1968Mar.png\n",
            "│   │   │   ├── 1968May.png\n",
            "│   │   │   ├── 1968Nov.png\n",
            "│   │   │   ├── 1968Oct.png\n",
            "│   │   │   └── 1968Sep.png\n",
            "│   │   ├── 1969\n",
            "│   │   │   ├── 1969Apr.png\n",
            "│   │   │   ├── 1969Aug.png\n",
            "│   │   │   ├── 1969Dec.png\n",
            "│   │   │   ├── 1969Feb.png\n",
            "│   │   │   ├── 1969Jan.png\n",
            "│   │   │   ├── 1969Jul.png\n",
            "│   │   │   ├── 1969Jun.png\n",
            "│   │   │   ├── 1969Mar.png\n",
            "│   │   │   ├── 1969May.png\n",
            "│   │   │   ├── 1969Nov.png\n",
            "│   │   │   ├── 1969Oct.png\n",
            "│   │   │   └── 1969Sep.png\n",
            "│   │   ├── LICENSE\n",
            "│   │   └── README.md\n",
            "│   ├── playboycovers_1970s\n",
            "│   │   ├── 1970\n",
            "│   │   │   ├── 1970Apr.png\n",
            "│   │   │   ├── 1970Aug.png\n",
            "│   │   │   ├── 1970Dec.png\n",
            "│   │   │   ├── 1970Feb.png\n",
            "│   │   │   ├── 1970Jan.png\n",
            "│   │   │   ├── 1970Jul.png\n",
            "│   │   │   ├── 1970Jun.png\n",
            "│   │   │   ├── 1970Mar.png\n",
            "│   │   │   ├── 1970May.png\n",
            "│   │   │   ├── 1970Nov.png\n",
            "│   │   │   ├── 1970Oct.png\n",
            "│   │   │   └── 1970Sep.png\n",
            "│   │   ├── 1971\n",
            "│   │   │   ├── 1971Apr.png\n",
            "│   │   │   ├── 1971Aug.png\n",
            "│   │   │   ├── 1971Dec.png\n",
            "│   │   │   ├── 1971Feb.png\n",
            "│   │   │   ├── 1971Jan.png\n",
            "│   │   │   ├── 1971July.png\n",
            "│   │   │   ├── 1971Mar.png\n",
            "│   │   │   ├── 1971May.png\n",
            "│   │   │   ├── 1971Nov.png\n",
            "│   │   │   ├── 1971Oct.png\n",
            "│   │   │   ├── 1971.png\n",
            "│   │   │   └── 1971Sep.png\n",
            "│   │   ├── 1972\n",
            "│   │   │   ├── 1972Apr.png\n",
            "│   │   │   ├── 1972Aug.png\n",
            "│   │   │   ├── 1972Dec.png\n",
            "│   │   │   ├── 1972Feb.png\n",
            "│   │   │   ├── 1972Jan.png\n",
            "│   │   │   ├── 1972Jul.png\n",
            "│   │   │   ├── 1972Jun.png\n",
            "│   │   │   ├── 1972Mar.png\n",
            "│   │   │   ├── 1972May.png\n",
            "│   │   │   ├── 1972Nov.png\n",
            "│   │   │   ├── 1972Oct.png\n",
            "│   │   │   └── 1972Sep.png\n",
            "│   │   ├── 1973\n",
            "│   │   │   ├── 1973Apr.png\n",
            "│   │   │   ├── 1973Aug.png\n",
            "│   │   │   ├── 1973Dec.png\n",
            "│   │   │   ├── 1973Feb.png\n",
            "│   │   │   ├── 1973Jan.png\n",
            "│   │   │   ├── 1973Jul.png\n",
            "│   │   │   ├── 1973Jun.png\n",
            "│   │   │   ├── 1973Mar.png\n",
            "│   │   │   ├── 1973May.png\n",
            "│   │   │   ├── 1973Nov.png\n",
            "│   │   │   ├── 1973Oct.png\n",
            "│   │   │   └── 1973Sep.png\n",
            "│   │   ├── 1974\n",
            "│   │   │   ├── 1974Apr.png\n",
            "│   │   │   ├── 1974Aug.png\n",
            "│   │   │   ├── 1974Dec.png\n",
            "│   │   │   ├── 1974Feb.png\n",
            "│   │   │   ├── 1974Jan.png\n",
            "│   │   │   ├── 1974Jul.png\n",
            "│   │   │   ├── 1974Jun.png\n",
            "│   │   │   ├── 1974Mar.png\n",
            "│   │   │   ├── 1974May.png\n",
            "│   │   │   ├── 1974Nov.png\n",
            "│   │   │   ├── 1974Oct.png\n",
            "│   │   │   └── 1974Sep.png\n",
            "│   │   ├── 1975\n",
            "│   │   │   ├── 1975Apr.png\n",
            "│   │   │   ├── 1975Aug.png\n",
            "│   │   │   ├── 1975Dec.png\n",
            "│   │   │   ├── 1975Feb.png\n",
            "│   │   │   ├── 1975Jan.png\n",
            "│   │   │   ├── 1975Jul.png\n",
            "│   │   │   ├── 1975Jun.png\n",
            "│   │   │   ├── 1975Mar.png\n",
            "│   │   │   ├── 1975May.png\n",
            "│   │   │   ├── 1975Nov.png\n",
            "│   │   │   ├── 1975Oct.png\n",
            "│   │   │   └── 1975Sep.png\n",
            "│   │   ├── 1976\n",
            "│   │   │   ├── 1976Apr.png\n",
            "│   │   │   ├── 1976Aug.png\n",
            "│   │   │   ├── 1976Dec.png\n",
            "│   │   │   ├── 1976Feb.png\n",
            "│   │   │   ├── 1976Jan.png\n",
            "│   │   │   ├── 1976Jul.png\n",
            "│   │   │   ├── 1976Jun.png\n",
            "│   │   │   ├── 1976Mar.png\n",
            "│   │   │   ├── 1976May.png\n",
            "│   │   │   ├── 1976Nov.png\n",
            "│   │   │   ├── 1976Oct.png\n",
            "│   │   │   └── 1976Sep.png\n",
            "│   │   ├── 1977\n",
            "│   │   │   ├── 1977Apr.png\n",
            "│   │   │   ├── 1977Aug.png\n",
            "│   │   │   ├── 1977Dec.png\n",
            "│   │   │   ├── 1977Feb.png\n",
            "│   │   │   ├── 1977Jan.png\n",
            "│   │   │   ├── 1977Jul.png\n",
            "│   │   │   ├── 1977Jun.png\n",
            "│   │   │   ├── 1977Mar.png\n",
            "│   │   │   ├── 1977May.png\n",
            "│   │   │   ├── 1977Nov.png\n",
            "│   │   │   ├── 1977Oct.png\n",
            "│   │   │   └── 1977Sep.png\n",
            "│   │   ├── 1978\n",
            "│   │   │   ├── 1978Apr.png\n",
            "│   │   │   ├── 1978Aug.png\n",
            "│   │   │   ├── 1978Dec.png\n",
            "│   │   │   ├── 1978Feb.png\n",
            "│   │   │   ├── 1978Jan.png\n",
            "│   │   │   ├── 1978Jul.png\n",
            "│   │   │   ├── 1978Jun.png\n",
            "│   │   │   ├── 1978Mar.png\n",
            "│   │   │   ├── 1978May.png\n",
            "│   │   │   ├── 1978Nov.png\n",
            "│   │   │   ├── 1978Oct.png\n",
            "│   │   │   └── 1978Sep.png\n",
            "│   │   ├── 1979\n",
            "│   │   │   ├── 1979Apr.png\n",
            "│   │   │   ├── 1979Aug.png\n",
            "│   │   │   ├── 1979Dec.png\n",
            "│   │   │   ├── 1979Feb.png\n",
            "│   │   │   ├── 1979Jan.png\n",
            "│   │   │   ├── 1979Jul.png\n",
            "│   │   │   ├── 1979Jun.png\n",
            "│   │   │   ├── 1979Mar.png\n",
            "│   │   │   ├── 1979May.png\n",
            "│   │   │   ├── 1979Nov.png\n",
            "│   │   │   ├── 1979Oct.png\n",
            "│   │   │   └── 1979Sep.png\n",
            "│   │   ├── LICENSE\n",
            "│   │   └── README.md\n",
            "│   ├── playboycovers_1980s\n",
            "│   │   ├── 1980\n",
            "│   │   │   ├── 1980Apr.png\n",
            "│   │   │   ├── 1980Aug.png\n",
            "│   │   │   ├── 1980Dec.png\n",
            "│   │   │   ├── 1980Feb.png\n",
            "│   │   │   ├── 1980Jan.png\n",
            "│   │   │   ├── 1980Jul.png\n",
            "│   │   │   ├── 1980Jun.png\n",
            "│   │   │   ├── 1980Mar.png\n",
            "│   │   │   ├── 1980May.png\n",
            "│   │   │   ├── 1980Nov.png\n",
            "│   │   │   ├── 1980Oct.png\n",
            "│   │   │   └── 1980Sep.png\n",
            "│   │   ├── 1981\n",
            "│   │   │   ├── 1981Apr.png\n",
            "│   │   │   ├── 1981Aug.png\n",
            "│   │   │   ├── 1981Dec.png\n",
            "│   │   │   ├── 1981Feb.png\n",
            "│   │   │   ├── 1981Jan.png\n",
            "│   │   │   ├── 1981Jul.png\n",
            "│   │   │   ├── 1981Jun.png\n",
            "│   │   │   ├── 1981Mar.png\n",
            "│   │   │   ├── 1981May.png\n",
            "│   │   │   ├── 1981Nov.png\n",
            "│   │   │   ├── 1981Oct.png\n",
            "│   │   │   └── 1981Sep.png\n",
            "│   │   ├── 1982\n",
            "│   │   │   ├── 1982Apr.png\n",
            "│   │   │   ├── 1982Aug.png\n",
            "│   │   │   ├── 1982Dec.png\n",
            "│   │   │   ├── 1982Feb.png\n",
            "│   │   │   ├── 1982Jan.png\n",
            "│   │   │   ├── 1982Jul.png\n",
            "│   │   │   ├── 1982Jun.png\n",
            "│   │   │   ├── 1982Mar.png\n",
            "│   │   │   ├── 1982May.png\n",
            "│   │   │   ├── 1982Nov.png\n",
            "│   │   │   ├── 1982Oct.png\n",
            "│   │   │   └── 1982Sep.png\n",
            "│   │   ├── 1983\n",
            "│   │   │   ├── 1983Apr.png\n",
            "│   │   │   ├── 1983Aug.png\n",
            "│   │   │   ├── 1983Dec.png\n",
            "│   │   │   ├── 1983Feb.png\n",
            "│   │   │   ├── 1983Jan.png\n",
            "│   │   │   ├── 1983Jul.png\n",
            "│   │   │   ├── 1983Jun.png\n",
            "│   │   │   ├── 1983Mar.png\n",
            "│   │   │   ├── 1983May.png\n",
            "│   │   │   ├── 1983Nov.png\n",
            "│   │   │   ├── 1983Oct.png\n",
            "│   │   │   └── 1983Sep.png\n",
            "│   │   ├── 1984\n",
            "│   │   │   ├── 1984Apr.png\n",
            "│   │   │   ├── 1984Aug.png\n",
            "│   │   │   ├── 1984Dec.png\n",
            "│   │   │   ├── 1984Feb.png\n",
            "│   │   │   ├── 1984Jan.png\n",
            "│   │   │   ├── 1984Jul.png\n",
            "│   │   │   ├── 1984Jun.png\n",
            "│   │   │   ├── 1984Mar.png\n",
            "│   │   │   ├── 1984May.png\n",
            "│   │   │   ├── 1984Nov.png\n",
            "│   │   │   ├── 1984Oct.png\n",
            "│   │   │   └── 1984Sep.png\n",
            "│   │   ├── 1985\n",
            "│   │   │   ├── 1985Apr.png\n",
            "│   │   │   ├── 1985Aug.png\n",
            "│   │   │   ├── 1985Dec.png\n",
            "│   │   │   ├── 1985Feb.png\n",
            "│   │   │   ├── 1985Jan.png\n",
            "│   │   │   ├── 1985Jul.png\n",
            "│   │   │   ├── 1985Jun.png\n",
            "│   │   │   ├── 1985Mar.png\n",
            "│   │   │   ├── 1985May.png\n",
            "│   │   │   ├── 1985Nov.png\n",
            "│   │   │   ├── 1985Oct.png\n",
            "│   │   │   └── 1985Sep.png\n",
            "│   │   ├── 1986\n",
            "│   │   │   ├── 1986Apr.png\n",
            "│   │   │   ├── 1986Aug.png\n",
            "│   │   │   ├── 1986Dec.png\n",
            "│   │   │   ├── 1986Feb.png\n",
            "│   │   │   ├── 1986Jan.png\n",
            "│   │   │   ├── 1986Jul.png\n",
            "│   │   │   ├── 1986Jun.png\n",
            "│   │   │   ├── 1986Mar.png\n",
            "│   │   │   ├── 1986May.png\n",
            "│   │   │   ├── 1986Nov.png\n",
            "│   │   │   ├── 1986Oct.png\n",
            "│   │   │   └── 1986Sep.png\n",
            "│   │   ├── 1987\n",
            "│   │   │   ├── 1987Apr.png\n",
            "│   │   │   ├── 1987Aug.png\n",
            "│   │   │   ├── 1987Dec.png\n",
            "│   │   │   ├── 1987Feb.png\n",
            "│   │   │   ├── 1987Jan.png\n",
            "│   │   │   ├── 1987Jul.png\n",
            "│   │   │   ├── 1987Jun.png\n",
            "│   │   │   ├── 1987Mar.png\n",
            "│   │   │   ├── 1987May.png\n",
            "│   │   │   ├── 1987Nov.png\n",
            "│   │   │   ├── 1987Oct.png\n",
            "│   │   │   └── 1987Sep.png\n",
            "│   │   ├── 1988\n",
            "│   │   │   ├── 1988Apr.png\n",
            "│   │   │   ├── 1988Aug.png\n",
            "│   │   │   ├── 1988Dec.png\n",
            "│   │   │   ├── 1988Feb.png\n",
            "│   │   │   ├── 1988Jan.png\n",
            "│   │   │   ├── 1988Jul.png\n",
            "│   │   │   ├── 1988Jun.png\n",
            "│   │   │   ├── 1988Mar.png\n",
            "│   │   │   ├── 1988May.png\n",
            "│   │   │   ├── 1988Nov.png\n",
            "│   │   │   ├── 1988Oct.png\n",
            "│   │   │   └── 1988Sep.png\n",
            "│   │   ├── 1989\n",
            "│   │   │   ├── 1989Apr.png\n",
            "│   │   │   ├── 1989Aug.png\n",
            "│   │   │   ├── 1989Dec.png\n",
            "│   │   │   ├── 1989Feb.png\n",
            "│   │   │   ├── 1989Jan.png\n",
            "│   │   │   ├── 1989Jul.png\n",
            "│   │   │   ├── 1989Jun.png\n",
            "│   │   │   ├── 1989Mar.png\n",
            "│   │   │   ├── 1989May.png\n",
            "│   │   │   ├── 1989Nov.png\n",
            "│   │   │   ├── 1989Oct.png\n",
            "│   │   │   └── 1989Sep.png\n",
            "│   │   ├── LICENSE\n",
            "│   │   └── README.md\n",
            "│   ├── playboycovers_1990s\n",
            "│   │   ├── 1990\n",
            "│   │   │   ├── 1990Apr.png\n",
            "│   │   │   ├── 1990Aug.png\n",
            "│   │   │   ├── 1990Dec.png\n",
            "│   │   │   ├── 1990Feb.png\n",
            "│   │   │   ├── 1990Jan.png\n",
            "│   │   │   ├── 1990Jul.png\n",
            "│   │   │   ├── 1990Jun.png\n",
            "│   │   │   ├── 1990Mar.png\n",
            "│   │   │   ├── 1990May.png\n",
            "│   │   │   ├── 1990Nov.png\n",
            "│   │   │   ├── 1990Oct.png\n",
            "│   │   │   └── 1990Sep.png\n",
            "│   │   ├── 1991\n",
            "│   │   │   ├── 1991Apr.png\n",
            "│   │   │   ├── 1991Aug.png\n",
            "│   │   │   ├── 1991Dec.png\n",
            "│   │   │   ├── 1991Feb.png\n",
            "│   │   │   ├── 1991Jan.png\n",
            "│   │   │   ├── 1991Jul.png\n",
            "│   │   │   ├── 1991Jun.png\n",
            "│   │   │   ├── 1991Mar.png\n",
            "│   │   │   ├── 1991May.png\n",
            "│   │   │   ├── 1991Nov.png\n",
            "│   │   │   ├── 1991Oct.png\n",
            "│   │   │   └── 1991Sep.png\n",
            "│   │   ├── 1992\n",
            "│   │   │   ├── 1992Apr.png\n",
            "│   │   │   ├── 1992Aug.png\n",
            "│   │   │   ├── 1992Dec.png\n",
            "│   │   │   ├── 1992Feb.png\n",
            "│   │   │   ├── 1992Jan.png\n",
            "│   │   │   ├── 1992Jul.png\n",
            "│   │   │   ├── 1992Jun.png\n",
            "│   │   │   ├── 1992Mar.png\n",
            "│   │   │   ├── 1992May.png\n",
            "│   │   │   ├── 1992Nov.png\n",
            "│   │   │   ├── 1992Oct.png\n",
            "│   │   │   └── 1992Sep.png\n",
            "│   │   ├── 1993\n",
            "│   │   │   ├── 1993Apr.png\n",
            "│   │   │   ├── 1993Aug.png\n",
            "│   │   │   ├── 1993Dec.png\n",
            "│   │   │   ├── 1993Feb.png\n",
            "│   │   │   ├── 1993Jan.png\n",
            "│   │   │   ├── 1993Jul.png\n",
            "│   │   │   ├── 1993Jun.png\n",
            "│   │   │   ├── 1993Mar.png\n",
            "│   │   │   ├── 1993May.png\n",
            "│   │   │   ├── 1993Nov.png\n",
            "│   │   │   ├── 1993Oct.png\n",
            "│   │   │   └── 1993Sep.png\n",
            "│   │   ├── 1994\n",
            "│   │   │   ├── 1994Apr.png\n",
            "│   │   │   ├── 1994Aug.png\n",
            "│   │   │   ├── 1994Dec.png\n",
            "│   │   │   ├── 1994Feb.png\n",
            "│   │   │   ├── 1994Jan.png\n",
            "│   │   │   ├── 1994Jul.png\n",
            "│   │   │   ├── 1994Jun.png\n",
            "│   │   │   ├── 1994Mar.png\n",
            "│   │   │   ├── 1994May.png\n",
            "│   │   │   ├── 1994Nov.png\n",
            "│   │   │   ├── 1994Oct.png\n",
            "│   │   │   └── 1994Sep.png\n",
            "│   │   ├── 1995\n",
            "│   │   │   ├── 1995Apr.png\n",
            "│   │   │   ├── 1995Aug.png\n",
            "│   │   │   ├── 1995Dec.png\n",
            "│   │   │   ├── 1995Feb.png\n",
            "│   │   │   ├── 1995Jan.png\n",
            "│   │   │   ├── 1995Jul.png\n",
            "│   │   │   ├── 1995Jun.png\n",
            "│   │   │   ├── 1995Mar.png\n",
            "│   │   │   ├── 1995May.png\n",
            "│   │   │   ├── 1995Nov.png\n",
            "│   │   │   ├── 1995Oct.png\n",
            "│   │   │   └── 1995Sep.png\n",
            "│   │   ├── 1996\n",
            "│   │   │   ├── 1996Apr.png\n",
            "│   │   │   ├── 1996Aug.png\n",
            "│   │   │   ├── 1996Dec.png\n",
            "│   │   │   ├── 1996Feb.png\n",
            "│   │   │   ├── 1996Jan.png\n",
            "│   │   │   ├── 1996Jul.png\n",
            "│   │   │   ├── 1996Jun.png\n",
            "│   │   │   ├── 1996Mar.png\n",
            "│   │   │   ├── 1996May.png\n",
            "│   │   │   ├── 1996Nov.png\n",
            "│   │   │   ├── 1996Oct.png\n",
            "│   │   │   └── 1996Sep.png\n",
            "│   │   ├── 1997\n",
            "│   │   │   ├── 1997Apr.png\n",
            "│   │   │   ├── 1997Aug.png\n",
            "│   │   │   ├── 1997Dec.png\n",
            "│   │   │   ├── 1997Feb.png\n",
            "│   │   │   ├── 1997Jan.png\n",
            "│   │   │   ├── 1997Jul.png\n",
            "│   │   │   ├── 1997Jun.png\n",
            "│   │   │   ├── 1997Mar.png\n",
            "│   │   │   ├── 1997May.png\n",
            "│   │   │   ├── 1997Nov.png\n",
            "│   │   │   ├── 1997Oct.png\n",
            "│   │   │   └── 1997Sep.png\n",
            "│   │   ├── 1998\n",
            "│   │   │   ├── 1998Apr.png\n",
            "│   │   │   ├── 1998Aug.png\n",
            "│   │   │   ├── 1998Dec.png\n",
            "│   │   │   ├── 1998Feb.png\n",
            "│   │   │   ├── 1998Jan.png\n",
            "│   │   │   ├── 1998Jul.png\n",
            "│   │   │   ├── 1998Jun.png\n",
            "│   │   │   ├── 1998Mar.png\n",
            "│   │   │   ├── 1998May.png\n",
            "│   │   │   ├── 1998Nov.png\n",
            "│   │   │   ├── 1998Oct.png\n",
            "│   │   │   └── 1998Sep.png\n",
            "│   │   ├── 1999\n",
            "│   │   │   ├── 1999Apr.png\n",
            "│   │   │   ├── 1999Aug.png\n",
            "│   │   │   ├── 1999Dec.png\n",
            "│   │   │   ├── 1999Feb.png\n",
            "│   │   │   ├── 1999Jan.png\n",
            "│   │   │   ├── 1999Jul.png\n",
            "│   │   │   ├── 1999Jun.png\n",
            "│   │   │   ├── 1999Mar.png\n",
            "│   │   │   ├── 1999May.png\n",
            "│   │   │   ├── 1999Nov.png\n",
            "│   │   │   ├── 1999Oct.png\n",
            "│   │   │   └── 1999Sep.png\n",
            "│   │   ├── LICENSE\n",
            "│   │   └── README.md\n",
            "│   ├── playboycovers_2000s\n",
            "│   │   ├── 2000\n",
            "│   │   │   ├── 2000Apr.png\n",
            "│   │   │   ├── 2000Aug.png\n",
            "│   │   │   ├── 2000Dec.png\n",
            "│   │   │   ├── 2000Feb.png\n",
            "│   │   │   ├── 2000Jan.png\n",
            "│   │   │   ├── 2000Jul.png\n",
            "│   │   │   ├── 2000Jun.png\n",
            "│   │   │   ├── 2000Mar.png\n",
            "│   │   │   ├── 2000May.png\n",
            "│   │   │   ├── 2000Nov.png\n",
            "│   │   │   ├── 2000Oct.png\n",
            "│   │   │   └── 2000Sep.png\n",
            "│   │   ├── 2001\n",
            "│   │   │   ├── 2001Apr.png\n",
            "│   │   │   ├── 2001Aug.png\n",
            "│   │   │   ├── 2001Dec.png\n",
            "│   │   │   ├── 2001Feb.png\n",
            "│   │   │   ├── 2001Jan.png\n",
            "│   │   │   ├── 2001Jul.png\n",
            "│   │   │   ├── 2001Jun.png\n",
            "│   │   │   ├── 2001Mar.png\n",
            "│   │   │   ├── 2001May.png\n",
            "│   │   │   ├── 2001Nov.png\n",
            "│   │   │   ├── 2001Oct.png\n",
            "│   │   │   └── 2001Sep.png\n",
            "│   │   ├── 2002\n",
            "│   │   │   ├── 2002Apr.png\n",
            "│   │   │   ├── 2002Aug.png\n",
            "│   │   │   ├── 2002Dec.png\n",
            "│   │   │   ├── 2002Feb.png\n",
            "│   │   │   ├── 2002Jan.png\n",
            "│   │   │   ├── 2002Jul.png\n",
            "│   │   │   ├── 2002Jun.png\n",
            "│   │   │   ├── 2002Mar.png\n",
            "│   │   │   ├── 2002May.png\n",
            "│   │   │   ├── 2002Nov.png\n",
            "│   │   │   ├── 2002Oct.png\n",
            "│   │   │   └── 2002Sep.png\n",
            "│   │   ├── 2003\n",
            "│   │   │   ├── 2003Apr.png\n",
            "│   │   │   ├── 2003Aug.png\n",
            "│   │   │   ├── 2003Dec.png\n",
            "│   │   │   ├── 2003Feb.png\n",
            "│   │   │   ├── 2003Jan.png\n",
            "│   │   │   ├── 2003Jul.png\n",
            "│   │   │   ├── 2003Jun.png\n",
            "│   │   │   ├── 2003Mar.png\n",
            "│   │   │   ├── 2003May.png\n",
            "│   │   │   ├── 2003Nov.png\n",
            "│   │   │   ├── 2003Oct.png\n",
            "│   │   │   └── 2003Sep.png\n",
            "│   │   ├── 2004\n",
            "│   │   │   ├── 2004Apr.png\n",
            "│   │   │   ├── 2004Aug.png\n",
            "│   │   │   ├── 2004Dec.png\n",
            "│   │   │   ├── 2004Feb.png\n",
            "│   │   │   ├── 2004Jan.png\n",
            "│   │   │   ├── 2004Jul.png\n",
            "│   │   │   ├── 2004Jun.png\n",
            "│   │   │   ├── 2004Mar.png\n",
            "│   │   │   ├── 2004May.png\n",
            "│   │   │   ├── 2004Nov.png\n",
            "│   │   │   ├── 2004Oct.png\n",
            "│   │   │   └── 2004Sep.png\n",
            "│   │   ├── 2005\n",
            "│   │   │   ├── 2005Apr.png\n",
            "│   │   │   ├── 2005Aug.png\n",
            "│   │   │   ├── 2005Dec.png\n",
            "│   │   │   ├── 2005Feb.png\n",
            "│   │   │   ├── 2005Jan.png\n",
            "│   │   │   ├── 2005Jul.png\n",
            "│   │   │   ├── 2005Jun.png\n",
            "│   │   │   ├── 2005Mar.png\n",
            "│   │   │   ├── 2005May.png\n",
            "│   │   │   ├── 2005Nov.png\n",
            "│   │   │   ├── 2005Oct.png\n",
            "│   │   │   └── 2005Sep.png\n",
            "│   │   ├── 2006\n",
            "│   │   │   ├── 2006Apr.png\n",
            "│   │   │   ├── 2006Aug.png\n",
            "│   │   │   ├── 2006Dec.png\n",
            "│   │   │   ├── 2006Feb.png\n",
            "│   │   │   ├── 2006Jan.png\n",
            "│   │   │   ├── 2006Jul.png\n",
            "│   │   │   ├── 2006Jun.png\n",
            "│   │   │   ├── 2006Mar.png\n",
            "│   │   │   ├── 2006May.png\n",
            "│   │   │   ├── 2006Nov.png\n",
            "│   │   │   ├── 2006Oct.png\n",
            "│   │   │   └── 2006Sep.png\n",
            "│   │   ├── 2007\n",
            "│   │   │   ├── 2007Apr.png\n",
            "│   │   │   ├── 2007Aug.png\n",
            "│   │   │   ├── 2007Dec.png\n",
            "│   │   │   ├── 2007Feb.png\n",
            "│   │   │   ├── 2007Jan.png\n",
            "│   │   │   ├── 2007Jul.png\n",
            "│   │   │   ├── 2007Jun.png\n",
            "│   │   │   ├── 2007Mar.png\n",
            "│   │   │   ├── 2007May.png\n",
            "│   │   │   ├── 2007Nov.png\n",
            "│   │   │   ├── 2007Oct.png\n",
            "│   │   │   └── 2007Sep.png\n",
            "│   │   ├── 2008\n",
            "│   │   │   ├── 2008Apr.png\n",
            "│   │   │   ├── 2008Aug.png\n",
            "│   │   │   ├── 2008Dec.png\n",
            "│   │   │   ├── 2008Feb.png\n",
            "│   │   │   ├── 2008Jan.png\n",
            "│   │   │   ├── 2008Jul.png\n",
            "│   │   │   ├── 2008Jun.png\n",
            "│   │   │   ├── 2008Mar.png\n",
            "│   │   │   ├── 2008May.png\n",
            "│   │   │   ├── 2008Nov.png\n",
            "│   │   │   ├── 2008Oct.png\n",
            "│   │   │   └── 2008Sep.png\n",
            "│   │   ├── 2009\n",
            "│   │   │   ├── 2009Apr.png\n",
            "│   │   │   ├── 2009Dec.png\n",
            "│   │   │   ├── 2009Feb.png\n",
            "│   │   │   ├── 2009Jan.png\n",
            "│   │   │   ├── 2009Jul:Aug.png\n",
            "│   │   │   ├── 2009Jun.png\n",
            "│   │   │   ├── 2009Mar.png\n",
            "│   │   │   ├── 2009May.png\n",
            "│   │   │   ├── 2009Nov.png\n",
            "│   │   │   ├── 2009Oct.png\n",
            "│   │   │   └── 2009Sep.png\n",
            "│   │   ├── LICENSE\n",
            "│   │   └── README.md\n",
            "│   ├── playboycovers_2010s\n",
            "│   │   ├── 2010\n",
            "│   │   │   ├── 2010Apr.png\n",
            "│   │   │   ├── 2010Aug.png\n",
            "│   │   │   ├── 2010Dec.png\n",
            "│   │   │   ├── 2010Jan:Feb.png\n",
            "│   │   │   ├── 2010Jul.png\n",
            "│   │   │   ├── 2010Jun.png\n",
            "│   │   │   ├── 2010Mar.png\n",
            "│   │   │   ├── 2010May copy.png\n",
            "│   │   │   ├── 2010May.png\n",
            "│   │   │   ├── 2010Nov copy.png\n",
            "│   │   │   ├── 2010Nov.png\n",
            "│   │   │   ├── 2010Oct.png\n",
            "│   │   │   └── 2010Sep.png\n",
            "│   │   ├── 2011\n",
            "│   │   │   ├── 2011Apr.png\n",
            "│   │   │   ├── 2011Aug.png\n",
            "│   │   │   ├── 2011Dec.png\n",
            "│   │   │   ├── 2011Feb.png\n",
            "│   │   │   ├── 2011Jan.png\n",
            "│   │   │   ├── 2011Jul.png\n",
            "│   │   │   ├── 2011Jun.png\n",
            "│   │   │   ├── 2011Mar.png\n",
            "│   │   │   ├── 2011May.png\n",
            "│   │   │   ├── 2011Nov.png\n",
            "│   │   │   ├── 2011Oct.png\n",
            "│   │   │   └── 2011Sep.png\n",
            "│   │   ├── 2012\n",
            "│   │   │   ├── 2012Apr.png\n",
            "│   │   │   ├── 2012Dec.png\n",
            "│   │   │   ├── 2012Jan:Feb.png\n",
            "│   │   │   ├── 2012Jul:Aug.png\n",
            "│   │   │   ├── 2012Jun.png\n",
            "│   │   │   ├── 2012Mar.png\n",
            "│   │   │   ├── 2012May.png\n",
            "│   │   │   ├── 2012Nov.png\n",
            "│   │   │   ├── 2012Oct.png\n",
            "│   │   │   └── 2012Sep.png\n",
            "│   │   ├── 2013\n",
            "│   │   │   ├── 2013Apr.png\n",
            "│   │   │   ├── 2013Dec.png\n",
            "│   │   │   ├── 2013Jan:Feb.png\n",
            "│   │   │   ├── 2013Jul:Aug.png\n",
            "│   │   │   ├── 2013Jun.png\n",
            "│   │   │   ├── 2013Mar.png\n",
            "│   │   │   ├── 2013May.png\n",
            "│   │   │   ├── 2013Nov.png\n",
            "│   │   │   ├── 2013Oct.png\n",
            "│   │   │   └── 2013Sep.png\n",
            "│   │   ├── 2014\n",
            "│   │   │   ├── 2014Apr.png\n",
            "│   │   │   ├── 2014Dec.png\n",
            "│   │   │   ├── 2014Jan:Feb.png\n",
            "│   │   │   ├── 2014Jul:Aug.png\n",
            "│   │   │   ├── 2014Jun.png\n",
            "│   │   │   ├── 2014Mar.png\n",
            "│   │   │   ├── 2014May.png\n",
            "│   │   │   ├── 2014Nov.png\n",
            "│   │   │   ├── 2014Oct.png\n",
            "│   │   │   └── 2014Sep.png\n",
            "│   │   ├── 2015\n",
            "│   │   │   ├── 2015Apr.png\n",
            "│   │   │   ├── 2015Dec.png\n",
            "│   │   │   ├── 2015Jan:Feb.png\n",
            "│   │   │   ├── 2015Jul:Aug.png\n",
            "│   │   │   ├── 2015Jun.png\n",
            "│   │   │   ├── 2015Mar.png\n",
            "│   │   │   ├── 2015May.png\n",
            "│   │   │   ├── 2015Nov.png\n",
            "│   │   │   ├── 2015Oct.png\n",
            "│   │   │   └── 2015Sep.png\n",
            "│   │   ├── 2016\n",
            "│   │   │   ├── 2016Apr.png\n",
            "│   │   │   ├── 2016Dec.png\n",
            "│   │   │   ├── 2016Jan:Feb.png\n",
            "│   │   │   ├── 2016Jul:Aug.png\n",
            "│   │   │   ├── 2016Jun.png\n",
            "│   │   │   ├── 2016Mar.png\n",
            "│   │   │   ├── 2016May.png\n",
            "│   │   │   ├── 2016Nov.png\n",
            "│   │   │   ├── 2016Oct.png\n",
            "│   │   │   └── 2016Sep.png\n",
            "│   │   ├── 2017\n",
            "│   │   │   ├── 2017Jan:Feb.png\n",
            "│   │   │   ├── 2017Jul:Aug.png\n",
            "│   │   │   ├── 2017Mar:Apr.png\n",
            "│   │   │   ├── 2017May:Jun.png\n",
            "│   │   │   ├── 2017Nov:Dec.png\n",
            "│   │   │   └── 2017Sep:Oct.png\n",
            "│   │   ├── 2018\n",
            "│   │   │   ├── 2018Jan:Feb.png\n",
            "│   │   │   ├── 2018Jul:Aug.png\n",
            "│   │   │   ├── 2018Mar:Apr.png\n",
            "│   │   │   ├── 2018May:Jun.png\n",
            "│   │   │   ├── 2018Nov:Dec.png\n",
            "│   │   │   └── 2018Sep:Oct.png\n",
            "│   │   ├── 2019\n",
            "│   │   │   ├── 2019Fall.png\n",
            "│   │   │   ├── 2019Spring.png\n",
            "│   │   │   ├── 2019Summer.png\n",
            "│   │   │   └── 2019Winter.png\n",
            "│   │   ├── LICENSE\n",
            "│   │   └── README.md\n",
            "│   └── playboycovers_2020s\n",
            "│       ├── 2020\n",
            "│       │   ├── 2020Spring.png\n",
            "│       │   └── 2020Winter.png\n",
            "│       ├── LICENSE\n",
            "│       └── README.md\n",
            "├── LICENSE\n",
            "└── README.md\n",
            "\n",
            "77 directories, 784 files\n"
          ]
        }
      ],
      "source": [
        "!tree "
      ]
    },
    {
      "cell_type": "code",
      "execution_count": null,
      "metadata": {
        "colab": {
          "base_uri": "https://localhost:8080/"
        },
        "id": "N77jpUZLRUrK",
        "outputId": "33fa5266-1062-44d7-b4a6-f44fbefb9f24"
      },
      "outputs": [
        {
          "name": "stdout",
          "output_type": "stream",
          "text": [
            "/content/playboy_covers\n"
          ]
        }
      ],
      "source": [
        "!pwd"
      ]
    },
    {
      "cell_type": "code",
      "execution_count": null,
      "metadata": {
        "colab": {
          "base_uri": "https://localhost:8080/"
        },
        "id": "DTbRUIWNRDsN",
        "outputId": "4cc0b08f-3fe9-4dbd-88e9-8570469b8572"
      },
      "outputs": [
        {
          "data": {
            "text/plain": [
              "['playboycovers_1980s',\n",
              " 'playboycovers_1970s',\n",
              " 'playboycovers_2020s',\n",
              " 'playboycovers_1950s',\n",
              " 'playboycovers_1960s',\n",
              " 'playboycovers_2010s',\n",
              " 'playboycovers_2000s',\n",
              " 'playboycovers_1990s']"
            ]
          },
          "execution_count": 22,
          "metadata": {},
          "output_type": "execute_result"
        }
      ],
      "source": [
        "# Get list of subdirs\n",
        "\n",
        "subdirs_ls = [f.path.split('/')[-1] for f in os.scandir('data') if f.is_dir() ]\n",
        "subdirs_ls"
      ]
    },
    {
      "cell_type": "code",
      "execution_count": null,
      "metadata": {
        "colab": {
          "background_save": true,
          "base_uri": "https://localhost:8080/"
        },
        "id": "V4mv_eZIIp8w",
        "outputId": "3c80a83a-46d4-411d-85dd-136c9c9dd16d"
      },
      "outputs": [
        {
          "name": "stdout",
          "output_type": "stream",
          "text": [
            "Mag Cover #1 found: 1956Jun.png\n"
          ]
        },
        {
          "name": "stderr",
          "output_type": "stream",
          "text": [
            "Action: age:   0%|          | 0/4 [00:00<?, ?it/s]    "
          ]
        },
        {
          "name": "stdout",
          "output_type": "stream",
          "text": [
            "1/1 [==============================] - 1s 620ms/step\n"
          ]
        },
        {
          "name": "stderr",
          "output_type": "stream",
          "text": [
            "Action: gender:  25%|██▌       | 1/4 [00:02<00:07,  2.54s/it]"
          ]
        },
        {
          "name": "stdout",
          "output_type": "stream",
          "text": [
            "1/1 [==============================] - 1s 639ms/step\n"
          ]
        },
        {
          "name": "stderr",
          "output_type": "stream",
          "text": [
            "Action: race:  50%|█████     | 2/4 [00:03<00:02,  1.45s/it]  "
          ]
        },
        {
          "name": "stdout",
          "output_type": "stream",
          "text": [
            "1/1 [==============================] - 1s 604ms/step\n"
          ]
        },
        {
          "name": "stderr",
          "output_type": "stream",
          "text": [
            "Action: emotion:  75%|███████▌  | 3/4 [00:03<00:01,  1.08s/it]"
          ]
        },
        {
          "name": "stdout",
          "output_type": "stream",
          "text": [
            "1/1 [==============================] - 0s 21ms/step\n"
          ]
        },
        {
          "name": "stderr",
          "output_type": "stream",
          "text": [
            "Action: emotion: 100%|██████████| 4/4 [00:05<00:00,  1.42s/it]\n"
          ]
        },
        {
          "name": "stdout",
          "output_type": "stream",
          "text": [
            "  SUCCESSS\n",
            "Mag Cover #2 found: 1956Dec.png\n"
          ]
        },
        {
          "name": "stderr",
          "output_type": "stream",
          "text": [
            "Action: age:   0%|          | 0/4 [00:00<?, ?it/s]    "
          ]
        },
        {
          "name": "stdout",
          "output_type": "stream",
          "text": [
            "1/1 [==============================] - 1s 588ms/step\n"
          ]
        },
        {
          "name": "stderr",
          "output_type": "stream",
          "text": [
            "Action: gender:  25%|██▌       | 1/4 [00:01<00:04,  1.52s/it]"
          ]
        },
        {
          "name": "stdout",
          "output_type": "stream",
          "text": [
            "1/1 [==============================] - 1s 608ms/step\n"
          ]
        },
        {
          "name": "stderr",
          "output_type": "stream",
          "text": [
            "Action: race:  50%|█████     | 2/4 [00:02<00:02,  1.02s/it]  "
          ]
        },
        {
          "name": "stdout",
          "output_type": "stream",
          "text": [
            "1/1 [==============================] - 1s 634ms/step\n"
          ]
        },
        {
          "name": "stderr",
          "output_type": "stream",
          "text": [
            "Action: emotion:  75%|███████▌  | 3/4 [00:02<00:00,  1.15it/s]"
          ]
        },
        {
          "name": "stdout",
          "output_type": "stream",
          "text": [
            "1/1 [==============================] - 0s 24ms/step\n"
          ]
        },
        {
          "name": "stderr",
          "output_type": "stream",
          "text": [
            "Action: emotion: 100%|██████████| 4/4 [00:03<00:00,  1.04it/s]\n"
          ]
        },
        {
          "name": "stdout",
          "output_type": "stream",
          "text": [
            "  SUCCESSS\n",
            "Mag Cover #3 found: 1956Aug.png\n"
          ]
        },
        {
          "name": "stderr",
          "output_type": "stream",
          "text": [
            "Action: age:   0%|          | 0/4 [00:01<?, ?it/s]\n"
          ]
        },
        {
          "name": "stdout",
          "output_type": "stream",
          "text": [
            "  ERROR: Face could not be detected. Please confirm that the picture is a face photo or consider to set enforce_detection param to False.\n",
            "Mag Cover #4 found: 1956Oct.png\n"
          ]
        },
        {
          "name": "stderr",
          "output_type": "stream",
          "text": [
            "Action: age:   0%|          | 0/4 [00:00<?, ?it/s]\n"
          ]
        },
        {
          "name": "stdout",
          "output_type": "stream",
          "text": [
            "  ERROR: Face could not be detected. Please confirm that the picture is a face photo or consider to set enforce_detection param to False.\n",
            "Mag Cover #5 found: 1956Nov.png\n"
          ]
        },
        {
          "name": "stderr",
          "output_type": "stream",
          "text": [
            "Action: age:   0%|          | 0/4 [00:00<?, ?it/s]    "
          ]
        },
        {
          "name": "stdout",
          "output_type": "stream",
          "text": [
            "1/1 [==============================] - 1s 626ms/step\n"
          ]
        },
        {
          "name": "stderr",
          "output_type": "stream",
          "text": [
            "Action: gender:  25%|██▌       | 1/4 [00:02<00:07,  2.34s/it]"
          ]
        },
        {
          "name": "stdout",
          "output_type": "stream",
          "text": [
            "1/1 [==============================] - 1s 634ms/step\n"
          ]
        },
        {
          "name": "stderr",
          "output_type": "stream",
          "text": [
            "Action: race:  50%|█████     | 2/4 [00:03<00:02,  1.37s/it]  "
          ]
        },
        {
          "name": "stdout",
          "output_type": "stream",
          "text": [
            "1/1 [==============================] - 1s 637ms/step\n"
          ]
        },
        {
          "name": "stderr",
          "output_type": "stream",
          "text": [
            "Action: emotion:  75%|███████▌  | 3/4 [00:03<00:01,  1.06s/it]"
          ]
        },
        {
          "name": "stdout",
          "output_type": "stream",
          "text": [
            "1/1 [==============================] - 0s 24ms/step\n"
          ]
        },
        {
          "name": "stderr",
          "output_type": "stream",
          "text": [
            "Action: emotion: 100%|██████████| 4/4 [00:05<00:00,  1.38s/it]\n"
          ]
        },
        {
          "name": "stdout",
          "output_type": "stream",
          "text": [
            "  SUCCESSS\n",
            "Mag Cover #6 found: 1956Feb.png\n"
          ]
        },
        {
          "name": "stderr",
          "output_type": "stream",
          "text": [
            "Action: age:   0%|          | 0/4 [00:00<?, ?it/s]    "
          ]
        },
        {
          "name": "stdout",
          "output_type": "stream",
          "text": [
            "1/1 [==============================] - 1s 628ms/step\n"
          ]
        },
        {
          "name": "stderr",
          "output_type": "stream",
          "text": [
            "Action: gender:  25%|██▌       | 1/4 [00:01<00:05,  1.82s/it]"
          ]
        },
        {
          "name": "stdout",
          "output_type": "stream",
          "text": [
            "1/1 [==============================] - 1s 612ms/step\n"
          ]
        },
        {
          "name": "stderr",
          "output_type": "stream",
          "text": [
            "Action: race:  50%|█████     | 2/4 [00:02<00:02,  1.14s/it]  "
          ]
        },
        {
          "name": "stdout",
          "output_type": "stream",
          "text": [
            "1/1 [==============================] - 1s 621ms/step\n"
          ]
        },
        {
          "name": "stderr",
          "output_type": "stream",
          "text": [
            "Action: emotion:  75%|███████▌  | 3/4 [00:03<00:00,  1.08it/s]"
          ]
        },
        {
          "name": "stdout",
          "output_type": "stream",
          "text": [
            "1/1 [==============================] - 0s 23ms/step\n"
          ]
        },
        {
          "name": "stderr",
          "output_type": "stream",
          "text": [
            "Action: emotion: 100%|██████████| 4/4 [00:04<00:00,  1.09s/it]\n"
          ]
        },
        {
          "name": "stdout",
          "output_type": "stream",
          "text": [
            "  SUCCESSS\n",
            "Mag Cover #7 found: 1956Jan.png\n"
          ]
        },
        {
          "name": "stderr",
          "output_type": "stream",
          "text": [
            "Action: age:   0%|          | 0/4 [00:00<?, ?it/s]\n"
          ]
        },
        {
          "name": "stdout",
          "output_type": "stream",
          "text": [
            "  ERROR: Face could not be detected. Please confirm that the picture is a face photo or consider to set enforce_detection param to False.\n",
            "Mag Cover #8 found: 1956Mar.png\n"
          ]
        },
        {
          "name": "stderr",
          "output_type": "stream",
          "text": [
            "Action: age:   0%|          | 0/4 [00:00<?, ?it/s]    "
          ]
        },
        {
          "name": "stdout",
          "output_type": "stream",
          "text": [
            "1/1 [==============================] - 1s 603ms/step\n"
          ]
        },
        {
          "name": "stderr",
          "output_type": "stream",
          "text": [
            "Action: gender:  25%|██▌       | 1/4 [00:01<00:04,  1.65s/it]"
          ]
        },
        {
          "name": "stdout",
          "output_type": "stream",
          "text": [
            "1/1 [==============================] - 1s 771ms/step\n"
          ]
        },
        {
          "name": "stderr",
          "output_type": "stream",
          "text": [
            "Action: race:  50%|█████     | 2/4 [00:02<00:02,  1.17s/it]  "
          ]
        },
        {
          "name": "stdout",
          "output_type": "stream",
          "text": [
            "1/1 [==============================] - 1s 1s/step\n"
          ]
        },
        {
          "name": "stderr",
          "output_type": "stream",
          "text": [
            "Action: emotion:  75%|███████▌  | 3/4 [00:05<00:01,  1.92s/it]"
          ]
        },
        {
          "name": "stdout",
          "output_type": "stream",
          "text": [
            "1/1 [==============================] - 0s 27ms/step\n"
          ]
        },
        {
          "name": "stderr",
          "output_type": "stream",
          "text": [
            "Action: emotion: 100%|██████████| 4/4 [00:06<00:00,  1.63s/it]\n"
          ]
        },
        {
          "name": "stdout",
          "output_type": "stream",
          "text": [
            "  SUCCESSS\n",
            "Mag Cover #9 found: 1956Sep.png\n"
          ]
        },
        {
          "name": "stderr",
          "output_type": "stream",
          "text": [
            "Action: age:   0%|          | 0/4 [00:00<?, ?it/s]    "
          ]
        },
        {
          "name": "stdout",
          "output_type": "stream",
          "text": [
            "1/1 [==============================] - 1s 706ms/step\n"
          ]
        },
        {
          "name": "stderr",
          "output_type": "stream",
          "text": [
            "Action: gender:  25%|██▌       | 1/4 [00:02<00:06,  2.10s/it]"
          ]
        },
        {
          "name": "stdout",
          "output_type": "stream",
          "text": [
            "1/1 [==============================] - 1s 893ms/step\n"
          ]
        },
        {
          "name": "stderr",
          "output_type": "stream",
          "text": [
            "Action: race:  50%|█████     | 2/4 [00:03<00:03,  1.66s/it]  "
          ]
        },
        {
          "name": "stdout",
          "output_type": "stream",
          "text": [
            "1/1 [==============================] - 1s 810ms/step\n"
          ]
        },
        {
          "name": "stderr",
          "output_type": "stream",
          "text": [
            "Action: emotion:  75%|███████▌  | 3/4 [00:04<00:01,  1.31s/it]"
          ]
        },
        {
          "name": "stdout",
          "output_type": "stream",
          "text": [
            "1/1 [==============================] - 0s 24ms/step\n"
          ]
        },
        {
          "name": "stderr",
          "output_type": "stream",
          "text": [
            "Action: emotion: 100%|██████████| 4/4 [00:05<00:00,  1.39s/it]\n"
          ]
        },
        {
          "name": "stdout",
          "output_type": "stream",
          "text": [
            "  SUCCESSS\n",
            "Mag Cover #10 found: 1956Apr.png\n"
          ]
        },
        {
          "name": "stderr",
          "output_type": "stream",
          "text": [
            "Action: age:   0%|          | 0/4 [00:00<?, ?it/s]\n"
          ]
        },
        {
          "name": "stdout",
          "output_type": "stream",
          "text": [
            "  ERROR: Face could not be detected. Please confirm that the picture is a face photo or consider to set enforce_detection param to False.\n",
            "Mag Cover #11 found: 1956May.png\n"
          ]
        },
        {
          "name": "stderr",
          "output_type": "stream",
          "text": [
            "Action: age:   0%|          | 0/4 [00:00<?, ?it/s]\n"
          ]
        },
        {
          "name": "stdout",
          "output_type": "stream",
          "text": [
            "  ERROR: Face could not be detected. Please confirm that the picture is a face photo or consider to set enforce_detection param to False.\n",
            "Mag Cover #12 found: 1956Jul.png\n"
          ]
        },
        {
          "name": "stderr",
          "output_type": "stream",
          "text": [
            "Action: age:   0%|          | 0/4 [00:00<?, ?it/s]    "
          ]
        },
        {
          "name": "stdout",
          "output_type": "stream",
          "text": [
            "1/1 [==============================] - 1s 595ms/step\n"
          ]
        },
        {
          "name": "stderr",
          "output_type": "stream",
          "text": [
            "Action: gender:  25%|██▌       | 1/4 [00:01<00:05,  1.69s/it]"
          ]
        },
        {
          "name": "stdout",
          "output_type": "stream",
          "text": [
            "1/1 [==============================] - 1s 610ms/step\n"
          ]
        },
        {
          "name": "stderr",
          "output_type": "stream",
          "text": [
            "Action: race:  50%|█████     | 2/4 [00:02<00:02,  1.08s/it]  "
          ]
        },
        {
          "name": "stdout",
          "output_type": "stream",
          "text": [
            "1/1 [==============================] - 1s 620ms/step\n"
          ]
        },
        {
          "name": "stderr",
          "output_type": "stream",
          "text": [
            "Action: emotion:  75%|███████▌  | 3/4 [00:03<00:00,  1.12it/s]"
          ]
        },
        {
          "name": "stdout",
          "output_type": "stream",
          "text": [
            "1/1 [==============================] - 0s 22ms/step\n"
          ]
        },
        {
          "name": "stderr",
          "output_type": "stream",
          "text": [
            "Action: emotion: 100%|██████████| 4/4 [00:04<00:00,  1.03s/it]\n"
          ]
        },
        {
          "name": "stdout",
          "output_type": "stream",
          "text": [
            "  SUCCESSS\n",
            "Mag Cover #13 found: 1959Sep.png\n"
          ]
        },
        {
          "name": "stderr",
          "output_type": "stream",
          "text": [
            "Action: age:   0%|          | 0/4 [00:00<?, ?it/s]\n"
          ]
        },
        {
          "name": "stdout",
          "output_type": "stream",
          "text": [
            "  ERROR: Face could not be detected. Please confirm that the picture is a face photo or consider to set enforce_detection param to False.\n",
            "Mag Cover #14 found: 1959Oct.png\n"
          ]
        },
        {
          "name": "stderr",
          "output_type": "stream",
          "text": [
            "Action: age:   0%|          | 0/4 [00:00<?, ?it/s]\n"
          ]
        },
        {
          "name": "stdout",
          "output_type": "stream",
          "text": [
            "  ERROR: Face could not be detected. Please confirm that the picture is a face photo or consider to set enforce_detection param to False.\n",
            "Mag Cover #15 found: 1959Jan.png\n"
          ]
        },
        {
          "name": "stderr",
          "output_type": "stream",
          "text": [
            "Action: age:   0%|          | 0/4 [00:00<?, ?it/s]    "
          ]
        },
        {
          "name": "stdout",
          "output_type": "stream",
          "text": [
            "1/1 [==============================] - 1s 579ms/step\n"
          ]
        },
        {
          "name": "stderr",
          "output_type": "stream",
          "text": [
            "Action: gender:  25%|██▌       | 1/4 [00:01<00:05,  1.82s/it]"
          ]
        },
        {
          "name": "stdout",
          "output_type": "stream",
          "text": [
            "1/1 [==============================] - 1s 593ms/step\n"
          ]
        },
        {
          "name": "stderr",
          "output_type": "stream",
          "text": [
            "Action: race:  50%|█████     | 2/4 [00:02<00:02,  1.12s/it]  "
          ]
        },
        {
          "name": "stdout",
          "output_type": "stream",
          "text": [
            "1/1 [==============================] - 1s 584ms/step\n"
          ]
        },
        {
          "name": "stderr",
          "output_type": "stream",
          "text": [
            "Action: emotion:  75%|███████▌  | 3/4 [00:03<00:00,  1.11it/s]"
          ]
        },
        {
          "name": "stdout",
          "output_type": "stream",
          "text": [
            "1/1 [==============================] - 0s 22ms/step\n"
          ]
        },
        {
          "name": "stderr",
          "output_type": "stream",
          "text": [
            "Action: emotion: 100%|██████████| 4/4 [00:04<00:00,  1.09s/it]\n"
          ]
        },
        {
          "name": "stdout",
          "output_type": "stream",
          "text": [
            "  SUCCESSS\n",
            "Mag Cover #16 found: 1959May.png\n"
          ]
        },
        {
          "name": "stderr",
          "output_type": "stream",
          "text": [
            "Action: age:   0%|          | 0/4 [00:00<?, ?it/s]    "
          ]
        },
        {
          "name": "stdout",
          "output_type": "stream",
          "text": [
            "1/1 [==============================] - 1s 582ms/step\n"
          ]
        },
        {
          "name": "stderr",
          "output_type": "stream",
          "text": [
            "Action: gender:  25%|██▌       | 1/4 [00:01<00:04,  1.66s/it]"
          ]
        },
        {
          "name": "stdout",
          "output_type": "stream",
          "text": [
            "1/1 [==============================] - 1s 605ms/step\n"
          ]
        },
        {
          "name": "stderr",
          "output_type": "stream",
          "text": [
            "Action: race:  50%|█████     | 2/4 [00:02<00:02,  1.08s/it]  "
          ]
        },
        {
          "name": "stdout",
          "output_type": "stream",
          "text": [
            "1/1 [==============================] - 1s 627ms/step\n"
          ]
        },
        {
          "name": "stderr",
          "output_type": "stream",
          "text": [
            "Action: emotion:  75%|███████▌  | 3/4 [00:03<00:00,  1.11it/s]"
          ]
        },
        {
          "name": "stdout",
          "output_type": "stream",
          "text": [
            "1/1 [==============================] - 0s 22ms/step\n"
          ]
        },
        {
          "name": "stderr",
          "output_type": "stream",
          "text": [
            "Action: emotion: 100%|██████████| 4/4 [00:04<00:00,  1.03s/it]\n"
          ]
        },
        {
          "name": "stdout",
          "output_type": "stream",
          "text": [
            "  SUCCESSS\n",
            "Mag Cover #17 found: 1959Jun.png\n"
          ]
        },
        {
          "name": "stderr",
          "output_type": "stream",
          "text": [
            "Action: age:   0%|          | 0/4 [00:00<?, ?it/s]    "
          ]
        },
        {
          "name": "stdout",
          "output_type": "stream",
          "text": [
            "1/1 [==============================] - 1s 591ms/step\n"
          ]
        },
        {
          "name": "stderr",
          "output_type": "stream",
          "text": [
            "Action: gender:  25%|██▌       | 1/4 [00:01<00:04,  1.34s/it]"
          ]
        },
        {
          "name": "stdout",
          "output_type": "stream",
          "text": [
            "1/1 [==============================] - 1s 614ms/step\n"
          ]
        },
        {
          "name": "stderr",
          "output_type": "stream",
          "text": [
            "Action: race:  50%|█████     | 2/4 [00:02<00:01,  1.06it/s]  "
          ]
        },
        {
          "name": "stdout",
          "output_type": "stream",
          "text": [
            "1/1 [==============================] - 1s 612ms/step\n"
          ]
        },
        {
          "name": "stderr",
          "output_type": "stream",
          "text": [
            "Action: emotion:  75%|███████▌  | 3/4 [00:02<00:00,  1.23it/s]"
          ]
        },
        {
          "name": "stdout",
          "output_type": "stream",
          "text": [
            "1/1 [==============================] - 0s 25ms/step\n"
          ]
        },
        {
          "name": "stderr",
          "output_type": "stream",
          "text": [
            "Action: emotion: 100%|██████████| 4/4 [00:03<00:00,  1.16it/s]\n"
          ]
        },
        {
          "name": "stdout",
          "output_type": "stream",
          "text": [
            "  SUCCESSS\n",
            "Mag Cover #18 found: 1959Jul.png\n"
          ]
        },
        {
          "name": "stderr",
          "output_type": "stream",
          "text": [
            "Action: age:   0%|          | 0/4 [00:00<?, ?it/s]\n"
          ]
        },
        {
          "name": "stdout",
          "output_type": "stream",
          "text": [
            "  ERROR: Face could not be detected. Please confirm that the picture is a face photo or consider to set enforce_detection param to False.\n",
            "Mag Cover #19 found: 1959Nov.png\n"
          ]
        },
        {
          "name": "stderr",
          "output_type": "stream",
          "text": [
            "Action: age:   0%|          | 0/4 [00:00<?, ?it/s]\n"
          ]
        },
        {
          "name": "stdout",
          "output_type": "stream",
          "text": [
            "  ERROR: Face could not be detected. Please confirm that the picture is a face photo or consider to set enforce_detection param to False.\n",
            "Mag Cover #20 found: 1959Mar.png\n"
          ]
        },
        {
          "name": "stderr",
          "output_type": "stream",
          "text": [
            "Action: age:   0%|          | 0/4 [00:00<?, ?it/s]    "
          ]
        },
        {
          "name": "stdout",
          "output_type": "stream",
          "text": [
            "1/1 [==============================] - 1s 644ms/step\n"
          ]
        },
        {
          "name": "stderr",
          "output_type": "stream",
          "text": [
            "Action: gender:  25%|██▌       | 1/4 [00:01<00:05,  1.93s/it]"
          ]
        },
        {
          "name": "stdout",
          "output_type": "stream",
          "text": [
            "1/1 [==============================] - 1s 615ms/step\n"
          ]
        },
        {
          "name": "stderr",
          "output_type": "stream",
          "text": [
            "Action: race:  50%|█████     | 2/4 [00:02<00:02,  1.19s/it]  "
          ]
        },
        {
          "name": "stdout",
          "output_type": "stream",
          "text": [
            "1/1 [==============================] - 1s 599ms/step\n"
          ]
        },
        {
          "name": "stderr",
          "output_type": "stream",
          "text": [
            "Action: emotion:  75%|███████▌  | 3/4 [00:03<00:00,  1.06it/s]"
          ]
        },
        {
          "name": "stdout",
          "output_type": "stream",
          "text": [
            "1/1 [==============================] - 0s 22ms/step\n"
          ]
        },
        {
          "name": "stderr",
          "output_type": "stream",
          "text": [
            "Action: emotion: 100%|██████████| 4/4 [00:03<00:00,  1.02it/s]\n"
          ]
        },
        {
          "name": "stdout",
          "output_type": "stream",
          "text": [
            "  SUCCESSS\n",
            "Mag Cover #21 found: 1959Dec.png\n"
          ]
        },
        {
          "name": "stderr",
          "output_type": "stream",
          "text": [
            "Action: age:   0%|          | 0/4 [00:00<?, ?it/s]\n"
          ]
        },
        {
          "name": "stdout",
          "output_type": "stream",
          "text": [
            "  ERROR: Face could not be detected. Please confirm that the picture is a face photo or consider to set enforce_detection param to False.\n",
            "Mag Cover #22 found: 1959Feb.png\n"
          ]
        },
        {
          "name": "stderr",
          "output_type": "stream",
          "text": [
            "Action: age:   0%|          | 0/4 [00:00<?, ?it/s]    "
          ]
        },
        {
          "name": "stdout",
          "output_type": "stream",
          "text": [
            "1/1 [==============================] - 1s 633ms/step\n"
          ]
        },
        {
          "name": "stderr",
          "output_type": "stream",
          "text": [
            "Action: gender:  25%|██▌       | 1/4 [00:01<00:04,  1.39s/it]"
          ]
        },
        {
          "name": "stdout",
          "output_type": "stream",
          "text": [
            "1/1 [==============================] - 1s 605ms/step\n"
          ]
        },
        {
          "name": "stderr",
          "output_type": "stream",
          "text": [
            "Action: race:  50%|█████     | 2/4 [00:02<00:01,  1.04it/s]  "
          ]
        },
        {
          "name": "stdout",
          "output_type": "stream",
          "text": [
            "1/1 [==============================] - 1s 604ms/step\n"
          ]
        },
        {
          "name": "stderr",
          "output_type": "stream",
          "text": [
            "Action: emotion:  75%|███████▌  | 3/4 [00:02<00:00,  1.22it/s]"
          ]
        },
        {
          "name": "stdout",
          "output_type": "stream",
          "text": [
            "1/1 [==============================] - 0s 23ms/step\n"
          ]
        },
        {
          "name": "stderr",
          "output_type": "stream",
          "text": [
            "Action: emotion: 100%|██████████| 4/4 [00:03<00:00,  1.15it/s]\n"
          ]
        },
        {
          "name": "stdout",
          "output_type": "stream",
          "text": [
            "  SUCCESSS\n",
            "Mag Cover #23 found: 1959Aug.png\n"
          ]
        },
        {
          "name": "stderr",
          "output_type": "stream",
          "text": [
            "Action: age:   0%|          | 0/4 [00:00<?, ?it/s]\n"
          ]
        },
        {
          "name": "stdout",
          "output_type": "stream",
          "text": [
            "  ERROR: Face could not be detected. Please confirm that the picture is a face photo or consider to set enforce_detection param to False.\n",
            "Mag Cover #24 found: 1959Apr.png\n"
          ]
        },
        {
          "name": "stderr",
          "output_type": "stream",
          "text": [
            "Action: age:   0%|          | 0/4 [00:01<?, ?it/s]\n"
          ]
        },
        {
          "name": "stdout",
          "output_type": "stream",
          "text": [
            "  ERROR: Face could not be detected. Please confirm that the picture is a face photo or consider to set enforce_detection param to False.\n",
            "Mag Cover #25 found: 1957Aug.png\n"
          ]
        },
        {
          "name": "stderr",
          "output_type": "stream",
          "text": [
            "Action: age:   0%|          | 0/4 [00:00<?, ?it/s]    "
          ]
        },
        {
          "name": "stdout",
          "output_type": "stream",
          "text": [
            "1/1 [==============================] - 1s 632ms/step\n"
          ]
        },
        {
          "name": "stderr",
          "output_type": "stream",
          "text": [
            "Action: gender:  25%|██▌       | 1/4 [00:01<00:05,  1.81s/it]"
          ]
        },
        {
          "name": "stdout",
          "output_type": "stream",
          "text": [
            "1/1 [==============================] - 1s 623ms/step\n"
          ]
        },
        {
          "name": "stderr",
          "output_type": "stream",
          "text": [
            "Action: race:  50%|█████     | 2/4 [00:02<00:02,  1.14s/it]  "
          ]
        },
        {
          "name": "stdout",
          "output_type": "stream",
          "text": [
            "1/1 [==============================] - 1s 614ms/step\n"
          ]
        },
        {
          "name": "stderr",
          "output_type": "stream",
          "text": [
            "Action: emotion:  75%|███████▌  | 3/4 [00:03<00:00,  1.08it/s]"
          ]
        },
        {
          "name": "stdout",
          "output_type": "stream",
          "text": [
            "1/1 [==============================] - 0s 24ms/step\n"
          ]
        },
        {
          "name": "stderr",
          "output_type": "stream",
          "text": [
            "Action: emotion: 100%|██████████| 4/4 [00:04<00:00,  1.09s/it]\n"
          ]
        },
        {
          "name": "stdout",
          "output_type": "stream",
          "text": [
            "  SUCCESSS\n",
            "Mag Cover #26 found: 1957Feb.png\n"
          ]
        },
        {
          "name": "stderr",
          "output_type": "stream",
          "text": [
            "Action: age:   0%|          | 0/4 [00:00<?, ?it/s]    "
          ]
        },
        {
          "name": "stdout",
          "output_type": "stream",
          "text": [
            "1/1 [==============================] - 1s 636ms/step\n"
          ]
        },
        {
          "name": "stderr",
          "output_type": "stream",
          "text": [
            "Action: gender:  25%|██▌       | 1/4 [00:01<00:04,  1.60s/it]"
          ]
        },
        {
          "name": "stdout",
          "output_type": "stream",
          "text": [
            "1/1 [==============================] - 1s 624ms/step\n"
          ]
        },
        {
          "name": "stderr",
          "output_type": "stream",
          "text": [
            "Action: race:  50%|█████     | 2/4 [00:02<00:02,  1.06s/it]  "
          ]
        },
        {
          "name": "stdout",
          "output_type": "stream",
          "text": [
            "1/1 [==============================] - 1s 611ms/step\n"
          ]
        },
        {
          "name": "stderr",
          "output_type": "stream",
          "text": [
            "Action: emotion:  75%|███████▌  | 3/4 [00:02<00:00,  1.14it/s]"
          ]
        },
        {
          "name": "stdout",
          "output_type": "stream",
          "text": [
            "1/1 [==============================] - 0s 23ms/step\n"
          ]
        },
        {
          "name": "stderr",
          "output_type": "stream",
          "text": [
            "Action: emotion: 100%|██████████| 4/4 [00:03<00:00,  1.02it/s]\n"
          ]
        },
        {
          "name": "stdout",
          "output_type": "stream",
          "text": [
            "  SUCCESSS\n",
            "Mag Cover #27 found: 1957Oct.png\n"
          ]
        },
        {
          "name": "stderr",
          "output_type": "stream",
          "text": [
            "Action: age:   0%|          | 0/4 [00:00<?, ?it/s]    "
          ]
        },
        {
          "name": "stdout",
          "output_type": "stream",
          "text": [
            "1/1 [==============================] - 1s 624ms/step\n"
          ]
        },
        {
          "name": "stderr",
          "output_type": "stream",
          "text": [
            "Action: gender:  25%|██▌       | 1/4 [00:01<00:04,  1.56s/it]"
          ]
        },
        {
          "name": "stdout",
          "output_type": "stream",
          "text": [
            "1/1 [==============================] - 1s 615ms/step\n"
          ]
        },
        {
          "name": "stderr",
          "output_type": "stream",
          "text": [
            "Action: race:  50%|█████     | 2/4 [00:02<00:02,  1.03s/it]  "
          ]
        },
        {
          "name": "stdout",
          "output_type": "stream",
          "text": [
            "1/1 [==============================] - 1s 639ms/step\n"
          ]
        },
        {
          "name": "stderr",
          "output_type": "stream",
          "text": [
            "Action: emotion:  75%|███████▌  | 3/4 [00:02<00:00,  1.14it/s]"
          ]
        },
        {
          "name": "stdout",
          "output_type": "stream",
          "text": [
            "1/1 [==============================] - 0s 22ms/step\n"
          ]
        },
        {
          "name": "stderr",
          "output_type": "stream",
          "text": [
            "Action: emotion: 100%|██████████| 4/4 [00:03<00:00,  1.03it/s]\n"
          ]
        },
        {
          "name": "stdout",
          "output_type": "stream",
          "text": [
            "  SUCCESSS\n",
            "Mag Cover #28 found: 1957Jan.png\n"
          ]
        },
        {
          "name": "stderr",
          "output_type": "stream",
          "text": [
            "Action: age:   0%|          | 0/4 [00:00<?, ?it/s]    "
          ]
        },
        {
          "name": "stdout",
          "output_type": "stream",
          "text": [
            "1/1 [==============================] - 1s 625ms/step\n"
          ]
        },
        {
          "name": "stderr",
          "output_type": "stream",
          "text": [
            "Action: gender:  25%|██▌       | 1/4 [00:01<00:04,  1.58s/it]"
          ]
        },
        {
          "name": "stdout",
          "output_type": "stream",
          "text": [
            "1/1 [==============================] - 1s 617ms/step\n"
          ]
        },
        {
          "name": "stderr",
          "output_type": "stream",
          "text": [
            "Action: race:  50%|█████     | 2/4 [00:02<00:02,  1.04s/it]  "
          ]
        },
        {
          "name": "stdout",
          "output_type": "stream",
          "text": [
            "1/1 [==============================] - 1s 631ms/step\n"
          ]
        },
        {
          "name": "stderr",
          "output_type": "stream",
          "text": [
            "Action: emotion:  75%|███████▌  | 3/4 [00:02<00:00,  1.13it/s]"
          ]
        },
        {
          "name": "stdout",
          "output_type": "stream",
          "text": [
            "1/1 [==============================] - 0s 27ms/step\n"
          ]
        },
        {
          "name": "stderr",
          "output_type": "stream",
          "text": [
            "Action: emotion: 100%|██████████| 4/4 [00:03<00:00,  1.02it/s]\n"
          ]
        },
        {
          "name": "stdout",
          "output_type": "stream",
          "text": [
            "  SUCCESSS\n",
            "Mag Cover #29 found: 1957Sep.png\n"
          ]
        },
        {
          "name": "stderr",
          "output_type": "stream",
          "text": [
            "Action: age:   0%|          | 0/4 [00:01<?, ?it/s]\n"
          ]
        },
        {
          "name": "stdout",
          "output_type": "stream",
          "text": [
            "  ERROR: Face could not be detected. Please confirm that the picture is a face photo or consider to set enforce_detection param to False.\n",
            "Mag Cover #30 found: 1957May.png\n"
          ]
        },
        {
          "name": "stderr",
          "output_type": "stream",
          "text": [
            "Action: age:   0%|          | 0/4 [00:00<?, ?it/s]    "
          ]
        },
        {
          "name": "stdout",
          "output_type": "stream",
          "text": [
            "1/1 [==============================] - 1s 634ms/step\n"
          ]
        },
        {
          "name": "stderr",
          "output_type": "stream",
          "text": [
            "Action: gender:  25%|██▌       | 1/4 [00:01<00:04,  1.65s/it]"
          ]
        },
        {
          "name": "stdout",
          "output_type": "stream",
          "text": [
            "1/1 [==============================] - 1s 636ms/step\n"
          ]
        },
        {
          "name": "stderr",
          "output_type": "stream",
          "text": [
            "Action: race:  50%|█████     | 2/4 [00:02<00:02,  1.09s/it]  "
          ]
        },
        {
          "name": "stdout",
          "output_type": "stream",
          "text": [
            "1/1 [==============================] - 1s 626ms/step\n"
          ]
        },
        {
          "name": "stderr",
          "output_type": "stream",
          "text": [
            "Action: emotion:  75%|███████▌  | 3/4 [00:03<00:00,  1.11it/s]"
          ]
        },
        {
          "name": "stdout",
          "output_type": "stream",
          "text": [
            "1/1 [==============================] - 0s 26ms/step\n"
          ]
        },
        {
          "name": "stderr",
          "output_type": "stream",
          "text": [
            "Action: emotion: 100%|██████████| 4/4 [00:04<00:00,  1.03s/it]\n"
          ]
        },
        {
          "name": "stdout",
          "output_type": "stream",
          "text": [
            "  SUCCESSS\n",
            "Mag Cover #31 found: 1957Dec.png\n"
          ]
        },
        {
          "name": "stderr",
          "output_type": "stream",
          "text": [
            "Action: age:   0%|          | 0/4 [00:00<?, ?it/s]    "
          ]
        },
        {
          "name": "stdout",
          "output_type": "stream",
          "text": [
            "1/1 [==============================] - 1s 638ms/step\n"
          ]
        },
        {
          "name": "stderr",
          "output_type": "stream",
          "text": [
            "Action: gender:  25%|██▌       | 1/4 [00:01<00:05,  1.82s/it]"
          ]
        },
        {
          "name": "stdout",
          "output_type": "stream",
          "text": [
            "1/1 [==============================] - 1s 633ms/step\n"
          ]
        },
        {
          "name": "stderr",
          "output_type": "stream",
          "text": [
            "Action: race:  50%|█████     | 2/4 [00:02<00:02,  1.16s/it]  "
          ]
        },
        {
          "name": "stdout",
          "output_type": "stream",
          "text": [
            "1/1 [==============================] - 1s 641ms/step\n"
          ]
        },
        {
          "name": "stderr",
          "output_type": "stream",
          "text": [
            "Action: emotion:  75%|███████▌  | 3/4 [00:03<00:00,  1.06it/s]"
          ]
        },
        {
          "name": "stdout",
          "output_type": "stream",
          "text": [
            "1/1 [==============================] - 0s 27ms/step\n"
          ]
        },
        {
          "name": "stderr",
          "output_type": "stream",
          "text": [
            "Action: emotion: 100%|██████████| 4/4 [00:04<00:00,  1.09s/it]\n"
          ]
        },
        {
          "name": "stdout",
          "output_type": "stream",
          "text": [
            "  SUCCESSS\n",
            "Mag Cover #32 found: 1957Jul.png\n"
          ]
        },
        {
          "name": "stderr",
          "output_type": "stream",
          "text": [
            "Action: age:   0%|          | 0/4 [00:00<?, ?it/s]    "
          ]
        },
        {
          "name": "stdout",
          "output_type": "stream",
          "text": [
            "1/1 [==============================] - 1s 628ms/step\n"
          ]
        },
        {
          "name": "stderr",
          "output_type": "stream",
          "text": [
            "Action: gender:  25%|██▌       | 1/4 [00:02<00:06,  2.07s/it]"
          ]
        },
        {
          "name": "stdout",
          "output_type": "stream",
          "text": [
            "1/1 [==============================] - 1s 644ms/step\n"
          ]
        },
        {
          "name": "stderr",
          "output_type": "stream",
          "text": [
            "Action: race:  50%|█████     | 2/4 [00:02<00:02,  1.26s/it]  "
          ]
        },
        {
          "name": "stdout",
          "output_type": "stream",
          "text": [
            "1/1 [==============================] - 1s 631ms/step\n"
          ]
        },
        {
          "name": "stderr",
          "output_type": "stream",
          "text": [
            "Action: emotion:  75%|███████▌  | 3/4 [00:03<00:01,  1.01s/it]"
          ]
        },
        {
          "name": "stdout",
          "output_type": "stream",
          "text": [
            "1/1 [==============================] - 0s 24ms/step\n"
          ]
        },
        {
          "name": "stderr",
          "output_type": "stream",
          "text": [
            "Action: emotion: 100%|██████████| 4/4 [00:04<00:00,  1.24s/it]\n"
          ]
        },
        {
          "name": "stdout",
          "output_type": "stream",
          "text": [
            "  SUCCESSS\n",
            "Mag Cover #33 found: 1957Apr.png\n"
          ]
        },
        {
          "name": "stderr",
          "output_type": "stream",
          "text": [
            "Action: age:   0%|          | 0/4 [00:00<?, ?it/s]\n"
          ]
        },
        {
          "name": "stdout",
          "output_type": "stream",
          "text": [
            "  ERROR: Face could not be detected. Please confirm that the picture is a face photo or consider to set enforce_detection param to False.\n",
            "Mag Cover #34 found: 1957Mar.png\n"
          ]
        },
        {
          "name": "stderr",
          "output_type": "stream",
          "text": [
            "Action: age:   0%|          | 0/4 [00:00<?, ?it/s]\n"
          ]
        },
        {
          "name": "stdout",
          "output_type": "stream",
          "text": [
            "  ERROR: Face could not be detected. Please confirm that the picture is a face photo or consider to set enforce_detection param to False.\n",
            "Mag Cover #35 found: 1957Jun.png\n"
          ]
        },
        {
          "name": "stderr",
          "output_type": "stream",
          "text": [
            "Action: age:   0%|          | 0/4 [00:00<?, ?it/s]\n"
          ]
        },
        {
          "name": "stdout",
          "output_type": "stream",
          "text": [
            "  ERROR: Face could not be detected. Please confirm that the picture is a face photo or consider to set enforce_detection param to False.\n",
            "Mag Cover #36 found: 1957Nov.png\n"
          ]
        },
        {
          "name": "stderr",
          "output_type": "stream",
          "text": [
            "Action: age:   0%|          | 0/4 [00:00<?, ?it/s]\n"
          ]
        },
        {
          "name": "stdout",
          "output_type": "stream",
          "text": [
            "  ERROR: Face could not be detected. Please confirm that the picture is a face photo or consider to set enforce_detection param to False.\n",
            "Mag Cover #37 found: Screen Shot 2022-10-18 at 2.02.14 PM.png\n"
          ]
        },
        {
          "name": "stderr",
          "output_type": "stream",
          "text": [
            "Action: age:   0%|          | 0/4 [00:00<?, ?it/s]    "
          ]
        },
        {
          "name": "stdout",
          "output_type": "stream",
          "text": [
            "1/1 [==============================] - 1s 613ms/step\n"
          ]
        },
        {
          "name": "stderr",
          "output_type": "stream",
          "text": [
            "Action: gender:  25%|██▌       | 1/4 [00:01<00:04,  1.50s/it]"
          ]
        },
        {
          "name": "stdout",
          "output_type": "stream",
          "text": [
            "1/1 [==============================] - 1s 626ms/step\n"
          ]
        },
        {
          "name": "stderr",
          "output_type": "stream",
          "text": [
            "Action: race:  50%|█████     | 2/4 [00:02<00:02,  1.01s/it]  "
          ]
        },
        {
          "name": "stdout",
          "output_type": "stream",
          "text": [
            "1/1 [==============================] - 1s 627ms/step\n"
          ]
        },
        {
          "name": "stderr",
          "output_type": "stream",
          "text": [
            "Action: emotion:  75%|███████▌  | 3/4 [00:02<00:00,  1.15it/s]"
          ]
        },
        {
          "name": "stdout",
          "output_type": "stream",
          "text": [
            "1/1 [==============================] - 0s 26ms/step\n"
          ]
        },
        {
          "name": "stderr",
          "output_type": "stream",
          "text": [
            "Action: emotion: 100%|██████████| 4/4 [00:03<00:00,  1.06it/s]\n"
          ]
        },
        {
          "name": "stdout",
          "output_type": "stream",
          "text": [
            "  SUCCESSS\n",
            "Mag Cover #38 found: 1955Jan.png\n"
          ]
        },
        {
          "name": "stderr",
          "output_type": "stream",
          "text": [
            "Action: age:   0%|          | 0/4 [00:00<?, ?it/s]    "
          ]
        },
        {
          "name": "stdout",
          "output_type": "stream",
          "text": [
            "1/1 [==============================] - 1s 624ms/step\n"
          ]
        },
        {
          "name": "stderr",
          "output_type": "stream",
          "text": [
            "Action: gender:  25%|██▌       | 1/4 [00:02<00:06,  2.01s/it]"
          ]
        },
        {
          "name": "stdout",
          "output_type": "stream",
          "text": [
            "1/1 [==============================] - 1s 644ms/step\n"
          ]
        },
        {
          "name": "stderr",
          "output_type": "stream",
          "text": [
            "Action: race:  50%|█████     | 2/4 [00:02<00:02,  1.24s/it]  "
          ]
        },
        {
          "name": "stdout",
          "output_type": "stream",
          "text": [
            "1/1 [==============================] - 1s 653ms/step\n"
          ]
        },
        {
          "name": "stderr",
          "output_type": "stream",
          "text": [
            "Action: emotion:  75%|███████▌  | 3/4 [00:03<00:00,  1.00it/s]"
          ]
        },
        {
          "name": "stdout",
          "output_type": "stream",
          "text": [
            "1/1 [==============================] - 0s 24ms/step\n"
          ]
        },
        {
          "name": "stderr",
          "output_type": "stream",
          "text": [
            "Action: emotion: 100%|██████████| 4/4 [00:04<00:00,  1.20s/it]\n"
          ]
        },
        {
          "name": "stdout",
          "output_type": "stream",
          "text": [
            "  SUCCESSS\n",
            "Mag Cover #39 found: 1955Nov.png\n"
          ]
        },
        {
          "name": "stderr",
          "output_type": "stream",
          "text": [
            "Action: age:   0%|          | 0/4 [00:00<?, ?it/s]    "
          ]
        },
        {
          "name": "stdout",
          "output_type": "stream",
          "text": [
            "1/1 [==============================] - 1s 622ms/step\n"
          ]
        },
        {
          "name": "stderr",
          "output_type": "stream",
          "text": [
            "Action: gender:  25%|██▌       | 1/4 [00:02<00:07,  2.52s/it]"
          ]
        },
        {
          "name": "stdout",
          "output_type": "stream",
          "text": [
            "1/1 [==============================] - 1s 633ms/step\n"
          ]
        },
        {
          "name": "stderr",
          "output_type": "stream",
          "text": [
            "Action: race:  50%|█████     | 2/4 [00:03<00:02,  1.45s/it]  "
          ]
        },
        {
          "name": "stdout",
          "output_type": "stream",
          "text": [
            "1/1 [==============================] - 1s 604ms/step\n"
          ]
        },
        {
          "name": "stderr",
          "output_type": "stream",
          "text": [
            "Action: emotion:  75%|███████▌  | 3/4 [00:03<00:01,  1.10s/it]"
          ]
        },
        {
          "name": "stdout",
          "output_type": "stream",
          "text": [
            "1/1 [==============================] - 0s 22ms/step\n"
          ]
        },
        {
          "name": "stderr",
          "output_type": "stream",
          "text": [
            "Action: emotion: 100%|██████████| 4/4 [00:05<00:00,  1.45s/it]\n"
          ]
        },
        {
          "name": "stdout",
          "output_type": "stream",
          "text": [
            "  SUCCESSS\n",
            "Mag Cover #40 found: 1955Jul.png\n"
          ]
        },
        {
          "name": "stderr",
          "output_type": "stream",
          "text": [
            "Action: age:   0%|          | 0/4 [00:01<?, ?it/s]\n"
          ]
        },
        {
          "name": "stdout",
          "output_type": "stream",
          "text": [
            "  ERROR: Face could not be detected. Please confirm that the picture is a face photo or consider to set enforce_detection param to False.\n",
            "Mag Cover #41 found: 1955Oct.png\n"
          ]
        },
        {
          "name": "stderr",
          "output_type": "stream",
          "text": [
            "Action: age:   0%|          | 0/4 [00:00<?, ?it/s]    "
          ]
        },
        {
          "name": "stdout",
          "output_type": "stream",
          "text": [
            "1/1 [==============================] - 1s 636ms/step\n"
          ]
        },
        {
          "name": "stderr",
          "output_type": "stream",
          "text": [
            "Action: gender:  25%|██▌       | 1/4 [00:02<00:06,  2.32s/it]"
          ]
        },
        {
          "name": "stdout",
          "output_type": "stream",
          "text": [
            "1/1 [==============================] - 1s 625ms/step\n"
          ]
        },
        {
          "name": "stderr",
          "output_type": "stream",
          "text": [
            "Action: race:  50%|█████     | 2/4 [00:02<00:02,  1.35s/it]  "
          ]
        },
        {
          "name": "stdout",
          "output_type": "stream",
          "text": [
            "1/1 [==============================] - 1s 589ms/step\n"
          ]
        },
        {
          "name": "stderr",
          "output_type": "stream",
          "text": [
            "Action: emotion:  75%|███████▌  | 3/4 [00:03<00:01,  1.03s/it]"
          ]
        },
        {
          "name": "stdout",
          "output_type": "stream",
          "text": [
            "1/1 [==============================] - 0s 23ms/step\n"
          ]
        },
        {
          "name": "stderr",
          "output_type": "stream",
          "text": [
            "Action: emotion: 100%|██████████| 4/4 [00:05<00:00,  1.34s/it]\n"
          ]
        },
        {
          "name": "stdout",
          "output_type": "stream",
          "text": [
            "  SUCCESSS\n",
            "Mag Cover #42 found: 1955May.png\n"
          ]
        },
        {
          "name": "stderr",
          "output_type": "stream",
          "text": [
            "Action: age:   0%|          | 0/4 [00:01<?, ?it/s]\n"
          ]
        },
        {
          "name": "stdout",
          "output_type": "stream",
          "text": [
            "  ERROR: Face could not be detected. Please confirm that the picture is a face photo or consider to set enforce_detection param to False.\n",
            "Mag Cover #43 found: 1955Sep.png\n"
          ]
        },
        {
          "name": "stderr",
          "output_type": "stream",
          "text": [
            "Action: age:   0%|          | 0/4 [00:00<?, ?it/s]    "
          ]
        },
        {
          "name": "stdout",
          "output_type": "stream",
          "text": [
            "1/1 [==============================] - 1s 582ms/step\n"
          ]
        },
        {
          "name": "stderr",
          "output_type": "stream",
          "text": [
            "Action: gender:  25%|██▌       | 1/4 [00:02<00:06,  2.00s/it]"
          ]
        },
        {
          "name": "stdout",
          "output_type": "stream",
          "text": [
            "1/1 [==============================] - 1s 593ms/step\n"
          ]
        },
        {
          "name": "stderr",
          "output_type": "stream",
          "text": [
            "Action: race:  50%|█████     | 2/4 [00:02<00:02,  1.20s/it]  "
          ]
        },
        {
          "name": "stdout",
          "output_type": "stream",
          "text": [
            "1/1 [==============================] - 1s 582ms/step\n"
          ]
        },
        {
          "name": "stderr",
          "output_type": "stream",
          "text": [
            "Action: emotion:  75%|███████▌  | 3/4 [00:03<00:00,  1.06it/s]"
          ]
        },
        {
          "name": "stdout",
          "output_type": "stream",
          "text": [
            "1/1 [==============================] - 0s 26ms/step\n"
          ]
        },
        {
          "name": "stderr",
          "output_type": "stream",
          "text": [
            "Action: emotion: 100%|██████████| 4/4 [00:04<00:00,  1.19s/it]\n"
          ]
        },
        {
          "name": "stdout",
          "output_type": "stream",
          "text": [
            "  SUCCESSS\n",
            "Mag Cover #44 found: 1955Jun.png\n"
          ]
        },
        {
          "name": "stderr",
          "output_type": "stream",
          "text": [
            "Action: age:   0%|          | 0/4 [00:00<?, ?it/s]    "
          ]
        },
        {
          "name": "stdout",
          "output_type": "stream",
          "text": [
            "1/1 [==============================] - 1s 595ms/step\n"
          ]
        },
        {
          "name": "stderr",
          "output_type": "stream",
          "text": [
            "Action: gender:  25%|██▌       | 1/4 [00:01<00:05,  1.87s/it]"
          ]
        },
        {
          "name": "stdout",
          "output_type": "stream",
          "text": [
            "1/1 [==============================] - 1s 588ms/step\n"
          ]
        },
        {
          "name": "stderr",
          "output_type": "stream",
          "text": [
            "Action: race:  50%|█████     | 2/4 [00:02<00:02,  1.14s/it]  "
          ]
        },
        {
          "name": "stdout",
          "output_type": "stream",
          "text": [
            "1/1 [==============================] - 1s 627ms/step\n"
          ]
        },
        {
          "name": "stderr",
          "output_type": "stream",
          "text": [
            "Action: emotion:  75%|███████▌  | 3/4 [00:03<00:00,  1.07it/s]"
          ]
        },
        {
          "name": "stdout",
          "output_type": "stream",
          "text": [
            "1/1 [==============================] - 0s 26ms/step\n"
          ]
        },
        {
          "name": "stderr",
          "output_type": "stream",
          "text": [
            "Action: emotion: 100%|██████████| 4/4 [00:04<00:00,  1.12s/it]\n"
          ]
        },
        {
          "name": "stdout",
          "output_type": "stream",
          "text": [
            "  SUCCESSS\n",
            "Mag Cover #45 found: 1955Aug.png\n"
          ]
        },
        {
          "name": "stderr",
          "output_type": "stream",
          "text": [
            "Action: age:   0%|          | 0/4 [00:01<?, ?it/s]\n"
          ]
        },
        {
          "name": "stdout",
          "output_type": "stream",
          "text": [
            "  ERROR: Face could not be detected. Please confirm that the picture is a face photo or consider to set enforce_detection param to False.\n",
            "Mag Cover #46 found: 1955Feb.png\n"
          ]
        },
        {
          "name": "stderr",
          "output_type": "stream",
          "text": [
            "Action: age:   0%|          | 0/4 [00:00<?, ?it/s]    "
          ]
        },
        {
          "name": "stdout",
          "output_type": "stream",
          "text": [
            "1/1 [==============================] - 1s 630ms/step\n"
          ]
        },
        {
          "name": "stderr",
          "output_type": "stream",
          "text": [
            "Action: gender:  25%|██▌       | 1/4 [00:01<00:04,  1.58s/it]"
          ]
        },
        {
          "name": "stdout",
          "output_type": "stream",
          "text": [
            "1/1 [==============================] - 1s 646ms/step\n"
          ]
        },
        {
          "name": "stderr",
          "output_type": "stream",
          "text": [
            "Action: race:  50%|█████     | 2/4 [00:02<00:02,  1.07s/it]  "
          ]
        },
        {
          "name": "stdout",
          "output_type": "stream",
          "text": [
            "1/1 [==============================] - 1s 620ms/step\n"
          ]
        },
        {
          "name": "stderr",
          "output_type": "stream",
          "text": [
            "Action: emotion:  75%|███████▌  | 3/4 [00:02<00:00,  1.13it/s]"
          ]
        },
        {
          "name": "stdout",
          "output_type": "stream",
          "text": [
            "1/1 [==============================] - 0s 23ms/step\n"
          ]
        },
        {
          "name": "stderr",
          "output_type": "stream",
          "text": [
            "Action: emotion: 100%|██████████| 4/4 [00:03<00:00,  1.01it/s]\n"
          ]
        },
        {
          "name": "stdout",
          "output_type": "stream",
          "text": [
            "  SUCCESSS\n",
            "Mag Cover #47 found: 1955Dec.png\n"
          ]
        },
        {
          "name": "stderr",
          "output_type": "stream",
          "text": [
            "Action: age:   0%|          | 0/4 [00:01<?, ?it/s]\n"
          ]
        },
        {
          "name": "stdout",
          "output_type": "stream",
          "text": [
            "  ERROR: Face could not be detected. Please confirm that the picture is a face photo or consider to set enforce_detection param to False.\n",
            "Mag Cover #48 found: 1955Apr.png\n"
          ]
        },
        {
          "name": "stderr",
          "output_type": "stream",
          "text": [
            "Action: age:   0%|          | 0/4 [00:00<?, ?it/s]\n"
          ]
        },
        {
          "name": "stdout",
          "output_type": "stream",
          "text": [
            "  ERROR: Face could not be detected. Please confirm that the picture is a face photo or consider to set enforce_detection param to False.\n",
            "Mag Cover #49 found: 1954Dec.png\n"
          ]
        },
        {
          "name": "stderr",
          "output_type": "stream",
          "text": [
            "Action: age:   0%|          | 0/4 [00:00<?, ?it/s]    "
          ]
        },
        {
          "name": "stdout",
          "output_type": "stream",
          "text": [
            "1/1 [==============================] - 1s 631ms/step\n"
          ]
        },
        {
          "name": "stderr",
          "output_type": "stream",
          "text": [
            "Action: gender:  25%|██▌       | 1/4 [00:01<00:05,  1.89s/it]"
          ]
        },
        {
          "name": "stdout",
          "output_type": "stream",
          "text": [
            "1/1 [==============================] - 1s 642ms/step\n"
          ]
        },
        {
          "name": "stderr",
          "output_type": "stream",
          "text": [
            "Action: race:  50%|█████     | 2/4 [00:02<00:02,  1.19s/it]  "
          ]
        },
        {
          "name": "stdout",
          "output_type": "stream",
          "text": [
            "1/1 [==============================] - 1s 650ms/step\n"
          ]
        },
        {
          "name": "stderr",
          "output_type": "stream",
          "text": [
            "Action: emotion:  75%|███████▌  | 3/4 [00:03<00:00,  1.02it/s]"
          ]
        },
        {
          "name": "stdout",
          "output_type": "stream",
          "text": [
            "1/1 [==============================] - 0s 26ms/step\n"
          ]
        },
        {
          "name": "stderr",
          "output_type": "stream",
          "text": [
            "Action: emotion: 100%|██████████| 4/4 [00:04<00:00,  1.15s/it]\n"
          ]
        },
        {
          "name": "stdout",
          "output_type": "stream",
          "text": [
            "  SUCCESSS\n",
            "Mag Cover #50 found: 1954Jul.png\n"
          ]
        },
        {
          "name": "stderr",
          "output_type": "stream",
          "text": [
            "Action: age:   0%|          | 0/4 [00:00<?, ?it/s]\n"
          ]
        },
        {
          "name": "stdout",
          "output_type": "stream",
          "text": [
            "  ERROR: Face could not be detected. Please confirm that the picture is a face photo or consider to set enforce_detection param to False.\n",
            "Mag Cover #51 found: 1954May.png\n"
          ]
        },
        {
          "name": "stderr",
          "output_type": "stream",
          "text": [
            "Action: age:   0%|          | 0/4 [00:01<?, ?it/s]\n"
          ]
        },
        {
          "name": "stdout",
          "output_type": "stream",
          "text": [
            "  ERROR: Face could not be detected. Please confirm that the picture is a face photo or consider to set enforce_detection param to False.\n",
            "Mag Cover #52 found: 1954Oct.png\n"
          ]
        },
        {
          "name": "stderr",
          "output_type": "stream",
          "text": [
            "Action: age:   0%|          | 0/4 [00:00<?, ?it/s]    "
          ]
        },
        {
          "name": "stdout",
          "output_type": "stream",
          "text": [
            "1/1 [==============================] - 1s 668ms/step\n"
          ]
        },
        {
          "name": "stderr",
          "output_type": "stream",
          "text": [
            "Action: gender:  25%|██▌       | 1/4 [00:01<00:03,  1.27s/it]"
          ]
        },
        {
          "name": "stdout",
          "output_type": "stream",
          "text": [
            "1/1 [==============================] - 1s 667ms/step\n"
          ]
        },
        {
          "name": "stderr",
          "output_type": "stream",
          "text": [
            "Action: race:  50%|█████     | 2/4 [00:02<00:01,  1.04it/s]  "
          ]
        },
        {
          "name": "stdout",
          "output_type": "stream",
          "text": [
            "1/1 [==============================] - 1s 657ms/step\n"
          ]
        },
        {
          "name": "stderr",
          "output_type": "stream",
          "text": [
            "Action: emotion:  75%|███████▌  | 3/4 [00:03<00:01,  1.13s/it]"
          ]
        },
        {
          "name": "stdout",
          "output_type": "stream",
          "text": [
            "1/1 [==============================] - 0s 24ms/step\n"
          ]
        },
        {
          "name": "stderr",
          "output_type": "stream",
          "text": [
            "Action: emotion: 100%|██████████| 4/4 [00:03<00:00,  1.01it/s]\n"
          ]
        },
        {
          "name": "stdout",
          "output_type": "stream",
          "text": [
            "  SUCCESSS\n",
            "Mag Cover #53 found: 1954Aug.png\n"
          ]
        },
        {
          "name": "stderr",
          "output_type": "stream",
          "text": [
            "Action: age:   0%|          | 0/4 [00:00<?, ?it/s]\n"
          ]
        },
        {
          "name": "stdout",
          "output_type": "stream",
          "text": [
            "  ERROR: Face could not be detected. Please confirm that the picture is a face photo or consider to set enforce_detection param to False.\n",
            "Mag Cover #54 found: 1954Apr.png\n"
          ]
        },
        {
          "name": "stderr",
          "output_type": "stream",
          "text": [
            "Action: age:   0%|          | 0/4 [00:00<?, ?it/s]\n"
          ]
        },
        {
          "name": "stdout",
          "output_type": "stream",
          "text": [
            "  ERROR: Face could not be detected. Please confirm that the picture is a face photo or consider to set enforce_detection param to False.\n",
            "Mag Cover #55 found: 1954Sep.png\n"
          ]
        },
        {
          "name": "stderr",
          "output_type": "stream",
          "text": [
            "Action: age:   0%|          | 0/4 [00:01<?, ?it/s]\n"
          ]
        },
        {
          "name": "stdout",
          "output_type": "stream",
          "text": [
            "  ERROR: Face could not be detected. Please confirm that the picture is a face photo or consider to set enforce_detection param to False.\n",
            "Mag Cover #56 found: 1954Feb.png\n"
          ]
        },
        {
          "name": "stderr",
          "output_type": "stream",
          "text": [
            "Action: age:   0%|          | 0/4 [00:00<?, ?it/s]    "
          ]
        },
        {
          "name": "stdout",
          "output_type": "stream",
          "text": [
            "1/1 [==============================] - 1s 642ms/step\n"
          ]
        },
        {
          "name": "stderr",
          "output_type": "stream",
          "text": [
            "Action: gender:  25%|██▌       | 1/4 [00:02<00:07,  2.37s/it]"
          ]
        },
        {
          "name": "stdout",
          "output_type": "stream",
          "text": [
            "1/1 [==============================] - 1s 634ms/step\n"
          ]
        },
        {
          "name": "stderr",
          "output_type": "stream",
          "text": [
            "Action: race:  50%|█████     | 2/4 [00:03<00:02,  1.38s/it]  "
          ]
        },
        {
          "name": "stdout",
          "output_type": "stream",
          "text": [
            "1/1 [==============================] - 1s 626ms/step\n"
          ]
        },
        {
          "name": "stderr",
          "output_type": "stream",
          "text": [
            "Action: emotion:  75%|███████▌  | 3/4 [00:03<00:01,  1.06s/it]"
          ]
        },
        {
          "name": "stdout",
          "output_type": "stream",
          "text": [
            "1/1 [==============================] - 0s 25ms/step\n"
          ]
        },
        {
          "name": "stderr",
          "output_type": "stream",
          "text": [
            "Action: emotion: 100%|██████████| 4/4 [00:04<00:00,  1.20s/it]\n"
          ]
        },
        {
          "name": "stdout",
          "output_type": "stream",
          "text": [
            "  SUCCESSS\n",
            "Mag Cover #57 found: 1954Nov.png\n"
          ]
        },
        {
          "name": "stderr",
          "output_type": "stream",
          "text": [
            "Action: age:   0%|          | 0/4 [00:00<?, ?it/s]\n"
          ]
        },
        {
          "name": "stdout",
          "output_type": "stream",
          "text": [
            "  ERROR: Face could not be detected. Please confirm that the picture is a face photo or consider to set enforce_detection param to False.\n",
            "Mag Cover #58 found: 1954Mar.png\n"
          ]
        },
        {
          "name": "stderr",
          "output_type": "stream",
          "text": [
            "Action: age:   0%|          | 0/4 [00:00<?, ?it/s]\n"
          ]
        },
        {
          "name": "stdout",
          "output_type": "stream",
          "text": [
            "  ERROR: Face could not be detected. Please confirm that the picture is a face photo or consider to set enforce_detection param to False.\n",
            "Mag Cover #59 found: 1954Jan.png\n"
          ]
        },
        {
          "name": "stderr",
          "output_type": "stream",
          "text": [
            "Action: age:   0%|          | 0/4 [00:00<?, ?it/s]    "
          ]
        },
        {
          "name": "stdout",
          "output_type": "stream",
          "text": [
            "1/1 [==============================] - 1s 635ms/step\n"
          ]
        },
        {
          "name": "stderr",
          "output_type": "stream",
          "text": [
            "Action: gender:  25%|██▌       | 1/4 [00:02<00:07,  2.50s/it]"
          ]
        },
        {
          "name": "stdout",
          "output_type": "stream",
          "text": [
            "1/1 [==============================] - 1s 637ms/step\n"
          ]
        },
        {
          "name": "stderr",
          "output_type": "stream",
          "text": [
            "Action: race:  50%|█████     | 2/4 [00:03<00:02,  1.45s/it]  "
          ]
        },
        {
          "name": "stdout",
          "output_type": "stream",
          "text": [
            "1/1 [==============================] - 1s 596ms/step\n"
          ]
        },
        {
          "name": "stderr",
          "output_type": "stream",
          "text": [
            "Action: emotion:  75%|███████▌  | 3/4 [00:03<00:01,  1.09s/it]"
          ]
        },
        {
          "name": "stdout",
          "output_type": "stream",
          "text": [
            "1/1 [==============================] - 0s 25ms/step\n"
          ]
        },
        {
          "name": "stderr",
          "output_type": "stream",
          "text": [
            "Action: emotion: 100%|██████████| 4/4 [00:05<00:00,  1.28s/it]\n"
          ]
        },
        {
          "name": "stdout",
          "output_type": "stream",
          "text": [
            "  SUCCESSS\n",
            "Mag Cover #60 found: 1954Jun.png\n"
          ]
        },
        {
          "name": "stderr",
          "output_type": "stream",
          "text": [
            "Action: age:   0%|          | 0/4 [00:00<?, ?it/s]\n"
          ]
        },
        {
          "name": "stdout",
          "output_type": "stream",
          "text": [
            "  ERROR: Face could not be detected. Please confirm that the picture is a face photo or consider to set enforce_detection param to False.\n",
            "Mag Cover #61 found: 1958May.png\n"
          ]
        },
        {
          "name": "stderr",
          "output_type": "stream",
          "text": [
            "Action: age:   0%|          | 0/4 [00:00<?, ?it/s]    "
          ]
        },
        {
          "name": "stdout",
          "output_type": "stream",
          "text": [
            "1/1 [==============================] - 1s 630ms/step\n"
          ]
        },
        {
          "name": "stderr",
          "output_type": "stream",
          "text": [
            "Action: gender:  25%|██▌       | 1/4 [00:01<00:05,  1.85s/it]"
          ]
        },
        {
          "name": "stdout",
          "output_type": "stream",
          "text": [
            "1/1 [==============================] - 1s 643ms/step\n"
          ]
        },
        {
          "name": "stderr",
          "output_type": "stream",
          "text": [
            "Action: race:  50%|█████     | 2/4 [00:03<00:03,  1.54s/it]  "
          ]
        },
        {
          "name": "stdout",
          "output_type": "stream",
          "text": [
            "1/1 [==============================] - 1s 607ms/step\n"
          ]
        },
        {
          "name": "stderr",
          "output_type": "stream",
          "text": [
            "Action: emotion:  75%|███████▌  | 3/4 [00:03<00:01,  1.16s/it]"
          ]
        },
        {
          "name": "stdout",
          "output_type": "stream",
          "text": [
            "1/1 [==============================] - 0s 29ms/step\n"
          ]
        },
        {
          "name": "stderr",
          "output_type": "stream",
          "text": [
            "Action: emotion: 100%|██████████| 4/4 [00:05<00:00,  1.28s/it]\n"
          ]
        },
        {
          "name": "stdout",
          "output_type": "stream",
          "text": [
            "  SUCCESSS\n",
            "Mag Cover #62 found: 1958Jan.png\n"
          ]
        },
        {
          "name": "stderr",
          "output_type": "stream",
          "text": [
            "Action: age:   0%|          | 0/4 [00:00<?, ?it/s]    "
          ]
        },
        {
          "name": "stdout",
          "output_type": "stream",
          "text": [
            "1/1 [==============================] - 1s 633ms/step\n"
          ]
        },
        {
          "name": "stderr",
          "output_type": "stream",
          "text": [
            "Action: gender:  25%|██▌       | 1/4 [00:01<00:05,  1.95s/it]"
          ]
        },
        {
          "name": "stdout",
          "output_type": "stream",
          "text": [
            "1/1 [==============================] - 1s 626ms/step\n"
          ]
        },
        {
          "name": "stderr",
          "output_type": "stream",
          "text": [
            "Action: race:  50%|█████     | 2/4 [00:02<00:02,  1.20s/it]  "
          ]
        },
        {
          "name": "stdout",
          "output_type": "stream",
          "text": [
            "1/1 [==============================] - 1s 591ms/step\n"
          ]
        },
        {
          "name": "stderr",
          "output_type": "stream",
          "text": [
            "Action: emotion:  75%|███████▌  | 3/4 [00:03<00:00,  1.06it/s]"
          ]
        },
        {
          "name": "stdout",
          "output_type": "stream",
          "text": [
            "1/1 [==============================] - 0s 23ms/step\n"
          ]
        },
        {
          "name": "stderr",
          "output_type": "stream",
          "text": [
            "Action: emotion: 100%|██████████| 4/4 [00:04<00:00,  1.14s/it]\n"
          ]
        },
        {
          "name": "stdout",
          "output_type": "stream",
          "text": [
            "  SUCCESSS\n",
            "Mag Cover #63 found: 1958Jul.png\n"
          ]
        },
        {
          "name": "stderr",
          "output_type": "stream",
          "text": [
            "Action: age:   0%|          | 0/4 [00:00<?, ?it/s]    "
          ]
        },
        {
          "name": "stdout",
          "output_type": "stream",
          "text": [
            "1/1 [==============================] - 1s 605ms/step\n"
          ]
        },
        {
          "name": "stderr",
          "output_type": "stream",
          "text": [
            "Action: gender:  25%|██▌       | 1/4 [00:01<00:05,  1.79s/it]"
          ]
        },
        {
          "name": "stdout",
          "output_type": "stream",
          "text": [
            "1/1 [==============================] - 1s 608ms/step\n"
          ]
        },
        {
          "name": "stderr",
          "output_type": "stream",
          "text": [
            "Action: race:  50%|█████     | 2/4 [00:02<00:02,  1.13s/it]  "
          ]
        },
        {
          "name": "stdout",
          "output_type": "stream",
          "text": [
            "1/1 [==============================] - 1s 613ms/step\n"
          ]
        },
        {
          "name": "stderr",
          "output_type": "stream",
          "text": [
            "Action: emotion:  75%|███████▌  | 3/4 [00:03<00:00,  1.09it/s]"
          ]
        },
        {
          "name": "stdout",
          "output_type": "stream",
          "text": [
            "1/1 [==============================] - 0s 26ms/step\n"
          ]
        },
        {
          "name": "stderr",
          "output_type": "stream",
          "text": [
            "Action: emotion: 100%|██████████| 4/4 [00:04<00:00,  1.08s/it]\n"
          ]
        },
        {
          "name": "stdout",
          "output_type": "stream",
          "text": [
            "  SUCCESSS\n",
            "Mag Cover #64 found: 1958Apr.png\n"
          ]
        },
        {
          "name": "stderr",
          "output_type": "stream",
          "text": [
            "Action: age:   0%|          | 0/4 [00:00<?, ?it/s]    "
          ]
        },
        {
          "name": "stdout",
          "output_type": "stream",
          "text": [
            "1/1 [==============================] - 1s 648ms/step\n"
          ]
        },
        {
          "name": "stderr",
          "output_type": "stream",
          "text": [
            "Action: gender:  25%|██▌       | 1/4 [00:01<00:04,  1.61s/it]"
          ]
        },
        {
          "name": "stdout",
          "output_type": "stream",
          "text": [
            "1/1 [==============================] - 1s 649ms/step\n"
          ]
        },
        {
          "name": "stderr",
          "output_type": "stream",
          "text": [
            "Action: race:  50%|█████     | 2/4 [00:02<00:02,  1.08s/it]  "
          ]
        },
        {
          "name": "stdout",
          "output_type": "stream",
          "text": [
            "1/1 [==============================] - 1s 637ms/step\n"
          ]
        },
        {
          "name": "stderr",
          "output_type": "stream",
          "text": [
            "Action: emotion:  75%|███████▌  | 3/4 [00:03<00:00,  1.11it/s]"
          ]
        },
        {
          "name": "stdout",
          "output_type": "stream",
          "text": [
            "1/1 [==============================] - 0s 27ms/step\n"
          ]
        },
        {
          "name": "stderr",
          "output_type": "stream",
          "text": [
            "Action: emotion: 100%|██████████| 4/4 [00:04<00:00,  1.01s/it]\n"
          ]
        },
        {
          "name": "stdout",
          "output_type": "stream",
          "text": [
            "  SUCCESSS\n",
            "Mag Cover #65 found: 1958Mar.png\n"
          ]
        },
        {
          "name": "stderr",
          "output_type": "stream",
          "text": [
            "Action: age:   0%|          | 0/4 [00:00<?, ?it/s]    "
          ]
        },
        {
          "name": "stdout",
          "output_type": "stream",
          "text": [
            "1/1 [==============================] - 1s 636ms/step\n"
          ]
        },
        {
          "name": "stderr",
          "output_type": "stream",
          "text": [
            "Action: gender:  25%|██▌       | 1/4 [00:02<00:07,  2.36s/it]"
          ]
        },
        {
          "name": "stdout",
          "output_type": "stream",
          "text": [
            "1/1 [==============================] - 1s 636ms/step\n"
          ]
        },
        {
          "name": "stderr",
          "output_type": "stream",
          "text": [
            "Action: race:  50%|█████     | 2/4 [00:03<00:03,  1.75s/it]  "
          ]
        },
        {
          "name": "stdout",
          "output_type": "stream",
          "text": [
            "1/1 [==============================] - 1s 616ms/step\n"
          ]
        },
        {
          "name": "stderr",
          "output_type": "stream",
          "text": [
            "Action: emotion:  75%|███████▌  | 3/4 [00:04<00:01,  1.27s/it]"
          ]
        },
        {
          "name": "stdout",
          "output_type": "stream",
          "text": [
            "1/1 [==============================] - 0s 22ms/step\n"
          ]
        },
        {
          "name": "stderr",
          "output_type": "stream",
          "text": [
            "Action: emotion: 100%|██████████| 4/4 [00:05<00:00,  1.37s/it]\n"
          ]
        },
        {
          "name": "stdout",
          "output_type": "stream",
          "text": [
            "  SUCCESSS\n",
            "Mag Cover #66 found: 1958Jun.png\n"
          ]
        },
        {
          "name": "stderr",
          "output_type": "stream",
          "text": [
            "Action: age:   0%|          | 0/4 [00:00<?, ?it/s]    "
          ]
        },
        {
          "name": "stdout",
          "output_type": "stream",
          "text": [
            "1/1 [==============================] - 1s 619ms/step\n"
          ]
        },
        {
          "name": "stderr",
          "output_type": "stream",
          "text": [
            "Action: gender:  25%|██▌       | 1/4 [00:01<00:04,  1.36s/it]"
          ]
        },
        {
          "name": "stdout",
          "output_type": "stream",
          "text": [
            "1/1 [==============================] - 1s 612ms/step\n"
          ]
        },
        {
          "name": "stderr",
          "output_type": "stream",
          "text": [
            "Action: race:  50%|█████     | 2/4 [00:02<00:01,  1.05it/s]  "
          ]
        },
        {
          "name": "stdout",
          "output_type": "stream",
          "text": [
            "1/1 [==============================] - 1s 599ms/step\n"
          ]
        },
        {
          "name": "stderr",
          "output_type": "stream",
          "text": [
            "Action: emotion:  75%|███████▌  | 3/4 [00:02<00:00,  1.23it/s]"
          ]
        },
        {
          "name": "stdout",
          "output_type": "stream",
          "text": [
            "1/1 [==============================] - 0s 27ms/step\n"
          ]
        },
        {
          "name": "stderr",
          "output_type": "stream",
          "text": [
            "Action: emotion: 100%|██████████| 4/4 [00:03<00:00,  1.15it/s]\n"
          ]
        },
        {
          "name": "stdout",
          "output_type": "stream",
          "text": [
            "  SUCCESSS\n",
            "Mag Cover #67 found: 1958Oct.png\n"
          ]
        },
        {
          "name": "stderr",
          "output_type": "stream",
          "text": [
            "Action: age:   0%|          | 0/4 [00:00<?, ?it/s]    "
          ]
        },
        {
          "name": "stdout",
          "output_type": "stream",
          "text": [
            "1/1 [==============================] - 1s 635ms/step\n"
          ]
        },
        {
          "name": "stderr",
          "output_type": "stream",
          "text": [
            "Action: gender:  25%|██▌       | 1/4 [00:01<00:05,  1.73s/it]"
          ]
        },
        {
          "name": "stdout",
          "output_type": "stream",
          "text": [
            "1/1 [==============================] - 1s 640ms/step\n"
          ]
        },
        {
          "name": "stderr",
          "output_type": "stream",
          "text": [
            "Action: race:  50%|█████     | 2/4 [00:02<00:02,  1.13s/it]  "
          ]
        },
        {
          "name": "stdout",
          "output_type": "stream",
          "text": [
            "1/1 [==============================] - 1s 639ms/step\n"
          ]
        },
        {
          "name": "stderr",
          "output_type": "stream",
          "text": [
            "Action: emotion:  75%|███████▌  | 3/4 [00:03<00:01,  1.22s/it]"
          ]
        },
        {
          "name": "stdout",
          "output_type": "stream",
          "text": [
            "1/1 [==============================] - 0s 28ms/step\n"
          ]
        },
        {
          "name": "stderr",
          "output_type": "stream",
          "text": [
            "Action: emotion: 100%|██████████| 4/4 [00:04<00:00,  1.22s/it]\n"
          ]
        },
        {
          "name": "stdout",
          "output_type": "stream",
          "text": [
            "  SUCCESSS\n",
            "Mag Cover #68 found: 1958Feb.png\n"
          ]
        },
        {
          "name": "stderr",
          "output_type": "stream",
          "text": [
            "Action: age:   0%|          | 0/4 [00:00<?, ?it/s]\n"
          ]
        },
        {
          "name": "stdout",
          "output_type": "stream",
          "text": [
            "  ERROR: Face could not be detected. Please confirm that the picture is a face photo or consider to set enforce_detection param to False.\n",
            "Mag Cover #69 found: 1958Nov.png\n"
          ]
        },
        {
          "name": "stderr",
          "output_type": "stream",
          "text": [
            "Action: age:   0%|          | 0/4 [00:00<?, ?it/s]\n"
          ]
        },
        {
          "name": "stdout",
          "output_type": "stream",
          "text": [
            "  ERROR: Face could not be detected. Please confirm that the picture is a face photo or consider to set enforce_detection param to False.\n",
            "Mag Cover #70 found: 1958Sep.png\n"
          ]
        },
        {
          "name": "stderr",
          "output_type": "stream",
          "text": [
            "Action: age:   0%|          | 0/4 [00:00<?, ?it/s]    "
          ]
        },
        {
          "name": "stdout",
          "output_type": "stream",
          "text": [
            "1/1 [==============================] - 1s 618ms/step\n"
          ]
        },
        {
          "name": "stderr",
          "output_type": "stream",
          "text": [
            "Action: gender:  25%|██▌       | 1/4 [00:02<00:06,  2.03s/it]"
          ]
        },
        {
          "name": "stdout",
          "output_type": "stream",
          "text": [
            "1/1 [==============================] - 1s 648ms/step\n"
          ]
        },
        {
          "name": "stderr",
          "output_type": "stream",
          "text": [
            "Action: race:  50%|█████     | 2/4 [00:03<00:03,  1.62s/it]  "
          ]
        },
        {
          "name": "stdout",
          "output_type": "stream",
          "text": [
            "1/1 [==============================] - 1s 1s/step\n"
          ]
        },
        {
          "name": "stderr",
          "output_type": "stream",
          "text": [
            "Action: emotion:  75%|███████▌  | 3/4 [00:04<00:01,  1.51s/it]"
          ]
        },
        {
          "name": "stdout",
          "output_type": "stream",
          "text": [
            "1/1 [==============================] - 0s 34ms/step\n"
          ]
        },
        {
          "name": "stderr",
          "output_type": "stream",
          "text": [
            "Action: emotion: 100%|██████████| 4/4 [00:06<00:00,  1.55s/it]\n"
          ]
        },
        {
          "name": "stdout",
          "output_type": "stream",
          "text": [
            "  SUCCESSS\n",
            "Mag Cover #71 found: 1958Dec.png\n"
          ]
        },
        {
          "name": "stderr",
          "output_type": "stream",
          "text": [
            "Action: age:   0%|          | 0/4 [00:00<?, ?it/s]\n"
          ]
        },
        {
          "name": "stdout",
          "output_type": "stream",
          "text": [
            "  ERROR: Face could not be detected. Please confirm that the picture is a face photo or consider to set enforce_detection param to False.\n",
            "Mag Cover #72 found: 1958Aug.png\n"
          ]
        },
        {
          "name": "stderr",
          "output_type": "stream",
          "text": [
            "Action: age:   0%|          | 0/4 [00:00<?, ?it/s]    "
          ]
        },
        {
          "name": "stdout",
          "output_type": "stream",
          "text": [
            "1/1 [==============================] - 1s 663ms/step\n"
          ]
        },
        {
          "name": "stderr",
          "output_type": "stream",
          "text": [
            "Action: gender:  25%|██▌       | 1/4 [00:02<00:06,  2.05s/it]"
          ]
        },
        {
          "name": "stdout",
          "output_type": "stream",
          "text": [
            "1/1 [==============================] - 1s 648ms/step\n"
          ]
        },
        {
          "name": "stderr",
          "output_type": "stream",
          "text": [
            "Action: race:  50%|█████     | 2/4 [00:02<00:02,  1.25s/it]  "
          ]
        },
        {
          "name": "stdout",
          "output_type": "stream",
          "text": [
            "1/1 [==============================] - 1s 628ms/step\n"
          ]
        },
        {
          "name": "stderr",
          "output_type": "stream",
          "text": [
            "Action: emotion:  75%|███████▌  | 3/4 [00:03<00:00,  1.01it/s]"
          ]
        },
        {
          "name": "stdout",
          "output_type": "stream",
          "text": [
            "1/1 [==============================] - 0s 25ms/step\n"
          ]
        },
        {
          "name": "stderr",
          "output_type": "stream",
          "text": [
            "Action: emotion: 100%|██████████| 4/4 [00:04<00:00,  1.04s/it]"
          ]
        },
        {
          "name": "stdout",
          "output_type": "stream",
          "text": [
            "  SUCCESSS\n",
            "DONE: Processed 39\n"
          ]
        },
        {
          "name": "stderr",
          "output_type": "stream",
          "text": [
            "\n"
          ]
        }
      ],
      "source": [
        "# Face Emtional analysis of upto max_cover_ct *.png images under the data directory\n",
        "\n",
        "def get_face_emotions(adir):\n",
        "  \"\"\"\n",
        "  Given a subdir of *.png files\n",
        "\n",
        "  Return a dict[<png filename_root>] = dict[face emo detection factors]\n",
        "  \"\"\"\n",
        "  cover_face_dt = {}\n",
        "\n",
        "  max_cover_ct = 1000  # Set upper limit on max number of cover images to process\n",
        "\n",
        "  # cover_obj_ls = []\n",
        "  error_log_ls = []\n",
        "  # cover_date_ls = []\n",
        "\n",
        "  break_out_fl = False\n",
        "\n",
        "  total_ct = 0\n",
        "  for root, subfolders, filenames in os.walk(adir):\n",
        "    for i,afile in enumerate(filenames):\n",
        "\n",
        "      if i >= max_cover_ct:\n",
        "        break_out_fl = True\n",
        "        break\n",
        "\n",
        "      if afile.split('.')[-1] == 'png':\n",
        "        total_ct += 1\n",
        "        print(f'Mag Cover #{total_ct} found: {afile}')\n",
        "        # print(root, subfolders, filenames)\n",
        "        fullpath2file = f'./{root}/{afile}'\n",
        "        # print(f'  fullpath: {fullpath2file}')\n",
        "        try:\n",
        "          obj = DeepFace.analyze(img_path = fullpath2file, actions = ['age', 'gender', 'race', 'emotion'])\n",
        "          # cover_obj_ls.append(obj)\n",
        "          cover_face_dt[afile] = obj\n",
        "          # cover_date_ls.append(afile.split('.')[0])\n",
        "          print(f'  SUCCESSS')\n",
        "        except Exception as e:\n",
        "          error_log_ls.append(f'Failed to upload to ftp: {str(e)}')\n",
        "          # cover_face_dt[afile] = str(e)\n",
        "          print(f'  ERROR: {str(e)}')\n",
        "            \n",
        "    if break_out_fl:\n",
        "      break\n",
        "\n",
        "  # print(f'DONE: Processed {len(cover_obj_ls)}')\n",
        "  print(f'DONE: Processed {len(cover_face_dt)}')\n",
        "\n",
        "  return cover_face_dt\n",
        "\n",
        "# Test\n",
        "\n",
        "asubdir = 'playboycovers_1950s'\n",
        "test_face_dt = get_face_emotions(f'data/{asubdir}')\n",
        "\n"
      ]
    },
    {
      "cell_type": "code",
      "execution_count": null,
      "metadata": {
        "id": "Jhy4y2AESqZe"
      },
      "outputs": [],
      "source": [
        "# Iterate over all subfolders\n",
        "\n",
        "for i,asubdir in enumerate(subdirs_ls):\n",
        "  print(f'Processing #{i}: {asubdir}')"
      ]
    },
    {
      "cell_type": "code",
      "execution_count": null,
      "metadata": {
        "id": "YvXBTkzkSqWY"
      },
      "outputs": [],
      "source": []
    },
    {
      "cell_type": "code",
      "execution_count": null,
      "metadata": {
        "colab": {
          "base_uri": "https://localhost:8080/"
        },
        "id": "n-9Bpn93YX-w",
        "outputId": "feaf9e5f-1444-4852-c2f8-2f1c642e816b"
      },
      "outputs": [
        {
          "data": {
            "text/plain": [
              "dict_keys(['1978Apr.png', '1978May.png', '1978Mar.png', '1978Feb.png', '1978Nov.png', '1978Jun.png', '1978Oct.png'])"
            ]
          },
          "execution_count": 25,
          "metadata": {},
          "output_type": "execute_result"
        }
      ],
      "source": [
        "cover_face_dt.keys()"
      ]
    },
    {
      "cell_type": "code",
      "execution_count": null,
      "metadata": {
        "colab": {
          "base_uri": "https://localhost:8080/"
        },
        "id": "KS6hBaRrQZGg",
        "outputId": "73694dcc-9d98-4308-c63c-10a349195809"
      },
      "outputs": [
        {
          "data": {
            "text/plain": [
              "{'age': 30,\n",
              " 'region': {'x': 689, 'y': 532, 'w': 96, 'h': 96},\n",
              " 'gender': 'Woman',\n",
              " 'race': {'asian': 0.7697999004900397,\n",
              "  'indian': 0.752361675865154,\n",
              "  'black': 0.05664319370422922,\n",
              "  'white': 77.07255346015414,\n",
              "  'middle eastern': 14.025089980667232,\n",
              "  'latino hispanic': 7.3235568299029365},\n",
              " 'dominant_race': 'white',\n",
              " 'emotion': {'angry': 0.0811042613349855,\n",
              "  'disgust': 3.915354498951196e-09,\n",
              "  'fear': 3.0390276606340194e-05,\n",
              "  'happy': 65.71416854858398,\n",
              "  'sad': 0.12575499713420868,\n",
              "  'surprise': 0.00017327960222246475,\n",
              "  'neutral': 34.07876789569855},\n",
              " 'dominant_emotion': 'happy'}"
            ]
          },
          "execution_count": 27,
          "metadata": {},
          "output_type": "execute_result"
        }
      ],
      "source": [
        "cover_face_dt['1978Apr.png']"
      ]
    },
    {
      "cell_type": "code",
      "execution_count": null,
      "metadata": {
        "colab": {
          "base_uri": "https://localhost:8080/"
        },
        "id": "mmc1yPRV0ek1",
        "outputId": "0303f676-82e8-4e92-f67f-17b7017bc855"
      },
      "outputs": [
        {
          "data": {
            "text/plain": [
              "7"
            ]
          },
          "execution_count": 28,
          "metadata": {},
          "output_type": "execute_result"
        }
      ],
      "source": [
        "len(cover_face_dt)"
      ]
    },
    {
      "cell_type": "code",
      "execution_count": null,
      "metadata": {
        "colab": {
          "base_uri": "https://localhost:8080/"
        },
        "id": "TLeTHYXe0oW9",
        "outputId": "81703416-3f41-42ff-a77d-d632a910238d"
      },
      "outputs": [
        {
          "name": "stdout",
          "output_type": "stream",
          "text": [
            "{'age': 30, 'region': {'x': 689, 'y': 532, 'w': 96, 'h': 96}, 'gender': 'Woman', 'race': {'asian': 0.7697999004900397, 'indian': 0.752361675865154, 'black': 0.05664319370422922, 'white': 77.07255346015414, 'middle eastern': 14.025089980667232, 'latino hispanic': 7.3235568299029365}, 'dominant_race': 'white', 'emotion': {'angry': 0.0811042613349855, 'disgust': 3.915354498951196e-09, 'fear': 3.0390276606340194e-05, 'happy': 65.71416854858398, 'sad': 0.12575499713420868, 'surprise': 0.00017327960222246475, 'neutral': 34.07876789569855}, 'dominant_emotion': 'happy'}\n",
            "\n",
            "{'age': 35, 'region': {'x': 466, 'y': 262, 'w': 180, 'h': 180}, 'gender': 'Woman', 'race': {'asian': 5.435488645157027e-10, 'indian': 1.2663145697319652e-10, 'black': 2.0801172900568134e-13, 'white': 99.99985694883549, 'middle eastern': 6.773074358316446e-05, 'latino hispanic': 8.043117353943196e-05}, 'dominant_race': 'white', 'emotion': {'angry': 0.1268289942453202, 'disgust': 5.191717232486899e-05, 'fear': 0.05555929132345565, 'happy': 3.3439250793412376, 'sad': 0.029610803485933153, 'surprise': 0.19650432521130592, 'neutral': 96.24751783892619}, 'dominant_emotion': 'neutral'}\n",
            "\n",
            "{'age': 32, 'region': {'x': 694, 'y': 374, 'w': 113, 'h': 113}, 'gender': 'Woman', 'race': {'asian': 0.48676224532796414, 'indian': 0.792020979048072, 'black': 0.07689624202564312, 'white': 71.02519101054615, 'middle eastern': 14.348854979804456, 'latino hispanic': 13.270276085750824}, 'dominant_race': 'white', 'emotion': {'angry': 0.11520101688802242, 'disgust': 2.0891051475541156e-10, 'fear': 6.553559750318527, 'happy': 1.527974120563158e-05, 'sad': 80.45914769172668, 'surprise': 0.0005827329005114734, 'neutral': 12.8714919090271}, 'dominant_emotion': 'sad'}\n",
            "\n",
            "{'age': 30, 'region': {'x': 450, 'y': 212, 'w': 139, 'h': 139}, 'gender': 'Woman', 'race': {'asian': 0.006201307775344418, 'indian': 0.003790193885282994, 'black': 0.00015763884933314297, 'white': 99.04409045243803, 'middle eastern': 0.4990675784091698, 'latino hispanic': 0.44668813104558774}, 'dominant_race': 'white', 'emotion': {'angry': 16.107642650604248, 'disgust': 0.0032911309972405434, 'fear': 27.731788158416748, 'happy': 0.003328810998937115, 'sad': 31.423726677894592, 'surprise': 0.017206082702614367, 'neutral': 24.71301406621933}, 'dominant_emotion': 'sad'}\n",
            "\n",
            "{'age': 28, 'region': {'x': 343, 'y': 998, 'w': 92, 'h': 92}, 'gender': 'Man', 'race': {'asian': 0.41918191127479076, 'indian': 0.8006986230611801, 'black': 0.34288184251636267, 'white': 56.51198625564575, 'middle eastern': 34.4692200422287, 'latino hispanic': 7.4560292065143585}, 'dominant_race': 'white', 'emotion': {'angry': 0.18572636181488633, 'disgust': 2.1282076101414305e-07, 'fear': 44.14812922477722, 'happy': 1.8523398786783218, 'sad': 6.694169342517853, 'surprise': 0.00466398851131089, 'neutral': 47.1149742603302}, 'dominant_emotion': 'neutral'}\n",
            "\n",
            "{'age': 38, 'region': {'x': 433, 'y': 260, 'w': 166, 'h': 166}, 'gender': 'Woman', 'race': {'asian': 9.678073098484674e-06, 'indian': 7.4870129651571915e-06, 'black': 8.929192385487283e-08, 'white': 99.96757507324219, 'middle eastern': 0.01389094686601311, 'latino hispanic': 0.018515971896704286}, 'dominant_race': 'white', 'emotion': {'angry': 0.02196014654906351, 'disgust': 9.486370509782824e-06, 'fear': 0.0002876609075467881, 'happy': 93.55037731532781, 'sad': 0.003266669253361099, 'surprise': 7.31162318365848e-05, 'neutral': 6.424027702096427}, 'dominant_emotion': 'happy'}\n",
            "\n",
            "{'age': 44, 'region': {'x': 363, 'y': 531, 'w': 334, 'h': 334}, 'gender': 'Woman', 'race': {'asian': 1.0401744743315788e-08, 'indian': 6.372955635436384e-09, 'black': 8.105696696529899e-12, 'white': 99.99953508377075, 'middle eastern': 0.00039049145925673656, 'latino hispanic': 7.396723162855778e-05}, 'dominant_race': 'white', 'emotion': {'angry': 1.7388021392700703e-06, 'disgust': 9.228883917140757e-10, 'fear': 1.5985916461153426e-05, 'happy': 99.99893903744947, 'sad': 4.416655314548875e-06, 'surprise': 1.7236056081607133e-07, 'neutral': 0.0010370290184023656}, 'dominant_emotion': 'happy'}\n",
            "\n"
          ]
        },
        {
          "data": {
            "text/plain": [
              "[None, None, None, None, None, None, None]"
            ]
          },
          "execution_count": 29,
          "metadata": {},
          "output_type": "execute_result"
        }
      ],
      "source": [
        "[print(f'{x}\\n') for x in list(cover_face_dt.values())]"
      ]
    },
    {
      "cell_type": "code",
      "execution_count": null,
      "metadata": {
        "colab": {
          "base_uri": "https://localhost:8080/"
        },
        "id": "Zukk6P08OFSH",
        "outputId": "87973545-f071-4617-dd54-fc09e4452220"
      },
      "outputs": [
        {
          "data": {
            "text/plain": [
              "{'age': 44,\n",
              " 'region': {'x': 363, 'y': 531, 'w': 334, 'h': 334},\n",
              " 'gender': 'Woman',\n",
              " 'race': {'asian': 1.0401744743315788e-08,\n",
              "  'indian': 6.372955635436384e-09,\n",
              "  'black': 8.105696696529899e-12,\n",
              "  'white': 99.99953508377075,\n",
              "  'middle eastern': 0.00039049145925673656,\n",
              "  'latino hispanic': 7.396723162855778e-05},\n",
              " 'dominant_race': 'white',\n",
              " 'emotion': {'angry': 1.7388021392700703e-06,\n",
              "  'disgust': 9.228883917140757e-10,\n",
              "  'fear': 1.5985916461153426e-05,\n",
              "  'happy': 99.99893903744947,\n",
              "  'sad': 4.416655314548875e-06,\n",
              "  'surprise': 1.7236056081607133e-07,\n",
              "  'neutral': 0.0010370290184023656},\n",
              " 'dominant_emotion': 'happy'}"
            ]
          },
          "execution_count": 58,
          "metadata": {},
          "output_type": "execute_result"
        }
      ],
      "source": [
        "cover_features"
      ]
    },
    {
      "cell_type": "code",
      "execution_count": null,
      "metadata": {
        "colab": {
          "base_uri": "https://localhost:8080/",
          "height": 1000
        },
        "id": "Z19ruvIZzr79",
        "outputId": "89119e1b-ba4d-4b98-f052-3219c3bdc2cc"
      },
      "outputs": [
        {
          "name": "stdout",
          "output_type": "stream",
          "text": [
            "Processing 1978Apr.png: {'age': 30, 'region': {'x': 689, 'y': 532, 'w': 96, 'h': 96}, 'gender': 'Woman', 'race': {'asian': 0.7697999004900397, 'indian': 0.752361675865154, 'black': 0.05664319370422922, 'white': 77.07255346015414, 'middle eastern': 14.025089980667232, 'latino hispanic': 7.3235568299029365}, 'dominant_race': 'white', 'emotion': {'angry': 0.0811042613349855, 'disgust': 3.915354498951196e-09, 'fear': 3.0390276606340194e-05, 'happy': 65.71416854858398, 'sad': 0.12575499713420868, 'surprise': 0.00017327960222246475, 'neutral': 34.07876789569855}, 'dominant_emotion': 'happy'}\n",
            "          [21 Cols]: ['age', 'gender', 'dominant_race', 'dominant_emotion', 'region.x', 'region.y', 'region.w', 'region.h', 'race.asian', 'race.indian', 'race.black', 'race.white', 'race.middle eastern', 'race.latino hispanic', 'emotion.angry', 'emotion.disgust', 'emotion.fear', 'emotion.happy', 'emotion.sad', 'emotion.surprise', 'emotion.neutral']\n",
            "  ['1978Apr', 30, 'Woman', 'white', 'happy', 689, 532, 96, 96, 0.7697999004900397, 0.752361675865154, 0.05664319370422922, 77.07255346015414, 14.025089980667232, 7.3235568299029365, 0.0811042613349855, 3.915354498951196e-09, 3.0390276606340194e-05, 65.71416854858398, 0.12575499713420868, 0.00017327960222246475, 34.07876789569855]\n",
            "\n",
            "\n"
          ]
        },
        {
          "data": {
            "text/html": [
              "\n",
              "  <div id=\"df-3bab464a-5955-4613-a402-ed87f0ae3e9b\">\n",
              "    <div class=\"colab-df-container\">\n",
              "      <div>\n",
              "<style scoped>\n",
              "    .dataframe tbody tr th:only-of-type {\n",
              "        vertical-align: middle;\n",
              "    }\n",
              "\n",
              "    .dataframe tbody tr th {\n",
              "        vertical-align: top;\n",
              "    }\n",
              "\n",
              "    .dataframe thead th {\n",
              "        text-align: right;\n",
              "    }\n",
              "</style>\n",
              "<table border=\"1\" class=\"dataframe\">\n",
              "  <thead>\n",
              "    <tr style=\"text-align: right;\">\n",
              "      <th></th>\n",
              "      <th>age</th>\n",
              "      <th>gender</th>\n",
              "      <th>dominant_race</th>\n",
              "      <th>dominant_emotion</th>\n",
              "      <th>region.x</th>\n",
              "      <th>region.y</th>\n",
              "      <th>region.w</th>\n",
              "      <th>region.h</th>\n",
              "      <th>race.asian</th>\n",
              "      <th>race.indian</th>\n",
              "      <th>...</th>\n",
              "      <th>race.white</th>\n",
              "      <th>race.middle eastern</th>\n",
              "      <th>race.latino hispanic</th>\n",
              "      <th>emotion.angry</th>\n",
              "      <th>emotion.disgust</th>\n",
              "      <th>emotion.fear</th>\n",
              "      <th>emotion.happy</th>\n",
              "      <th>emotion.sad</th>\n",
              "      <th>emotion.surprise</th>\n",
              "      <th>emotion.neutral</th>\n",
              "    </tr>\n",
              "  </thead>\n",
              "  <tbody>\n",
              "    <tr>\n",
              "      <th>0</th>\n",
              "      <td>30</td>\n",
              "      <td>Woman</td>\n",
              "      <td>white</td>\n",
              "      <td>happy</td>\n",
              "      <td>689</td>\n",
              "      <td>532</td>\n",
              "      <td>96</td>\n",
              "      <td>96</td>\n",
              "      <td>0.7698</td>\n",
              "      <td>0.752362</td>\n",
              "      <td>...</td>\n",
              "      <td>77.072553</td>\n",
              "      <td>14.02509</td>\n",
              "      <td>7.323557</td>\n",
              "      <td>0.081104</td>\n",
              "      <td>3.915354e-09</td>\n",
              "      <td>0.00003</td>\n",
              "      <td>65.714169</td>\n",
              "      <td>0.125755</td>\n",
              "      <td>0.000173</td>\n",
              "      <td>34.078768</td>\n",
              "    </tr>\n",
              "  </tbody>\n",
              "</table>\n",
              "<p>1 rows × 21 columns</p>\n",
              "</div>\n",
              "      <button class=\"colab-df-convert\" onclick=\"convertToInteractive('df-3bab464a-5955-4613-a402-ed87f0ae3e9b')\"\n",
              "              title=\"Convert this dataframe to an interactive table.\"\n",
              "              style=\"display:none;\">\n",
              "        \n",
              "  <svg xmlns=\"http://www.w3.org/2000/svg\" height=\"24px\"viewBox=\"0 0 24 24\"\n",
              "       width=\"24px\">\n",
              "    <path d=\"M0 0h24v24H0V0z\" fill=\"none\"/>\n",
              "    <path d=\"M18.56 5.44l.94 2.06.94-2.06 2.06-.94-2.06-.94-.94-2.06-.94 2.06-2.06.94zm-11 1L8.5 8.5l.94-2.06 2.06-.94-2.06-.94L8.5 2.5l-.94 2.06-2.06.94zm10 10l.94 2.06.94-2.06 2.06-.94-2.06-.94-.94-2.06-.94 2.06-2.06.94z\"/><path d=\"M17.41 7.96l-1.37-1.37c-.4-.4-.92-.59-1.43-.59-.52 0-1.04.2-1.43.59L10.3 9.45l-7.72 7.72c-.78.78-.78 2.05 0 2.83L4 21.41c.39.39.9.59 1.41.59.51 0 1.02-.2 1.41-.59l7.78-7.78 2.81-2.81c.8-.78.8-2.07 0-2.86zM5.41 20L4 18.59l7.72-7.72 1.47 1.35L5.41 20z\"/>\n",
              "  </svg>\n",
              "      </button>\n",
              "      \n",
              "  <style>\n",
              "    .colab-df-container {\n",
              "      display:flex;\n",
              "      flex-wrap:wrap;\n",
              "      gap: 12px;\n",
              "    }\n",
              "\n",
              "    .colab-df-convert {\n",
              "      background-color: #E8F0FE;\n",
              "      border: none;\n",
              "      border-radius: 50%;\n",
              "      cursor: pointer;\n",
              "      display: none;\n",
              "      fill: #1967D2;\n",
              "      height: 32px;\n",
              "      padding: 0 0 0 0;\n",
              "      width: 32px;\n",
              "    }\n",
              "\n",
              "    .colab-df-convert:hover {\n",
              "      background-color: #E2EBFA;\n",
              "      box-shadow: 0px 1px 2px rgba(60, 64, 67, 0.3), 0px 1px 3px 1px rgba(60, 64, 67, 0.15);\n",
              "      fill: #174EA6;\n",
              "    }\n",
              "\n",
              "    [theme=dark] .colab-df-convert {\n",
              "      background-color: #3B4455;\n",
              "      fill: #D2E3FC;\n",
              "    }\n",
              "\n",
              "    [theme=dark] .colab-df-convert:hover {\n",
              "      background-color: #434B5C;\n",
              "      box-shadow: 0px 1px 3px 1px rgba(0, 0, 0, 0.15);\n",
              "      filter: drop-shadow(0px 1px 2px rgba(0, 0, 0, 0.3));\n",
              "      fill: #FFFFFF;\n",
              "    }\n",
              "  </style>\n",
              "\n",
              "      <script>\n",
              "        const buttonEl =\n",
              "          document.querySelector('#df-3bab464a-5955-4613-a402-ed87f0ae3e9b button.colab-df-convert');\n",
              "        buttonEl.style.display =\n",
              "          google.colab.kernel.accessAllowed ? 'block' : 'none';\n",
              "\n",
              "        async function convertToInteractive(key) {\n",
              "          const element = document.querySelector('#df-3bab464a-5955-4613-a402-ed87f0ae3e9b');\n",
              "          const dataTable =\n",
              "            await google.colab.kernel.invokeFunction('convertToInteractive',\n",
              "                                                     [key], {});\n",
              "          if (!dataTable) return;\n",
              "\n",
              "          const docLinkHtml = 'Like what you see? Visit the ' +\n",
              "            '<a target=\"_blank\" href=https://colab.research.google.com/notebooks/data_table.ipynb>data table notebook</a>'\n",
              "            + ' to learn more about interactive tables.';\n",
              "          element.innerHTML = '';\n",
              "          dataTable['output_type'] = 'display_data';\n",
              "          await google.colab.output.renderOutput(dataTable, element);\n",
              "          const docLink = document.createElement('div');\n",
              "          docLink.innerHTML = docLinkHtml;\n",
              "          element.appendChild(docLink);\n",
              "        }\n",
              "      </script>\n",
              "    </div>\n",
              "  </div>\n",
              "  "
            ],
            "text/plain": [
              "   age gender dominant_race dominant_emotion  region.x  region.y  region.w  \\\n",
              "0   30  Woman         white            happy       689       532        96   \n",
              "\n",
              "   region.h  race.asian  race.indian  ...  race.white  race.middle eastern  \\\n",
              "0        96      0.7698     0.752362  ...   77.072553             14.02509   \n",
              "\n",
              "   race.latino hispanic  emotion.angry  emotion.disgust  emotion.fear  \\\n",
              "0              7.323557       0.081104     3.915354e-09       0.00003   \n",
              "\n",
              "   emotion.happy  emotion.sad  emotion.surprise  emotion.neutral  \n",
              "0      65.714169     0.125755          0.000173        34.078768  \n",
              "\n",
              "[1 rows x 21 columns]"
            ]
          },
          "execution_count": 65,
          "metadata": {},
          "output_type": "execute_result"
        },
        {
          "name": "stdout",
          "output_type": "stream",
          "text": [
            "Processing 1978May.png: {'age': 35, 'region': {'x': 466, 'y': 262, 'w': 180, 'h': 180}, 'gender': 'Woman', 'race': {'asian': 5.435488645157027e-10, 'indian': 1.2663145697319652e-10, 'black': 2.0801172900568134e-13, 'white': 99.99985694883549, 'middle eastern': 6.773074358316446e-05, 'latino hispanic': 8.043117353943196e-05}, 'dominant_race': 'white', 'emotion': {'angry': 0.1268289942453202, 'disgust': 5.191717232486899e-05, 'fear': 0.05555929132345565, 'happy': 3.3439250793412376, 'sad': 0.029610803485933153, 'surprise': 0.19650432521130592, 'neutral': 96.24751783892619}, 'dominant_emotion': 'neutral'}\n",
            "          [21 Cols]: ['age', 'gender', 'dominant_race', 'dominant_emotion', 'region.x', 'region.y', 'region.w', 'region.h', 'race.asian', 'race.indian', 'race.black', 'race.white', 'race.middle eastern', 'race.latino hispanic', 'emotion.angry', 'emotion.disgust', 'emotion.fear', 'emotion.happy', 'emotion.sad', 'emotion.surprise', 'emotion.neutral']\n",
            "  ['1978May', 35, 'Woman', 'white', 'neutral', 466, 262, 180, 180, 5.435488645157027e-10, 1.2663145697319652e-10, 2.0801172900568134e-13, 99.99985694883549, 6.773074358316446e-05, 8.043117353943196e-05, 0.1268289942453202, 5.191717232486899e-05, 0.05555929132345565, 3.3439250793412376, 0.029610803485933153, 0.19650432521130592, 96.24751783892619]\n",
            "\n",
            "\n"
          ]
        },
        {
          "data": {
            "text/html": [
              "\n",
              "  <div id=\"df-f8c8d4db-5d36-4f34-8a45-dd016c140bb5\">\n",
              "    <div class=\"colab-df-container\">\n",
              "      <div>\n",
              "<style scoped>\n",
              "    .dataframe tbody tr th:only-of-type {\n",
              "        vertical-align: middle;\n",
              "    }\n",
              "\n",
              "    .dataframe tbody tr th {\n",
              "        vertical-align: top;\n",
              "    }\n",
              "\n",
              "    .dataframe thead th {\n",
              "        text-align: right;\n",
              "    }\n",
              "</style>\n",
              "<table border=\"1\" class=\"dataframe\">\n",
              "  <thead>\n",
              "    <tr style=\"text-align: right;\">\n",
              "      <th></th>\n",
              "      <th>age</th>\n",
              "      <th>gender</th>\n",
              "      <th>dominant_race</th>\n",
              "      <th>dominant_emotion</th>\n",
              "      <th>region.x</th>\n",
              "      <th>region.y</th>\n",
              "      <th>region.w</th>\n",
              "      <th>region.h</th>\n",
              "      <th>race.asian</th>\n",
              "      <th>race.indian</th>\n",
              "      <th>...</th>\n",
              "      <th>race.white</th>\n",
              "      <th>race.middle eastern</th>\n",
              "      <th>race.latino hispanic</th>\n",
              "      <th>emotion.angry</th>\n",
              "      <th>emotion.disgust</th>\n",
              "      <th>emotion.fear</th>\n",
              "      <th>emotion.happy</th>\n",
              "      <th>emotion.sad</th>\n",
              "      <th>emotion.surprise</th>\n",
              "      <th>emotion.neutral</th>\n",
              "    </tr>\n",
              "  </thead>\n",
              "  <tbody>\n",
              "    <tr>\n",
              "      <th>0</th>\n",
              "      <td>35</td>\n",
              "      <td>Woman</td>\n",
              "      <td>white</td>\n",
              "      <td>neutral</td>\n",
              "      <td>466</td>\n",
              "      <td>262</td>\n",
              "      <td>180</td>\n",
              "      <td>180</td>\n",
              "      <td>5.435489e-10</td>\n",
              "      <td>1.266315e-10</td>\n",
              "      <td>...</td>\n",
              "      <td>99.999857</td>\n",
              "      <td>0.000068</td>\n",
              "      <td>0.00008</td>\n",
              "      <td>0.126829</td>\n",
              "      <td>0.000052</td>\n",
              "      <td>0.055559</td>\n",
              "      <td>3.343925</td>\n",
              "      <td>0.029611</td>\n",
              "      <td>0.196504</td>\n",
              "      <td>96.247518</td>\n",
              "    </tr>\n",
              "  </tbody>\n",
              "</table>\n",
              "<p>1 rows × 21 columns</p>\n",
              "</div>\n",
              "      <button class=\"colab-df-convert\" onclick=\"convertToInteractive('df-f8c8d4db-5d36-4f34-8a45-dd016c140bb5')\"\n",
              "              title=\"Convert this dataframe to an interactive table.\"\n",
              "              style=\"display:none;\">\n",
              "        \n",
              "  <svg xmlns=\"http://www.w3.org/2000/svg\" height=\"24px\"viewBox=\"0 0 24 24\"\n",
              "       width=\"24px\">\n",
              "    <path d=\"M0 0h24v24H0V0z\" fill=\"none\"/>\n",
              "    <path d=\"M18.56 5.44l.94 2.06.94-2.06 2.06-.94-2.06-.94-.94-2.06-.94 2.06-2.06.94zm-11 1L8.5 8.5l.94-2.06 2.06-.94-2.06-.94L8.5 2.5l-.94 2.06-2.06.94zm10 10l.94 2.06.94-2.06 2.06-.94-2.06-.94-.94-2.06-.94 2.06-2.06.94z\"/><path d=\"M17.41 7.96l-1.37-1.37c-.4-.4-.92-.59-1.43-.59-.52 0-1.04.2-1.43.59L10.3 9.45l-7.72 7.72c-.78.78-.78 2.05 0 2.83L4 21.41c.39.39.9.59 1.41.59.51 0 1.02-.2 1.41-.59l7.78-7.78 2.81-2.81c.8-.78.8-2.07 0-2.86zM5.41 20L4 18.59l7.72-7.72 1.47 1.35L5.41 20z\"/>\n",
              "  </svg>\n",
              "      </button>\n",
              "      \n",
              "  <style>\n",
              "    .colab-df-container {\n",
              "      display:flex;\n",
              "      flex-wrap:wrap;\n",
              "      gap: 12px;\n",
              "    }\n",
              "\n",
              "    .colab-df-convert {\n",
              "      background-color: #E8F0FE;\n",
              "      border: none;\n",
              "      border-radius: 50%;\n",
              "      cursor: pointer;\n",
              "      display: none;\n",
              "      fill: #1967D2;\n",
              "      height: 32px;\n",
              "      padding: 0 0 0 0;\n",
              "      width: 32px;\n",
              "    }\n",
              "\n",
              "    .colab-df-convert:hover {\n",
              "      background-color: #E2EBFA;\n",
              "      box-shadow: 0px 1px 2px rgba(60, 64, 67, 0.3), 0px 1px 3px 1px rgba(60, 64, 67, 0.15);\n",
              "      fill: #174EA6;\n",
              "    }\n",
              "\n",
              "    [theme=dark] .colab-df-convert {\n",
              "      background-color: #3B4455;\n",
              "      fill: #D2E3FC;\n",
              "    }\n",
              "\n",
              "    [theme=dark] .colab-df-convert:hover {\n",
              "      background-color: #434B5C;\n",
              "      box-shadow: 0px 1px 3px 1px rgba(0, 0, 0, 0.15);\n",
              "      filter: drop-shadow(0px 1px 2px rgba(0, 0, 0, 0.3));\n",
              "      fill: #FFFFFF;\n",
              "    }\n",
              "  </style>\n",
              "\n",
              "      <script>\n",
              "        const buttonEl =\n",
              "          document.querySelector('#df-f8c8d4db-5d36-4f34-8a45-dd016c140bb5 button.colab-df-convert');\n",
              "        buttonEl.style.display =\n",
              "          google.colab.kernel.accessAllowed ? 'block' : 'none';\n",
              "\n",
              "        async function convertToInteractive(key) {\n",
              "          const element = document.querySelector('#df-f8c8d4db-5d36-4f34-8a45-dd016c140bb5');\n",
              "          const dataTable =\n",
              "            await google.colab.kernel.invokeFunction('convertToInteractive',\n",
              "                                                     [key], {});\n",
              "          if (!dataTable) return;\n",
              "\n",
              "          const docLinkHtml = 'Like what you see? Visit the ' +\n",
              "            '<a target=\"_blank\" href=https://colab.research.google.com/notebooks/data_table.ipynb>data table notebook</a>'\n",
              "            + ' to learn more about interactive tables.';\n",
              "          element.innerHTML = '';\n",
              "          dataTable['output_type'] = 'display_data';\n",
              "          await google.colab.output.renderOutput(dataTable, element);\n",
              "          const docLink = document.createElement('div');\n",
              "          docLink.innerHTML = docLinkHtml;\n",
              "          element.appendChild(docLink);\n",
              "        }\n",
              "      </script>\n",
              "    </div>\n",
              "  </div>\n",
              "  "
            ],
            "text/plain": [
              "   age gender dominant_race dominant_emotion  region.x  region.y  region.w  \\\n",
              "0   35  Woman         white          neutral       466       262       180   \n",
              "\n",
              "   region.h    race.asian   race.indian  ...  race.white  race.middle eastern  \\\n",
              "0       180  5.435489e-10  1.266315e-10  ...   99.999857             0.000068   \n",
              "\n",
              "   race.latino hispanic  emotion.angry  emotion.disgust  emotion.fear  \\\n",
              "0               0.00008       0.126829         0.000052      0.055559   \n",
              "\n",
              "   emotion.happy  emotion.sad  emotion.surprise  emotion.neutral  \n",
              "0       3.343925     0.029611          0.196504        96.247518  \n",
              "\n",
              "[1 rows x 21 columns]"
            ]
          },
          "execution_count": 65,
          "metadata": {},
          "output_type": "execute_result"
        },
        {
          "name": "stdout",
          "output_type": "stream",
          "text": [
            "Processing 1978Mar.png: {'age': 32, 'region': {'x': 694, 'y': 374, 'w': 113, 'h': 113}, 'gender': 'Woman', 'race': {'asian': 0.48676224532796414, 'indian': 0.792020979048072, 'black': 0.07689624202564312, 'white': 71.02519101054615, 'middle eastern': 14.348854979804456, 'latino hispanic': 13.270276085750824}, 'dominant_race': 'white', 'emotion': {'angry': 0.11520101688802242, 'disgust': 2.0891051475541156e-10, 'fear': 6.553559750318527, 'happy': 1.527974120563158e-05, 'sad': 80.45914769172668, 'surprise': 0.0005827329005114734, 'neutral': 12.8714919090271}, 'dominant_emotion': 'sad'}\n",
            "          [21 Cols]: ['age', 'gender', 'dominant_race', 'dominant_emotion', 'region.x', 'region.y', 'region.w', 'region.h', 'race.asian', 'race.indian', 'race.black', 'race.white', 'race.middle eastern', 'race.latino hispanic', 'emotion.angry', 'emotion.disgust', 'emotion.fear', 'emotion.happy', 'emotion.sad', 'emotion.surprise', 'emotion.neutral']\n",
            "  ['1978Mar', 32, 'Woman', 'white', 'sad', 694, 374, 113, 113, 0.48676224532796414, 0.792020979048072, 0.07689624202564312, 71.02519101054615, 14.348854979804456, 13.270276085750824, 0.11520101688802242, 2.0891051475541156e-10, 6.553559750318527, 1.527974120563158e-05, 80.45914769172668, 0.0005827329005114734, 12.8714919090271]\n",
            "\n",
            "\n"
          ]
        },
        {
          "data": {
            "text/html": [
              "\n",
              "  <div id=\"df-2f040c75-c5e5-4848-9613-ce72c55e28a5\">\n",
              "    <div class=\"colab-df-container\">\n",
              "      <div>\n",
              "<style scoped>\n",
              "    .dataframe tbody tr th:only-of-type {\n",
              "        vertical-align: middle;\n",
              "    }\n",
              "\n",
              "    .dataframe tbody tr th {\n",
              "        vertical-align: top;\n",
              "    }\n",
              "\n",
              "    .dataframe thead th {\n",
              "        text-align: right;\n",
              "    }\n",
              "</style>\n",
              "<table border=\"1\" class=\"dataframe\">\n",
              "  <thead>\n",
              "    <tr style=\"text-align: right;\">\n",
              "      <th></th>\n",
              "      <th>age</th>\n",
              "      <th>gender</th>\n",
              "      <th>dominant_race</th>\n",
              "      <th>dominant_emotion</th>\n",
              "      <th>region.x</th>\n",
              "      <th>region.y</th>\n",
              "      <th>region.w</th>\n",
              "      <th>region.h</th>\n",
              "      <th>race.asian</th>\n",
              "      <th>race.indian</th>\n",
              "      <th>...</th>\n",
              "      <th>race.white</th>\n",
              "      <th>race.middle eastern</th>\n",
              "      <th>race.latino hispanic</th>\n",
              "      <th>emotion.angry</th>\n",
              "      <th>emotion.disgust</th>\n",
              "      <th>emotion.fear</th>\n",
              "      <th>emotion.happy</th>\n",
              "      <th>emotion.sad</th>\n",
              "      <th>emotion.surprise</th>\n",
              "      <th>emotion.neutral</th>\n",
              "    </tr>\n",
              "  </thead>\n",
              "  <tbody>\n",
              "    <tr>\n",
              "      <th>0</th>\n",
              "      <td>32</td>\n",
              "      <td>Woman</td>\n",
              "      <td>white</td>\n",
              "      <td>sad</td>\n",
              "      <td>694</td>\n",
              "      <td>374</td>\n",
              "      <td>113</td>\n",
              "      <td>113</td>\n",
              "      <td>0.486762</td>\n",
              "      <td>0.792021</td>\n",
              "      <td>...</td>\n",
              "      <td>71.025191</td>\n",
              "      <td>14.348855</td>\n",
              "      <td>13.270276</td>\n",
              "      <td>0.115201</td>\n",
              "      <td>2.089105e-10</td>\n",
              "      <td>6.55356</td>\n",
              "      <td>0.000015</td>\n",
              "      <td>80.459148</td>\n",
              "      <td>0.000583</td>\n",
              "      <td>12.871492</td>\n",
              "    </tr>\n",
              "  </tbody>\n",
              "</table>\n",
              "<p>1 rows × 21 columns</p>\n",
              "</div>\n",
              "      <button class=\"colab-df-convert\" onclick=\"convertToInteractive('df-2f040c75-c5e5-4848-9613-ce72c55e28a5')\"\n",
              "              title=\"Convert this dataframe to an interactive table.\"\n",
              "              style=\"display:none;\">\n",
              "        \n",
              "  <svg xmlns=\"http://www.w3.org/2000/svg\" height=\"24px\"viewBox=\"0 0 24 24\"\n",
              "       width=\"24px\">\n",
              "    <path d=\"M0 0h24v24H0V0z\" fill=\"none\"/>\n",
              "    <path d=\"M18.56 5.44l.94 2.06.94-2.06 2.06-.94-2.06-.94-.94-2.06-.94 2.06-2.06.94zm-11 1L8.5 8.5l.94-2.06 2.06-.94-2.06-.94L8.5 2.5l-.94 2.06-2.06.94zm10 10l.94 2.06.94-2.06 2.06-.94-2.06-.94-.94-2.06-.94 2.06-2.06.94z\"/><path d=\"M17.41 7.96l-1.37-1.37c-.4-.4-.92-.59-1.43-.59-.52 0-1.04.2-1.43.59L10.3 9.45l-7.72 7.72c-.78.78-.78 2.05 0 2.83L4 21.41c.39.39.9.59 1.41.59.51 0 1.02-.2 1.41-.59l7.78-7.78 2.81-2.81c.8-.78.8-2.07 0-2.86zM5.41 20L4 18.59l7.72-7.72 1.47 1.35L5.41 20z\"/>\n",
              "  </svg>\n",
              "      </button>\n",
              "      \n",
              "  <style>\n",
              "    .colab-df-container {\n",
              "      display:flex;\n",
              "      flex-wrap:wrap;\n",
              "      gap: 12px;\n",
              "    }\n",
              "\n",
              "    .colab-df-convert {\n",
              "      background-color: #E8F0FE;\n",
              "      border: none;\n",
              "      border-radius: 50%;\n",
              "      cursor: pointer;\n",
              "      display: none;\n",
              "      fill: #1967D2;\n",
              "      height: 32px;\n",
              "      padding: 0 0 0 0;\n",
              "      width: 32px;\n",
              "    }\n",
              "\n",
              "    .colab-df-convert:hover {\n",
              "      background-color: #E2EBFA;\n",
              "      box-shadow: 0px 1px 2px rgba(60, 64, 67, 0.3), 0px 1px 3px 1px rgba(60, 64, 67, 0.15);\n",
              "      fill: #174EA6;\n",
              "    }\n",
              "\n",
              "    [theme=dark] .colab-df-convert {\n",
              "      background-color: #3B4455;\n",
              "      fill: #D2E3FC;\n",
              "    }\n",
              "\n",
              "    [theme=dark] .colab-df-convert:hover {\n",
              "      background-color: #434B5C;\n",
              "      box-shadow: 0px 1px 3px 1px rgba(0, 0, 0, 0.15);\n",
              "      filter: drop-shadow(0px 1px 2px rgba(0, 0, 0, 0.3));\n",
              "      fill: #FFFFFF;\n",
              "    }\n",
              "  </style>\n",
              "\n",
              "      <script>\n",
              "        const buttonEl =\n",
              "          document.querySelector('#df-2f040c75-c5e5-4848-9613-ce72c55e28a5 button.colab-df-convert');\n",
              "        buttonEl.style.display =\n",
              "          google.colab.kernel.accessAllowed ? 'block' : 'none';\n",
              "\n",
              "        async function convertToInteractive(key) {\n",
              "          const element = document.querySelector('#df-2f040c75-c5e5-4848-9613-ce72c55e28a5');\n",
              "          const dataTable =\n",
              "            await google.colab.kernel.invokeFunction('convertToInteractive',\n",
              "                                                     [key], {});\n",
              "          if (!dataTable) return;\n",
              "\n",
              "          const docLinkHtml = 'Like what you see? Visit the ' +\n",
              "            '<a target=\"_blank\" href=https://colab.research.google.com/notebooks/data_table.ipynb>data table notebook</a>'\n",
              "            + ' to learn more about interactive tables.';\n",
              "          element.innerHTML = '';\n",
              "          dataTable['output_type'] = 'display_data';\n",
              "          await google.colab.output.renderOutput(dataTable, element);\n",
              "          const docLink = document.createElement('div');\n",
              "          docLink.innerHTML = docLinkHtml;\n",
              "          element.appendChild(docLink);\n",
              "        }\n",
              "      </script>\n",
              "    </div>\n",
              "  </div>\n",
              "  "
            ],
            "text/plain": [
              "   age gender dominant_race dominant_emotion  region.x  region.y  region.w  \\\n",
              "0   32  Woman         white              sad       694       374       113   \n",
              "\n",
              "   region.h  race.asian  race.indian  ...  race.white  race.middle eastern  \\\n",
              "0       113    0.486762     0.792021  ...   71.025191            14.348855   \n",
              "\n",
              "   race.latino hispanic  emotion.angry  emotion.disgust  emotion.fear  \\\n",
              "0             13.270276       0.115201     2.089105e-10       6.55356   \n",
              "\n",
              "   emotion.happy  emotion.sad  emotion.surprise  emotion.neutral  \n",
              "0       0.000015    80.459148          0.000583        12.871492  \n",
              "\n",
              "[1 rows x 21 columns]"
            ]
          },
          "execution_count": 65,
          "metadata": {},
          "output_type": "execute_result"
        },
        {
          "name": "stdout",
          "output_type": "stream",
          "text": [
            "Processing 1978Feb.png: {'age': 30, 'region': {'x': 450, 'y': 212, 'w': 139, 'h': 139}, 'gender': 'Woman', 'race': {'asian': 0.006201307775344418, 'indian': 0.003790193885282994, 'black': 0.00015763884933314297, 'white': 99.04409045243803, 'middle eastern': 0.4990675784091698, 'latino hispanic': 0.44668813104558774}, 'dominant_race': 'white', 'emotion': {'angry': 16.107642650604248, 'disgust': 0.0032911309972405434, 'fear': 27.731788158416748, 'happy': 0.003328810998937115, 'sad': 31.423726677894592, 'surprise': 0.017206082702614367, 'neutral': 24.71301406621933}, 'dominant_emotion': 'sad'}\n",
            "          [21 Cols]: ['age', 'gender', 'dominant_race', 'dominant_emotion', 'region.x', 'region.y', 'region.w', 'region.h', 'race.asian', 'race.indian', 'race.black', 'race.white', 'race.middle eastern', 'race.latino hispanic', 'emotion.angry', 'emotion.disgust', 'emotion.fear', 'emotion.happy', 'emotion.sad', 'emotion.surprise', 'emotion.neutral']\n",
            "  ['1978Feb', 30, 'Woman', 'white', 'sad', 450, 212, 139, 139, 0.006201307775344418, 0.003790193885282994, 0.00015763884933314297, 99.04409045243803, 0.4990675784091698, 0.44668813104558774, 16.107642650604248, 0.0032911309972405434, 27.731788158416748, 0.003328810998937115, 31.423726677894592, 0.017206082702614367, 24.71301406621933]\n",
            "\n",
            "\n"
          ]
        },
        {
          "data": {
            "text/html": [
              "\n",
              "  <div id=\"df-2b968b34-864f-41e8-abe8-e48d1b8b08f7\">\n",
              "    <div class=\"colab-df-container\">\n",
              "      <div>\n",
              "<style scoped>\n",
              "    .dataframe tbody tr th:only-of-type {\n",
              "        vertical-align: middle;\n",
              "    }\n",
              "\n",
              "    .dataframe tbody tr th {\n",
              "        vertical-align: top;\n",
              "    }\n",
              "\n",
              "    .dataframe thead th {\n",
              "        text-align: right;\n",
              "    }\n",
              "</style>\n",
              "<table border=\"1\" class=\"dataframe\">\n",
              "  <thead>\n",
              "    <tr style=\"text-align: right;\">\n",
              "      <th></th>\n",
              "      <th>age</th>\n",
              "      <th>gender</th>\n",
              "      <th>dominant_race</th>\n",
              "      <th>dominant_emotion</th>\n",
              "      <th>region.x</th>\n",
              "      <th>region.y</th>\n",
              "      <th>region.w</th>\n",
              "      <th>region.h</th>\n",
              "      <th>race.asian</th>\n",
              "      <th>race.indian</th>\n",
              "      <th>...</th>\n",
              "      <th>race.white</th>\n",
              "      <th>race.middle eastern</th>\n",
              "      <th>race.latino hispanic</th>\n",
              "      <th>emotion.angry</th>\n",
              "      <th>emotion.disgust</th>\n",
              "      <th>emotion.fear</th>\n",
              "      <th>emotion.happy</th>\n",
              "      <th>emotion.sad</th>\n",
              "      <th>emotion.surprise</th>\n",
              "      <th>emotion.neutral</th>\n",
              "    </tr>\n",
              "  </thead>\n",
              "  <tbody>\n",
              "    <tr>\n",
              "      <th>0</th>\n",
              "      <td>30</td>\n",
              "      <td>Woman</td>\n",
              "      <td>white</td>\n",
              "      <td>sad</td>\n",
              "      <td>450</td>\n",
              "      <td>212</td>\n",
              "      <td>139</td>\n",
              "      <td>139</td>\n",
              "      <td>0.006201</td>\n",
              "      <td>0.00379</td>\n",
              "      <td>...</td>\n",
              "      <td>99.04409</td>\n",
              "      <td>0.499068</td>\n",
              "      <td>0.446688</td>\n",
              "      <td>16.107643</td>\n",
              "      <td>0.003291</td>\n",
              "      <td>27.731788</td>\n",
              "      <td>0.003329</td>\n",
              "      <td>31.423727</td>\n",
              "      <td>0.017206</td>\n",
              "      <td>24.713014</td>\n",
              "    </tr>\n",
              "  </tbody>\n",
              "</table>\n",
              "<p>1 rows × 21 columns</p>\n",
              "</div>\n",
              "      <button class=\"colab-df-convert\" onclick=\"convertToInteractive('df-2b968b34-864f-41e8-abe8-e48d1b8b08f7')\"\n",
              "              title=\"Convert this dataframe to an interactive table.\"\n",
              "              style=\"display:none;\">\n",
              "        \n",
              "  <svg xmlns=\"http://www.w3.org/2000/svg\" height=\"24px\"viewBox=\"0 0 24 24\"\n",
              "       width=\"24px\">\n",
              "    <path d=\"M0 0h24v24H0V0z\" fill=\"none\"/>\n",
              "    <path d=\"M18.56 5.44l.94 2.06.94-2.06 2.06-.94-2.06-.94-.94-2.06-.94 2.06-2.06.94zm-11 1L8.5 8.5l.94-2.06 2.06-.94-2.06-.94L8.5 2.5l-.94 2.06-2.06.94zm10 10l.94 2.06.94-2.06 2.06-.94-2.06-.94-.94-2.06-.94 2.06-2.06.94z\"/><path d=\"M17.41 7.96l-1.37-1.37c-.4-.4-.92-.59-1.43-.59-.52 0-1.04.2-1.43.59L10.3 9.45l-7.72 7.72c-.78.78-.78 2.05 0 2.83L4 21.41c.39.39.9.59 1.41.59.51 0 1.02-.2 1.41-.59l7.78-7.78 2.81-2.81c.8-.78.8-2.07 0-2.86zM5.41 20L4 18.59l7.72-7.72 1.47 1.35L5.41 20z\"/>\n",
              "  </svg>\n",
              "      </button>\n",
              "      \n",
              "  <style>\n",
              "    .colab-df-container {\n",
              "      display:flex;\n",
              "      flex-wrap:wrap;\n",
              "      gap: 12px;\n",
              "    }\n",
              "\n",
              "    .colab-df-convert {\n",
              "      background-color: #E8F0FE;\n",
              "      border: none;\n",
              "      border-radius: 50%;\n",
              "      cursor: pointer;\n",
              "      display: none;\n",
              "      fill: #1967D2;\n",
              "      height: 32px;\n",
              "      padding: 0 0 0 0;\n",
              "      width: 32px;\n",
              "    }\n",
              "\n",
              "    .colab-df-convert:hover {\n",
              "      background-color: #E2EBFA;\n",
              "      box-shadow: 0px 1px 2px rgba(60, 64, 67, 0.3), 0px 1px 3px 1px rgba(60, 64, 67, 0.15);\n",
              "      fill: #174EA6;\n",
              "    }\n",
              "\n",
              "    [theme=dark] .colab-df-convert {\n",
              "      background-color: #3B4455;\n",
              "      fill: #D2E3FC;\n",
              "    }\n",
              "\n",
              "    [theme=dark] .colab-df-convert:hover {\n",
              "      background-color: #434B5C;\n",
              "      box-shadow: 0px 1px 3px 1px rgba(0, 0, 0, 0.15);\n",
              "      filter: drop-shadow(0px 1px 2px rgba(0, 0, 0, 0.3));\n",
              "      fill: #FFFFFF;\n",
              "    }\n",
              "  </style>\n",
              "\n",
              "      <script>\n",
              "        const buttonEl =\n",
              "          document.querySelector('#df-2b968b34-864f-41e8-abe8-e48d1b8b08f7 button.colab-df-convert');\n",
              "        buttonEl.style.display =\n",
              "          google.colab.kernel.accessAllowed ? 'block' : 'none';\n",
              "\n",
              "        async function convertToInteractive(key) {\n",
              "          const element = document.querySelector('#df-2b968b34-864f-41e8-abe8-e48d1b8b08f7');\n",
              "          const dataTable =\n",
              "            await google.colab.kernel.invokeFunction('convertToInteractive',\n",
              "                                                     [key], {});\n",
              "          if (!dataTable) return;\n",
              "\n",
              "          const docLinkHtml = 'Like what you see? Visit the ' +\n",
              "            '<a target=\"_blank\" href=https://colab.research.google.com/notebooks/data_table.ipynb>data table notebook</a>'\n",
              "            + ' to learn more about interactive tables.';\n",
              "          element.innerHTML = '';\n",
              "          dataTable['output_type'] = 'display_data';\n",
              "          await google.colab.output.renderOutput(dataTable, element);\n",
              "          const docLink = document.createElement('div');\n",
              "          docLink.innerHTML = docLinkHtml;\n",
              "          element.appendChild(docLink);\n",
              "        }\n",
              "      </script>\n",
              "    </div>\n",
              "  </div>\n",
              "  "
            ],
            "text/plain": [
              "   age gender dominant_race dominant_emotion  region.x  region.y  region.w  \\\n",
              "0   30  Woman         white              sad       450       212       139   \n",
              "\n",
              "   region.h  race.asian  race.indian  ...  race.white  race.middle eastern  \\\n",
              "0       139    0.006201      0.00379  ...    99.04409             0.499068   \n",
              "\n",
              "   race.latino hispanic  emotion.angry  emotion.disgust  emotion.fear  \\\n",
              "0              0.446688      16.107643         0.003291     27.731788   \n",
              "\n",
              "   emotion.happy  emotion.sad  emotion.surprise  emotion.neutral  \n",
              "0       0.003329    31.423727          0.017206        24.713014  \n",
              "\n",
              "[1 rows x 21 columns]"
            ]
          },
          "execution_count": 65,
          "metadata": {},
          "output_type": "execute_result"
        },
        {
          "name": "stdout",
          "output_type": "stream",
          "text": [
            "Processing 1978Nov.png: {'age': 28, 'region': {'x': 343, 'y': 998, 'w': 92, 'h': 92}, 'gender': 'Man', 'race': {'asian': 0.41918191127479076, 'indian': 0.8006986230611801, 'black': 0.34288184251636267, 'white': 56.51198625564575, 'middle eastern': 34.4692200422287, 'latino hispanic': 7.4560292065143585}, 'dominant_race': 'white', 'emotion': {'angry': 0.18572636181488633, 'disgust': 2.1282076101414305e-07, 'fear': 44.14812922477722, 'happy': 1.8523398786783218, 'sad': 6.694169342517853, 'surprise': 0.00466398851131089, 'neutral': 47.1149742603302}, 'dominant_emotion': 'neutral'}\n",
            "          [21 Cols]: ['age', 'gender', 'dominant_race', 'dominant_emotion', 'region.x', 'region.y', 'region.w', 'region.h', 'race.asian', 'race.indian', 'race.black', 'race.white', 'race.middle eastern', 'race.latino hispanic', 'emotion.angry', 'emotion.disgust', 'emotion.fear', 'emotion.happy', 'emotion.sad', 'emotion.surprise', 'emotion.neutral']\n",
            "  ['1978Nov', 28, 'Man', 'white', 'neutral', 343, 998, 92, 92, 0.41918191127479076, 0.8006986230611801, 0.34288184251636267, 56.51198625564575, 34.4692200422287, 7.4560292065143585, 0.18572636181488633, 2.1282076101414305e-07, 44.14812922477722, 1.8523398786783218, 6.694169342517853, 0.00466398851131089, 47.1149742603302]\n",
            "\n",
            "\n"
          ]
        },
        {
          "data": {
            "text/html": [
              "\n",
              "  <div id=\"df-39fc0c56-7da0-4e9e-9fae-5b5721e14324\">\n",
              "    <div class=\"colab-df-container\">\n",
              "      <div>\n",
              "<style scoped>\n",
              "    .dataframe tbody tr th:only-of-type {\n",
              "        vertical-align: middle;\n",
              "    }\n",
              "\n",
              "    .dataframe tbody tr th {\n",
              "        vertical-align: top;\n",
              "    }\n",
              "\n",
              "    .dataframe thead th {\n",
              "        text-align: right;\n",
              "    }\n",
              "</style>\n",
              "<table border=\"1\" class=\"dataframe\">\n",
              "  <thead>\n",
              "    <tr style=\"text-align: right;\">\n",
              "      <th></th>\n",
              "      <th>age</th>\n",
              "      <th>gender</th>\n",
              "      <th>dominant_race</th>\n",
              "      <th>dominant_emotion</th>\n",
              "      <th>region.x</th>\n",
              "      <th>region.y</th>\n",
              "      <th>region.w</th>\n",
              "      <th>region.h</th>\n",
              "      <th>race.asian</th>\n",
              "      <th>race.indian</th>\n",
              "      <th>...</th>\n",
              "      <th>race.white</th>\n",
              "      <th>race.middle eastern</th>\n",
              "      <th>race.latino hispanic</th>\n",
              "      <th>emotion.angry</th>\n",
              "      <th>emotion.disgust</th>\n",
              "      <th>emotion.fear</th>\n",
              "      <th>emotion.happy</th>\n",
              "      <th>emotion.sad</th>\n",
              "      <th>emotion.surprise</th>\n",
              "      <th>emotion.neutral</th>\n",
              "    </tr>\n",
              "  </thead>\n",
              "  <tbody>\n",
              "    <tr>\n",
              "      <th>0</th>\n",
              "      <td>28</td>\n",
              "      <td>Man</td>\n",
              "      <td>white</td>\n",
              "      <td>neutral</td>\n",
              "      <td>343</td>\n",
              "      <td>998</td>\n",
              "      <td>92</td>\n",
              "      <td>92</td>\n",
              "      <td>0.419182</td>\n",
              "      <td>0.800699</td>\n",
              "      <td>...</td>\n",
              "      <td>56.511986</td>\n",
              "      <td>34.46922</td>\n",
              "      <td>7.456029</td>\n",
              "      <td>0.185726</td>\n",
              "      <td>2.128208e-07</td>\n",
              "      <td>44.148129</td>\n",
              "      <td>1.85234</td>\n",
              "      <td>6.694169</td>\n",
              "      <td>0.004664</td>\n",
              "      <td>47.114974</td>\n",
              "    </tr>\n",
              "  </tbody>\n",
              "</table>\n",
              "<p>1 rows × 21 columns</p>\n",
              "</div>\n",
              "      <button class=\"colab-df-convert\" onclick=\"convertToInteractive('df-39fc0c56-7da0-4e9e-9fae-5b5721e14324')\"\n",
              "              title=\"Convert this dataframe to an interactive table.\"\n",
              "              style=\"display:none;\">\n",
              "        \n",
              "  <svg xmlns=\"http://www.w3.org/2000/svg\" height=\"24px\"viewBox=\"0 0 24 24\"\n",
              "       width=\"24px\">\n",
              "    <path d=\"M0 0h24v24H0V0z\" fill=\"none\"/>\n",
              "    <path d=\"M18.56 5.44l.94 2.06.94-2.06 2.06-.94-2.06-.94-.94-2.06-.94 2.06-2.06.94zm-11 1L8.5 8.5l.94-2.06 2.06-.94-2.06-.94L8.5 2.5l-.94 2.06-2.06.94zm10 10l.94 2.06.94-2.06 2.06-.94-2.06-.94-.94-2.06-.94 2.06-2.06.94z\"/><path d=\"M17.41 7.96l-1.37-1.37c-.4-.4-.92-.59-1.43-.59-.52 0-1.04.2-1.43.59L10.3 9.45l-7.72 7.72c-.78.78-.78 2.05 0 2.83L4 21.41c.39.39.9.59 1.41.59.51 0 1.02-.2 1.41-.59l7.78-7.78 2.81-2.81c.8-.78.8-2.07 0-2.86zM5.41 20L4 18.59l7.72-7.72 1.47 1.35L5.41 20z\"/>\n",
              "  </svg>\n",
              "      </button>\n",
              "      \n",
              "  <style>\n",
              "    .colab-df-container {\n",
              "      display:flex;\n",
              "      flex-wrap:wrap;\n",
              "      gap: 12px;\n",
              "    }\n",
              "\n",
              "    .colab-df-convert {\n",
              "      background-color: #E8F0FE;\n",
              "      border: none;\n",
              "      border-radius: 50%;\n",
              "      cursor: pointer;\n",
              "      display: none;\n",
              "      fill: #1967D2;\n",
              "      height: 32px;\n",
              "      padding: 0 0 0 0;\n",
              "      width: 32px;\n",
              "    }\n",
              "\n",
              "    .colab-df-convert:hover {\n",
              "      background-color: #E2EBFA;\n",
              "      box-shadow: 0px 1px 2px rgba(60, 64, 67, 0.3), 0px 1px 3px 1px rgba(60, 64, 67, 0.15);\n",
              "      fill: #174EA6;\n",
              "    }\n",
              "\n",
              "    [theme=dark] .colab-df-convert {\n",
              "      background-color: #3B4455;\n",
              "      fill: #D2E3FC;\n",
              "    }\n",
              "\n",
              "    [theme=dark] .colab-df-convert:hover {\n",
              "      background-color: #434B5C;\n",
              "      box-shadow: 0px 1px 3px 1px rgba(0, 0, 0, 0.15);\n",
              "      filter: drop-shadow(0px 1px 2px rgba(0, 0, 0, 0.3));\n",
              "      fill: #FFFFFF;\n",
              "    }\n",
              "  </style>\n",
              "\n",
              "      <script>\n",
              "        const buttonEl =\n",
              "          document.querySelector('#df-39fc0c56-7da0-4e9e-9fae-5b5721e14324 button.colab-df-convert');\n",
              "        buttonEl.style.display =\n",
              "          google.colab.kernel.accessAllowed ? 'block' : 'none';\n",
              "\n",
              "        async function convertToInteractive(key) {\n",
              "          const element = document.querySelector('#df-39fc0c56-7da0-4e9e-9fae-5b5721e14324');\n",
              "          const dataTable =\n",
              "            await google.colab.kernel.invokeFunction('convertToInteractive',\n",
              "                                                     [key], {});\n",
              "          if (!dataTable) return;\n",
              "\n",
              "          const docLinkHtml = 'Like what you see? Visit the ' +\n",
              "            '<a target=\"_blank\" href=https://colab.research.google.com/notebooks/data_table.ipynb>data table notebook</a>'\n",
              "            + ' to learn more about interactive tables.';\n",
              "          element.innerHTML = '';\n",
              "          dataTable['output_type'] = 'display_data';\n",
              "          await google.colab.output.renderOutput(dataTable, element);\n",
              "          const docLink = document.createElement('div');\n",
              "          docLink.innerHTML = docLinkHtml;\n",
              "          element.appendChild(docLink);\n",
              "        }\n",
              "      </script>\n",
              "    </div>\n",
              "  </div>\n",
              "  "
            ],
            "text/plain": [
              "   age gender dominant_race dominant_emotion  region.x  region.y  region.w  \\\n",
              "0   28    Man         white          neutral       343       998        92   \n",
              "\n",
              "   region.h  race.asian  race.indian  ...  race.white  race.middle eastern  \\\n",
              "0        92    0.419182     0.800699  ...   56.511986             34.46922   \n",
              "\n",
              "   race.latino hispanic  emotion.angry  emotion.disgust  emotion.fear  \\\n",
              "0              7.456029       0.185726     2.128208e-07     44.148129   \n",
              "\n",
              "   emotion.happy  emotion.sad  emotion.surprise  emotion.neutral  \n",
              "0        1.85234     6.694169          0.004664        47.114974  \n",
              "\n",
              "[1 rows x 21 columns]"
            ]
          },
          "execution_count": 65,
          "metadata": {},
          "output_type": "execute_result"
        },
        {
          "name": "stdout",
          "output_type": "stream",
          "text": [
            "Processing 1978Jun.png: {'age': 38, 'region': {'x': 433, 'y': 260, 'w': 166, 'h': 166}, 'gender': 'Woman', 'race': {'asian': 9.678073098484674e-06, 'indian': 7.4870129651571915e-06, 'black': 8.929192385487283e-08, 'white': 99.96757507324219, 'middle eastern': 0.01389094686601311, 'latino hispanic': 0.018515971896704286}, 'dominant_race': 'white', 'emotion': {'angry': 0.02196014654906351, 'disgust': 9.486370509782824e-06, 'fear': 0.0002876609075467881, 'happy': 93.55037731532781, 'sad': 0.003266669253361099, 'surprise': 7.31162318365848e-05, 'neutral': 6.424027702096427}, 'dominant_emotion': 'happy'}\n",
            "          [21 Cols]: ['age', 'gender', 'dominant_race', 'dominant_emotion', 'region.x', 'region.y', 'region.w', 'region.h', 'race.asian', 'race.indian', 'race.black', 'race.white', 'race.middle eastern', 'race.latino hispanic', 'emotion.angry', 'emotion.disgust', 'emotion.fear', 'emotion.happy', 'emotion.sad', 'emotion.surprise', 'emotion.neutral']\n",
            "  ['1978Jun', 38, 'Woman', 'white', 'happy', 433, 260, 166, 166, 9.678073098484674e-06, 7.4870129651571915e-06, 8.929192385487283e-08, 99.96757507324219, 0.01389094686601311, 0.018515971896704286, 0.02196014654906351, 9.486370509782824e-06, 0.0002876609075467881, 93.55037731532781, 0.003266669253361099, 7.31162318365848e-05, 6.424027702096427]\n",
            "\n",
            "\n"
          ]
        },
        {
          "data": {
            "text/html": [
              "\n",
              "  <div id=\"df-8a4b4ff4-3a3a-4b99-a092-8aa181ba1d05\">\n",
              "    <div class=\"colab-df-container\">\n",
              "      <div>\n",
              "<style scoped>\n",
              "    .dataframe tbody tr th:only-of-type {\n",
              "        vertical-align: middle;\n",
              "    }\n",
              "\n",
              "    .dataframe tbody tr th {\n",
              "        vertical-align: top;\n",
              "    }\n",
              "\n",
              "    .dataframe thead th {\n",
              "        text-align: right;\n",
              "    }\n",
              "</style>\n",
              "<table border=\"1\" class=\"dataframe\">\n",
              "  <thead>\n",
              "    <tr style=\"text-align: right;\">\n",
              "      <th></th>\n",
              "      <th>age</th>\n",
              "      <th>gender</th>\n",
              "      <th>dominant_race</th>\n",
              "      <th>dominant_emotion</th>\n",
              "      <th>region.x</th>\n",
              "      <th>region.y</th>\n",
              "      <th>region.w</th>\n",
              "      <th>region.h</th>\n",
              "      <th>race.asian</th>\n",
              "      <th>race.indian</th>\n",
              "      <th>...</th>\n",
              "      <th>race.white</th>\n",
              "      <th>race.middle eastern</th>\n",
              "      <th>race.latino hispanic</th>\n",
              "      <th>emotion.angry</th>\n",
              "      <th>emotion.disgust</th>\n",
              "      <th>emotion.fear</th>\n",
              "      <th>emotion.happy</th>\n",
              "      <th>emotion.sad</th>\n",
              "      <th>emotion.surprise</th>\n",
              "      <th>emotion.neutral</th>\n",
              "    </tr>\n",
              "  </thead>\n",
              "  <tbody>\n",
              "    <tr>\n",
              "      <th>0</th>\n",
              "      <td>38</td>\n",
              "      <td>Woman</td>\n",
              "      <td>white</td>\n",
              "      <td>happy</td>\n",
              "      <td>433</td>\n",
              "      <td>260</td>\n",
              "      <td>166</td>\n",
              "      <td>166</td>\n",
              "      <td>0.00001</td>\n",
              "      <td>0.000007</td>\n",
              "      <td>...</td>\n",
              "      <td>99.967575</td>\n",
              "      <td>0.013891</td>\n",
              "      <td>0.018516</td>\n",
              "      <td>0.02196</td>\n",
              "      <td>0.000009</td>\n",
              "      <td>0.000288</td>\n",
              "      <td>93.550377</td>\n",
              "      <td>0.003267</td>\n",
              "      <td>0.000073</td>\n",
              "      <td>6.424028</td>\n",
              "    </tr>\n",
              "  </tbody>\n",
              "</table>\n",
              "<p>1 rows × 21 columns</p>\n",
              "</div>\n",
              "      <button class=\"colab-df-convert\" onclick=\"convertToInteractive('df-8a4b4ff4-3a3a-4b99-a092-8aa181ba1d05')\"\n",
              "              title=\"Convert this dataframe to an interactive table.\"\n",
              "              style=\"display:none;\">\n",
              "        \n",
              "  <svg xmlns=\"http://www.w3.org/2000/svg\" height=\"24px\"viewBox=\"0 0 24 24\"\n",
              "       width=\"24px\">\n",
              "    <path d=\"M0 0h24v24H0V0z\" fill=\"none\"/>\n",
              "    <path d=\"M18.56 5.44l.94 2.06.94-2.06 2.06-.94-2.06-.94-.94-2.06-.94 2.06-2.06.94zm-11 1L8.5 8.5l.94-2.06 2.06-.94-2.06-.94L8.5 2.5l-.94 2.06-2.06.94zm10 10l.94 2.06.94-2.06 2.06-.94-2.06-.94-.94-2.06-.94 2.06-2.06.94z\"/><path d=\"M17.41 7.96l-1.37-1.37c-.4-.4-.92-.59-1.43-.59-.52 0-1.04.2-1.43.59L10.3 9.45l-7.72 7.72c-.78.78-.78 2.05 0 2.83L4 21.41c.39.39.9.59 1.41.59.51 0 1.02-.2 1.41-.59l7.78-7.78 2.81-2.81c.8-.78.8-2.07 0-2.86zM5.41 20L4 18.59l7.72-7.72 1.47 1.35L5.41 20z\"/>\n",
              "  </svg>\n",
              "      </button>\n",
              "      \n",
              "  <style>\n",
              "    .colab-df-container {\n",
              "      display:flex;\n",
              "      flex-wrap:wrap;\n",
              "      gap: 12px;\n",
              "    }\n",
              "\n",
              "    .colab-df-convert {\n",
              "      background-color: #E8F0FE;\n",
              "      border: none;\n",
              "      border-radius: 50%;\n",
              "      cursor: pointer;\n",
              "      display: none;\n",
              "      fill: #1967D2;\n",
              "      height: 32px;\n",
              "      padding: 0 0 0 0;\n",
              "      width: 32px;\n",
              "    }\n",
              "\n",
              "    .colab-df-convert:hover {\n",
              "      background-color: #E2EBFA;\n",
              "      box-shadow: 0px 1px 2px rgba(60, 64, 67, 0.3), 0px 1px 3px 1px rgba(60, 64, 67, 0.15);\n",
              "      fill: #174EA6;\n",
              "    }\n",
              "\n",
              "    [theme=dark] .colab-df-convert {\n",
              "      background-color: #3B4455;\n",
              "      fill: #D2E3FC;\n",
              "    }\n",
              "\n",
              "    [theme=dark] .colab-df-convert:hover {\n",
              "      background-color: #434B5C;\n",
              "      box-shadow: 0px 1px 3px 1px rgba(0, 0, 0, 0.15);\n",
              "      filter: drop-shadow(0px 1px 2px rgba(0, 0, 0, 0.3));\n",
              "      fill: #FFFFFF;\n",
              "    }\n",
              "  </style>\n",
              "\n",
              "      <script>\n",
              "        const buttonEl =\n",
              "          document.querySelector('#df-8a4b4ff4-3a3a-4b99-a092-8aa181ba1d05 button.colab-df-convert');\n",
              "        buttonEl.style.display =\n",
              "          google.colab.kernel.accessAllowed ? 'block' : 'none';\n",
              "\n",
              "        async function convertToInteractive(key) {\n",
              "          const element = document.querySelector('#df-8a4b4ff4-3a3a-4b99-a092-8aa181ba1d05');\n",
              "          const dataTable =\n",
              "            await google.colab.kernel.invokeFunction('convertToInteractive',\n",
              "                                                     [key], {});\n",
              "          if (!dataTable) return;\n",
              "\n",
              "          const docLinkHtml = 'Like what you see? Visit the ' +\n",
              "            '<a target=\"_blank\" href=https://colab.research.google.com/notebooks/data_table.ipynb>data table notebook</a>'\n",
              "            + ' to learn more about interactive tables.';\n",
              "          element.innerHTML = '';\n",
              "          dataTable['output_type'] = 'display_data';\n",
              "          await google.colab.output.renderOutput(dataTable, element);\n",
              "          const docLink = document.createElement('div');\n",
              "          docLink.innerHTML = docLinkHtml;\n",
              "          element.appendChild(docLink);\n",
              "        }\n",
              "      </script>\n",
              "    </div>\n",
              "  </div>\n",
              "  "
            ],
            "text/plain": [
              "   age gender dominant_race dominant_emotion  region.x  region.y  region.w  \\\n",
              "0   38  Woman         white            happy       433       260       166   \n",
              "\n",
              "   region.h  race.asian  race.indian  ...  race.white  race.middle eastern  \\\n",
              "0       166     0.00001     0.000007  ...   99.967575             0.013891   \n",
              "\n",
              "   race.latino hispanic  emotion.angry  emotion.disgust  emotion.fear  \\\n",
              "0              0.018516        0.02196         0.000009      0.000288   \n",
              "\n",
              "   emotion.happy  emotion.sad  emotion.surprise  emotion.neutral  \n",
              "0      93.550377     0.003267          0.000073         6.424028  \n",
              "\n",
              "[1 rows x 21 columns]"
            ]
          },
          "execution_count": 65,
          "metadata": {},
          "output_type": "execute_result"
        },
        {
          "name": "stdout",
          "output_type": "stream",
          "text": [
            "Processing 1978Oct.png: {'age': 44, 'region': {'x': 363, 'y': 531, 'w': 334, 'h': 334}, 'gender': 'Woman', 'race': {'asian': 1.0401744743315788e-08, 'indian': 6.372955635436384e-09, 'black': 8.105696696529899e-12, 'white': 99.99953508377075, 'middle eastern': 0.00039049145925673656, 'latino hispanic': 7.396723162855778e-05}, 'dominant_race': 'white', 'emotion': {'angry': 1.7388021392700703e-06, 'disgust': 9.228883917140757e-10, 'fear': 1.5985916461153426e-05, 'happy': 99.99893903744947, 'sad': 4.416655314548875e-06, 'surprise': 1.7236056081607133e-07, 'neutral': 0.0010370290184023656}, 'dominant_emotion': 'happy'}\n",
            "          [21 Cols]: ['age', 'gender', 'dominant_race', 'dominant_emotion', 'region.x', 'region.y', 'region.w', 'region.h', 'race.asian', 'race.indian', 'race.black', 'race.white', 'race.middle eastern', 'race.latino hispanic', 'emotion.angry', 'emotion.disgust', 'emotion.fear', 'emotion.happy', 'emotion.sad', 'emotion.surprise', 'emotion.neutral']\n",
            "  ['1978Oct', 44, 'Woman', 'white', 'happy', 363, 531, 334, 334, 1.0401744743315788e-08, 6.372955635436384e-09, 8.105696696529899e-12, 99.99953508377075, 0.00039049145925673656, 7.396723162855778e-05, 1.7388021392700703e-06, 9.228883917140757e-10, 1.5985916461153426e-05, 99.99893903744947, 4.416655314548875e-06, 1.7236056081607133e-07, 0.0010370290184023656]\n",
            "\n",
            "\n"
          ]
        },
        {
          "data": {
            "text/html": [
              "\n",
              "  <div id=\"df-86481f39-847e-49ab-a06d-6a9c696c8dcd\">\n",
              "    <div class=\"colab-df-container\">\n",
              "      <div>\n",
              "<style scoped>\n",
              "    .dataframe tbody tr th:only-of-type {\n",
              "        vertical-align: middle;\n",
              "    }\n",
              "\n",
              "    .dataframe tbody tr th {\n",
              "        vertical-align: top;\n",
              "    }\n",
              "\n",
              "    .dataframe thead th {\n",
              "        text-align: right;\n",
              "    }\n",
              "</style>\n",
              "<table border=\"1\" class=\"dataframe\">\n",
              "  <thead>\n",
              "    <tr style=\"text-align: right;\">\n",
              "      <th></th>\n",
              "      <th>age</th>\n",
              "      <th>gender</th>\n",
              "      <th>dominant_race</th>\n",
              "      <th>dominant_emotion</th>\n",
              "      <th>region.x</th>\n",
              "      <th>region.y</th>\n",
              "      <th>region.w</th>\n",
              "      <th>region.h</th>\n",
              "      <th>race.asian</th>\n",
              "      <th>race.indian</th>\n",
              "      <th>...</th>\n",
              "      <th>race.white</th>\n",
              "      <th>race.middle eastern</th>\n",
              "      <th>race.latino hispanic</th>\n",
              "      <th>emotion.angry</th>\n",
              "      <th>emotion.disgust</th>\n",
              "      <th>emotion.fear</th>\n",
              "      <th>emotion.happy</th>\n",
              "      <th>emotion.sad</th>\n",
              "      <th>emotion.surprise</th>\n",
              "      <th>emotion.neutral</th>\n",
              "    </tr>\n",
              "  </thead>\n",
              "  <tbody>\n",
              "    <tr>\n",
              "      <th>0</th>\n",
              "      <td>44</td>\n",
              "      <td>Woman</td>\n",
              "      <td>white</td>\n",
              "      <td>happy</td>\n",
              "      <td>363</td>\n",
              "      <td>531</td>\n",
              "      <td>334</td>\n",
              "      <td>334</td>\n",
              "      <td>1.040174e-08</td>\n",
              "      <td>6.372956e-09</td>\n",
              "      <td>...</td>\n",
              "      <td>99.999535</td>\n",
              "      <td>0.00039</td>\n",
              "      <td>0.000074</td>\n",
              "      <td>0.000002</td>\n",
              "      <td>9.228884e-10</td>\n",
              "      <td>0.000016</td>\n",
              "      <td>99.998939</td>\n",
              "      <td>0.000004</td>\n",
              "      <td>1.723606e-07</td>\n",
              "      <td>0.001037</td>\n",
              "    </tr>\n",
              "  </tbody>\n",
              "</table>\n",
              "<p>1 rows × 21 columns</p>\n",
              "</div>\n",
              "      <button class=\"colab-df-convert\" onclick=\"convertToInteractive('df-86481f39-847e-49ab-a06d-6a9c696c8dcd')\"\n",
              "              title=\"Convert this dataframe to an interactive table.\"\n",
              "              style=\"display:none;\">\n",
              "        \n",
              "  <svg xmlns=\"http://www.w3.org/2000/svg\" height=\"24px\"viewBox=\"0 0 24 24\"\n",
              "       width=\"24px\">\n",
              "    <path d=\"M0 0h24v24H0V0z\" fill=\"none\"/>\n",
              "    <path d=\"M18.56 5.44l.94 2.06.94-2.06 2.06-.94-2.06-.94-.94-2.06-.94 2.06-2.06.94zm-11 1L8.5 8.5l.94-2.06 2.06-.94-2.06-.94L8.5 2.5l-.94 2.06-2.06.94zm10 10l.94 2.06.94-2.06 2.06-.94-2.06-.94-.94-2.06-.94 2.06-2.06.94z\"/><path d=\"M17.41 7.96l-1.37-1.37c-.4-.4-.92-.59-1.43-.59-.52 0-1.04.2-1.43.59L10.3 9.45l-7.72 7.72c-.78.78-.78 2.05 0 2.83L4 21.41c.39.39.9.59 1.41.59.51 0 1.02-.2 1.41-.59l7.78-7.78 2.81-2.81c.8-.78.8-2.07 0-2.86zM5.41 20L4 18.59l7.72-7.72 1.47 1.35L5.41 20z\"/>\n",
              "  </svg>\n",
              "      </button>\n",
              "      \n",
              "  <style>\n",
              "    .colab-df-container {\n",
              "      display:flex;\n",
              "      flex-wrap:wrap;\n",
              "      gap: 12px;\n",
              "    }\n",
              "\n",
              "    .colab-df-convert {\n",
              "      background-color: #E8F0FE;\n",
              "      border: none;\n",
              "      border-radius: 50%;\n",
              "      cursor: pointer;\n",
              "      display: none;\n",
              "      fill: #1967D2;\n",
              "      height: 32px;\n",
              "      padding: 0 0 0 0;\n",
              "      width: 32px;\n",
              "    }\n",
              "\n",
              "    .colab-df-convert:hover {\n",
              "      background-color: #E2EBFA;\n",
              "      box-shadow: 0px 1px 2px rgba(60, 64, 67, 0.3), 0px 1px 3px 1px rgba(60, 64, 67, 0.15);\n",
              "      fill: #174EA6;\n",
              "    }\n",
              "\n",
              "    [theme=dark] .colab-df-convert {\n",
              "      background-color: #3B4455;\n",
              "      fill: #D2E3FC;\n",
              "    }\n",
              "\n",
              "    [theme=dark] .colab-df-convert:hover {\n",
              "      background-color: #434B5C;\n",
              "      box-shadow: 0px 1px 3px 1px rgba(0, 0, 0, 0.15);\n",
              "      filter: drop-shadow(0px 1px 2px rgba(0, 0, 0, 0.3));\n",
              "      fill: #FFFFFF;\n",
              "    }\n",
              "  </style>\n",
              "\n",
              "      <script>\n",
              "        const buttonEl =\n",
              "          document.querySelector('#df-86481f39-847e-49ab-a06d-6a9c696c8dcd button.colab-df-convert');\n",
              "        buttonEl.style.display =\n",
              "          google.colab.kernel.accessAllowed ? 'block' : 'none';\n",
              "\n",
              "        async function convertToInteractive(key) {\n",
              "          const element = document.querySelector('#df-86481f39-847e-49ab-a06d-6a9c696c8dcd');\n",
              "          const dataTable =\n",
              "            await google.colab.kernel.invokeFunction('convertToInteractive',\n",
              "                                                     [key], {});\n",
              "          if (!dataTable) return;\n",
              "\n",
              "          const docLinkHtml = 'Like what you see? Visit the ' +\n",
              "            '<a target=\"_blank\" href=https://colab.research.google.com/notebooks/data_table.ipynb>data table notebook</a>'\n",
              "            + ' to learn more about interactive tables.';\n",
              "          element.innerHTML = '';\n",
              "          dataTable['output_type'] = 'display_data';\n",
              "          await google.colab.output.renderOutput(dataTable, element);\n",
              "          const docLink = document.createElement('div');\n",
              "          docLink.innerHTML = docLinkHtml;\n",
              "          element.appendChild(docLink);\n",
              "        }\n",
              "      </script>\n",
              "    </div>\n",
              "  </div>\n",
              "  "
            ],
            "text/plain": [
              "   age gender dominant_race dominant_emotion  region.x  region.y  region.w  \\\n",
              "0   44  Woman         white            happy       363       531       334   \n",
              "\n",
              "   region.h    race.asian   race.indian  ...  race.white  race.middle eastern  \\\n",
              "0       334  1.040174e-08  6.372956e-09  ...   99.999535              0.00039   \n",
              "\n",
              "   race.latino hispanic  emotion.angry  emotion.disgust  emotion.fear  \\\n",
              "0              0.000074       0.000002     9.228884e-10      0.000016   \n",
              "\n",
              "   emotion.happy  emotion.sad  emotion.surprise  emotion.neutral  \n",
              "0      99.998939     0.000004      1.723606e-07         0.001037  \n",
              "\n",
              "[1 rows x 21 columns]"
            ]
          },
          "execution_count": 65,
          "metadata": {},
          "output_type": "execute_result"
        }
      ],
      "source": [
        "# Create list of row (each a list of row elements): cover_ls_ls\n",
        "# Create list of new col names: col_new_ls\n",
        "\n",
        "cover_face_df = pd.DataFrame()\n",
        "cover_ls_ls = []\n",
        "temp_df = pd.DataFrame()\n",
        "\n",
        "for cover_date, cover_features in cover_face_dt.items():\n",
        "  print(f'Processing {cover_date}: {cover_features}')\n",
        "  temp_df = pd.json_normalize(cover_features)\n",
        "  col_new_ls = temp_df.columns.to_list() #  ['_'.join(x.split('.')[2:]) for x in temp_df.columns]\n",
        "  print(f'          [{len(temp_df.columns)} Cols]: {col_new_ls}')\n",
        "  temp_ls = temp_df.iloc[0].to_list()\n",
        "  temp_ls = [cover_date.split('.')[0]] + temp_ls\n",
        "  print(f'  {temp_ls}\\n\\n')\n",
        "  cover_ls_ls.append(temp_ls)\n",
        "  cover_face_df.append(temp_df)\n",
        "\n",
        "col_new_ls.insert(0,'date')\n",
        "# col_new_ls = ['date'] + col_new_ls # ['_'.join(x.split('.')[2:]) for x in temp_df.columns]\n",
        "# col_new_ls = ['date'] + col_new_ls\n"
      ]
    },
    {
      "cell_type": "code",
      "execution_count": null,
      "metadata": {
        "colab": {
          "base_uri": "https://localhost:8080/"
        },
        "id": "thRdlNt07fOx",
        "outputId": "c3b55538-5f43-47cf-b16c-caf01b206406"
      },
      "outputs": [
        {
          "data": {
            "text/plain": [
              "7"
            ]
          },
          "execution_count": 52,
          "metadata": {},
          "output_type": "execute_result"
        },
        {
          "name": "stdout",
          "output_type": "stream",
          "text": [
            "\n",
            "\n"
          ]
        },
        {
          "data": {
            "text/plain": [
              "22"
            ]
          },
          "execution_count": 52,
          "metadata": {},
          "output_type": "execute_result"
        }
      ],
      "source": [
        "# Verify Correct Dimensions\n",
        "\n",
        "len(cover_ls_ls)\n",
        "print('\\n')\n",
        "len(cover_ls_ls[0])"
      ]
    },
    {
      "cell_type": "code",
      "execution_count": null,
      "metadata": {
        "colab": {
          "base_uri": "https://localhost:8080/",
          "height": 924
        },
        "id": "RGeBdAS5PAdP",
        "outputId": "882cf0ea-df60-4623-e1b2-26387fc27476"
      },
      "outputs": [
        {
          "data": {
            "text/html": [
              "\n",
              "  <div id=\"df-7603c24c-ac40-4e99-bd4e-0c5db5306153\">\n",
              "    <div class=\"colab-df-container\">\n",
              "      <div>\n",
              "<style scoped>\n",
              "    .dataframe tbody tr th:only-of-type {\n",
              "        vertical-align: middle;\n",
              "    }\n",
              "\n",
              "    .dataframe tbody tr th {\n",
              "        vertical-align: top;\n",
              "    }\n",
              "\n",
              "    .dataframe thead th {\n",
              "        text-align: right;\n",
              "    }\n",
              "</style>\n",
              "<table border=\"1\" class=\"dataframe\">\n",
              "  <thead>\n",
              "    <tr style=\"text-align: right;\">\n",
              "      <th></th>\n",
              "      <th>date</th>\n",
              "      <th>age</th>\n",
              "      <th>gender</th>\n",
              "      <th>dominant_race</th>\n",
              "      <th>dominant_emotion</th>\n",
              "      <th>region_x</th>\n",
              "      <th>region_y</th>\n",
              "      <th>region_w</th>\n",
              "      <th>region_h</th>\n",
              "      <th>race_asian</th>\n",
              "      <th>...</th>\n",
              "      <th>race_white</th>\n",
              "      <th>race_middle eastern</th>\n",
              "      <th>race_latino hispanic</th>\n",
              "      <th>emotion_angry</th>\n",
              "      <th>emotion_disgust</th>\n",
              "      <th>emotion_fear</th>\n",
              "      <th>emotion_happy</th>\n",
              "      <th>emotion_sad</th>\n",
              "      <th>emotion_surprise</th>\n",
              "      <th>emotion_neutral</th>\n",
              "    </tr>\n",
              "  </thead>\n",
              "  <tbody>\n",
              "    <tr>\n",
              "      <th>0</th>\n",
              "      <td>1978Apr</td>\n",
              "      <td>30</td>\n",
              "      <td>Woman</td>\n",
              "      <td>white</td>\n",
              "      <td>happy</td>\n",
              "      <td>689</td>\n",
              "      <td>532</td>\n",
              "      <td>96</td>\n",
              "      <td>96</td>\n",
              "      <td>7.697999e-01</td>\n",
              "      <td>...</td>\n",
              "      <td>77.072553</td>\n",
              "      <td>14.025090</td>\n",
              "      <td>7.323557</td>\n",
              "      <td>0.081104</td>\n",
              "      <td>3.915354e-09</td>\n",
              "      <td>0.000030</td>\n",
              "      <td>65.714169</td>\n",
              "      <td>0.125755</td>\n",
              "      <td>0.000173</td>\n",
              "      <td>34.078768</td>\n",
              "    </tr>\n",
              "    <tr>\n",
              "      <th>1</th>\n",
              "      <td>1978May</td>\n",
              "      <td>35</td>\n",
              "      <td>Woman</td>\n",
              "      <td>white</td>\n",
              "      <td>neutral</td>\n",
              "      <td>466</td>\n",
              "      <td>262</td>\n",
              "      <td>180</td>\n",
              "      <td>180</td>\n",
              "      <td>5.435489e-10</td>\n",
              "      <td>...</td>\n",
              "      <td>99.999857</td>\n",
              "      <td>0.000068</td>\n",
              "      <td>0.000080</td>\n",
              "      <td>0.126829</td>\n",
              "      <td>5.191717e-05</td>\n",
              "      <td>0.055559</td>\n",
              "      <td>3.343925</td>\n",
              "      <td>0.029611</td>\n",
              "      <td>0.196504</td>\n",
              "      <td>96.247518</td>\n",
              "    </tr>\n",
              "    <tr>\n",
              "      <th>2</th>\n",
              "      <td>1978Mar</td>\n",
              "      <td>32</td>\n",
              "      <td>Woman</td>\n",
              "      <td>white</td>\n",
              "      <td>sad</td>\n",
              "      <td>694</td>\n",
              "      <td>374</td>\n",
              "      <td>113</td>\n",
              "      <td>113</td>\n",
              "      <td>4.867622e-01</td>\n",
              "      <td>...</td>\n",
              "      <td>71.025191</td>\n",
              "      <td>14.348855</td>\n",
              "      <td>13.270276</td>\n",
              "      <td>0.115201</td>\n",
              "      <td>2.089105e-10</td>\n",
              "      <td>6.553560</td>\n",
              "      <td>0.000015</td>\n",
              "      <td>80.459148</td>\n",
              "      <td>0.000583</td>\n",
              "      <td>12.871492</td>\n",
              "    </tr>\n",
              "    <tr>\n",
              "      <th>3</th>\n",
              "      <td>1978Feb</td>\n",
              "      <td>30</td>\n",
              "      <td>Woman</td>\n",
              "      <td>white</td>\n",
              "      <td>sad</td>\n",
              "      <td>450</td>\n",
              "      <td>212</td>\n",
              "      <td>139</td>\n",
              "      <td>139</td>\n",
              "      <td>6.201308e-03</td>\n",
              "      <td>...</td>\n",
              "      <td>99.044090</td>\n",
              "      <td>0.499068</td>\n",
              "      <td>0.446688</td>\n",
              "      <td>16.107643</td>\n",
              "      <td>3.291131e-03</td>\n",
              "      <td>27.731788</td>\n",
              "      <td>0.003329</td>\n",
              "      <td>31.423727</td>\n",
              "      <td>0.017206</td>\n",
              "      <td>24.713014</td>\n",
              "    </tr>\n",
              "    <tr>\n",
              "      <th>4</th>\n",
              "      <td>1978Nov</td>\n",
              "      <td>28</td>\n",
              "      <td>Man</td>\n",
              "      <td>white</td>\n",
              "      <td>neutral</td>\n",
              "      <td>343</td>\n",
              "      <td>998</td>\n",
              "      <td>92</td>\n",
              "      <td>92</td>\n",
              "      <td>4.191819e-01</td>\n",
              "      <td>...</td>\n",
              "      <td>56.511986</td>\n",
              "      <td>34.469220</td>\n",
              "      <td>7.456029</td>\n",
              "      <td>0.185726</td>\n",
              "      <td>2.128208e-07</td>\n",
              "      <td>44.148129</td>\n",
              "      <td>1.852340</td>\n",
              "      <td>6.694169</td>\n",
              "      <td>0.004664</td>\n",
              "      <td>47.114974</td>\n",
              "    </tr>\n",
              "  </tbody>\n",
              "</table>\n",
              "<p>5 rows × 22 columns</p>\n",
              "</div>\n",
              "      <button class=\"colab-df-convert\" onclick=\"convertToInteractive('df-7603c24c-ac40-4e99-bd4e-0c5db5306153')\"\n",
              "              title=\"Convert this dataframe to an interactive table.\"\n",
              "              style=\"display:none;\">\n",
              "        \n",
              "  <svg xmlns=\"http://www.w3.org/2000/svg\" height=\"24px\"viewBox=\"0 0 24 24\"\n",
              "       width=\"24px\">\n",
              "    <path d=\"M0 0h24v24H0V0z\" fill=\"none\"/>\n",
              "    <path d=\"M18.56 5.44l.94 2.06.94-2.06 2.06-.94-2.06-.94-.94-2.06-.94 2.06-2.06.94zm-11 1L8.5 8.5l.94-2.06 2.06-.94-2.06-.94L8.5 2.5l-.94 2.06-2.06.94zm10 10l.94 2.06.94-2.06 2.06-.94-2.06-.94-.94-2.06-.94 2.06-2.06.94z\"/><path d=\"M17.41 7.96l-1.37-1.37c-.4-.4-.92-.59-1.43-.59-.52 0-1.04.2-1.43.59L10.3 9.45l-7.72 7.72c-.78.78-.78 2.05 0 2.83L4 21.41c.39.39.9.59 1.41.59.51 0 1.02-.2 1.41-.59l7.78-7.78 2.81-2.81c.8-.78.8-2.07 0-2.86zM5.41 20L4 18.59l7.72-7.72 1.47 1.35L5.41 20z\"/>\n",
              "  </svg>\n",
              "      </button>\n",
              "      \n",
              "  <style>\n",
              "    .colab-df-container {\n",
              "      display:flex;\n",
              "      flex-wrap:wrap;\n",
              "      gap: 12px;\n",
              "    }\n",
              "\n",
              "    .colab-df-convert {\n",
              "      background-color: #E8F0FE;\n",
              "      border: none;\n",
              "      border-radius: 50%;\n",
              "      cursor: pointer;\n",
              "      display: none;\n",
              "      fill: #1967D2;\n",
              "      height: 32px;\n",
              "      padding: 0 0 0 0;\n",
              "      width: 32px;\n",
              "    }\n",
              "\n",
              "    .colab-df-convert:hover {\n",
              "      background-color: #E2EBFA;\n",
              "      box-shadow: 0px 1px 2px rgba(60, 64, 67, 0.3), 0px 1px 3px 1px rgba(60, 64, 67, 0.15);\n",
              "      fill: #174EA6;\n",
              "    }\n",
              "\n",
              "    [theme=dark] .colab-df-convert {\n",
              "      background-color: #3B4455;\n",
              "      fill: #D2E3FC;\n",
              "    }\n",
              "\n",
              "    [theme=dark] .colab-df-convert:hover {\n",
              "      background-color: #434B5C;\n",
              "      box-shadow: 0px 1px 3px 1px rgba(0, 0, 0, 0.15);\n",
              "      filter: drop-shadow(0px 1px 2px rgba(0, 0, 0, 0.3));\n",
              "      fill: #FFFFFF;\n",
              "    }\n",
              "  </style>\n",
              "\n",
              "      <script>\n",
              "        const buttonEl =\n",
              "          document.querySelector('#df-7603c24c-ac40-4e99-bd4e-0c5db5306153 button.colab-df-convert');\n",
              "        buttonEl.style.display =\n",
              "          google.colab.kernel.accessAllowed ? 'block' : 'none';\n",
              "\n",
              "        async function convertToInteractive(key) {\n",
              "          const element = document.querySelector('#df-7603c24c-ac40-4e99-bd4e-0c5db5306153');\n",
              "          const dataTable =\n",
              "            await google.colab.kernel.invokeFunction('convertToInteractive',\n",
              "                                                     [key], {});\n",
              "          if (!dataTable) return;\n",
              "\n",
              "          const docLinkHtml = 'Like what you see? Visit the ' +\n",
              "            '<a target=\"_blank\" href=https://colab.research.google.com/notebooks/data_table.ipynb>data table notebook</a>'\n",
              "            + ' to learn more about interactive tables.';\n",
              "          element.innerHTML = '';\n",
              "          dataTable['output_type'] = 'display_data';\n",
              "          await google.colab.output.renderOutput(dataTable, element);\n",
              "          const docLink = document.createElement('div');\n",
              "          docLink.innerHTML = docLinkHtml;\n",
              "          element.appendChild(docLink);\n",
              "        }\n",
              "      </script>\n",
              "    </div>\n",
              "  </div>\n",
              "  "
            ],
            "text/plain": [
              "      date  age gender dominant_race dominant_emotion  region_x  region_y  \\\n",
              "0  1978Apr   30  Woman         white            happy       689       532   \n",
              "1  1978May   35  Woman         white          neutral       466       262   \n",
              "2  1978Mar   32  Woman         white              sad       694       374   \n",
              "3  1978Feb   30  Woman         white              sad       450       212   \n",
              "4  1978Nov   28    Man         white          neutral       343       998   \n",
              "\n",
              "   region_w  region_h    race_asian  ...  race_white  race_middle eastern  \\\n",
              "0        96        96  7.697999e-01  ...   77.072553            14.025090   \n",
              "1       180       180  5.435489e-10  ...   99.999857             0.000068   \n",
              "2       113       113  4.867622e-01  ...   71.025191            14.348855   \n",
              "3       139       139  6.201308e-03  ...   99.044090             0.499068   \n",
              "4        92        92  4.191819e-01  ...   56.511986            34.469220   \n",
              "\n",
              "   race_latino hispanic  emotion_angry  emotion_disgust  emotion_fear  \\\n",
              "0              7.323557       0.081104     3.915354e-09      0.000030   \n",
              "1              0.000080       0.126829     5.191717e-05      0.055559   \n",
              "2             13.270276       0.115201     2.089105e-10      6.553560   \n",
              "3              0.446688      16.107643     3.291131e-03     27.731788   \n",
              "4              7.456029       0.185726     2.128208e-07     44.148129   \n",
              "\n",
              "   emotion_happy  emotion_sad  emotion_surprise  emotion_neutral  \n",
              "0      65.714169     0.125755          0.000173        34.078768  \n",
              "1       3.343925     0.029611          0.196504        96.247518  \n",
              "2       0.000015    80.459148          0.000583        12.871492  \n",
              "3       0.003329    31.423727          0.017206        24.713014  \n",
              "4       1.852340     6.694169          0.004664        47.114974  \n",
              "\n",
              "[5 rows x 22 columns]"
            ]
          },
          "execution_count": 67,
          "metadata": {},
          "output_type": "execute_result"
        },
        {
          "name": "stdout",
          "output_type": "stream",
          "text": [
            "<class 'pandas.core.frame.DataFrame'>\n",
            "RangeIndex: 7 entries, 0 to 6\n",
            "Data columns (total 22 columns):\n",
            " #   Column                Non-Null Count  Dtype  \n",
            "---  ------                --------------  -----  \n",
            " 0   date                  7 non-null      object \n",
            " 1   age                   7 non-null      int64  \n",
            " 2   gender                7 non-null      object \n",
            " 3   dominant_race         7 non-null      object \n",
            " 4   dominant_emotion      7 non-null      object \n",
            " 5   region_x              7 non-null      int64  \n",
            " 6   region_y              7 non-null      int64  \n",
            " 7   region_w              7 non-null      int64  \n",
            " 8   region_h              7 non-null      int64  \n",
            " 9   race_asian            7 non-null      float64\n",
            " 10  race_indian           7 non-null      float64\n",
            " 11  race_black            7 non-null      float64\n",
            " 12  race_white            7 non-null      float64\n",
            " 13  race_middle eastern   7 non-null      float64\n",
            " 14  race_latino hispanic  7 non-null      float64\n",
            " 15  emotion_angry         7 non-null      float64\n",
            " 16  emotion_disgust       7 non-null      float64\n",
            " 17  emotion_fear          7 non-null      float64\n",
            " 18  emotion_happy         7 non-null      float64\n",
            " 19  emotion_sad           7 non-null      float64\n",
            " 20  emotion_surprise      7 non-null      float64\n",
            " 21  emotion_neutral       7 non-null      float64\n",
            "dtypes: float64(13), int64(5), object(4)\n",
            "memory usage: 1.3+ KB\n"
          ]
        }
      ],
      "source": [
        "# Convert into DataFrame\n",
        "\n",
        "col_newer_ls = [x.replace('.','_') for x in col_new_ls]\n",
        "cover_all_df = pd.DataFrame(columns=col_newer_ls, data=cover_ls_ls)\n",
        "cover_all_df.head() \n",
        "cover_all_df.info()"
      ]
    },
    {
      "cell_type": "code",
      "execution_count": null,
      "metadata": {
        "id": "9ukcJ7C7fdj-"
      },
      "outputs": [],
      "source": []
    }
  ],
  "metadata": {
    "accelerator": "GPU",
    "colab": {
      "collapsed_sections": [],
      "provenance": [],
      "toc_visible": true
    },
    "gpuClass": "standard",
    "kernelspec": {
      "display_name": "Python 3",
      "name": "python3"
    },
    "language_info": {
      "name": "python"
    }
  },
  "nbformat": 4,
  "nbformat_minor": 0
}